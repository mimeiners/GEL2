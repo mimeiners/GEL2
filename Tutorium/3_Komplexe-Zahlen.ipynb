{
 "cells": [
  {
   "cell_type": "markdown",
   "id": "82d1687e",
   "metadata": {},
   "source": [
    "## 3. Komplexe Zahlen\n",
    "\n",
    "- Aufbau komplexer Zahlen\n",
    "- Addition\n",
    "- Subtraktion\n",
    "- Betrag einer komplexen Zahl\n",
    "- Polarkoordinaten\n",
    "- Multiplikation\n",
    "- Division\n",
    "- Kehrwert\n",
    "- Konjugiert-Komplex\n",
    "- Zeigerdiagramm"
   ]
  },
  {
   "cell_type": "markdown",
   "id": "6da6dce9",
   "metadata": {},
   "source": [
    "### Aufbau komplexer Zahlen\n",
    "\n",
    "Komplexe Zahlen bestehen aus einem Real- und einem Imaginärteil. Sie werden durch einen Unterstrich gekennzeichnet. Ist der Buchstabe nicht unterstrichen, wird von dem Betrag der Komplexen Zahl geredet.\n",
    "\n",
    "$$\\underline{A} = Re\\{\\underline{A}\\} + j \\cdot Im\\{\\underline{A}\\}$$\n",
    "\n",
    "In der Elektrotechnik wird zur Kennzeichnung des Imaginärteils oft der Buchstabe j anstelle des i verwendet, da das i für die Bezeichnung des Stromes vorhergesehen ist."
   ]
  },
  {
   "cell_type": "markdown",
   "id": "c0009378",
   "metadata": {},
   "source": [
    "### Rechenoperationen\n",
    "\n",
    "#### Addition von komplexen Zahlen\n",
    "\n",
    "Zwei Komplexe Zahlen $\\underline{A}$ und $\\underline{B}$ werden addiert, indem ihre Real- und Imaginärteile getrennt voneinander addiert werden.\n",
    "\n",
    "$$\\underline{A} + \\underline{B} = Re\\{\\underline{A}\\} + Re\\{\\underline{B}\\} + j(Im\\{\\underline{A}\\} + Im\\{\\underline{B}\\})$$"
   ]
  },
  {
   "cell_type": "markdown",
   "id": "f40da64e",
   "metadata": {},
   "source": [
    "#### Subtraktion von komplexen Zahlen\n",
    "\n",
    "Zwei Komplexe Zahlen $\\underline{A}$ und $\\underline{B}$ werden subtrahiert, indem ihre Real- und Imaginärteile getrennt voneinander abgezogen werden.\n",
    "\n",
    "$$\\underline{A} - \\underline{B} = Re\\{\\underline{A}\\} - Re\\{\\underline{B}\\} + j(Im\\{\\underline{A}\\} - Im\\{\\underline{B}\\})$$"
   ]
  },
  {
   "cell_type": "markdown",
   "id": "5b147d2d",
   "metadata": {},
   "source": [
    "#### Betrag einer komplexen Zahl\n",
    "\n",
    "Der Betrag einer komplexen Zahl $\\underline{A}$ ist die Euklidische Länge des Vektors, wenn dieser zum Beispiel in einem Koordinatensystem gezeichnet ist. Der Betrag wird als $|\\underline{A}|$ oder vereinfacht als A geschrieben.\n",
    "\n",
    "$$A = |\\underline{A}| = \\sqrt{Re\\{\\underline{A}\\}^2 + Im\\{\\underline{A}\\}^2}$$"
   ]
  },
  {
   "cell_type": "markdown",
   "id": "3a555f09",
   "metadata": {},
   "source": [
    "#### Phasenwinkel einer komplexen Zahl\n",
    "\n",
    "$$\\varphi = arctan\\left(\\frac{Im\\{\\underline{A}\\}}{Re\\{\\underline{A}\\}}\\right)$$\n",
    "\n",
    "Der Phasenwinkel wird überlicherweise von 0° bis 180° positiv (Zählweise CCW) und von 180° bis 360° negativ (Zählweise CW) angegeben."
   ]
  },
  {
   "cell_type": "markdown",
   "id": "1ae0cd85",
   "metadata": {},
   "source": [
    "#### Eulersche Identität und Polarkoordinaten\n",
    "\n",
    "Komplexe Zahlen können auch als Polarkoordinaten über die Eulersche Identität beschrieben werden. Dabei setzt sich das aus Betrag und Phasenwinkel zusammen.\n",
    "\n",
    "$$\\underline{A} = Re\\{\\underline{A}\\} + j \\cdot Im\\{\\underline{A}\\} = A \\cdot e^{j\\varphi}$$\n",
    "\n",
    "##### Eulersche Identität\n",
    "\n",
    "$$e^{j\\varphi} = cos(\\varphi) + j \\cdot sin(\\varphi)$$\n",
    "\n",
    "**_hier bild von zeigerdiagramm einfügen_**\n",
    "\n",
    "Die komplexe Zahl $e^{j\\varphi}$ hat immer den Betrag 1 und den Phasenwinkel $\\varphi$.\n"
   ]
  },
  {
   "cell_type": "markdown",
   "id": "0aee546e",
   "metadata": {},
   "source": [
    "#### Multiplikation komplexer Zahlen\n",
    "\n",
    "Die Multiplikation ist über die Polarkoordinaten einfacher.  \n",
    "Bei der Multiplikation werden die Beträge multipliziert und die Phasenwinkel addiert.\n",
    "\n",
    "$$\\underline{A} \\cdot \\underline{B} = A \\cdot B \\cdot e^{j(\\varphi_A + \\varphi_B)}$$"
   ]
  },
  {
   "cell_type": "markdown",
   "id": "2760dca4",
   "metadata": {},
   "source": [
    "#### Division komplexer Zahlen\n",
    "\n",
    "Ähnlich zur Multiplikation wird bei der Division die Beträge dividiert und die Phasenwinkel subtrahiert.\n",
    "\n",
    "$$\\frac{\\underline{A}}{\\underline{B}} = \\frac{A}{B} \\cdot e^{j(\\varphi_A - \\varphi_B)}$$"
   ]
  },
  {
   "cell_type": "markdown",
   "id": "aede3f68",
   "metadata": {},
   "source": [
    "#### Kehrwert einer komplexen Zahl\n",
    "\n",
    "Beim Kehrwert einer komplexen Zahl wird der Kehrwert des Betrages genommen und das Vorzeichen des Phasenwinkels invertiert.\n",
    "\n",
    "$$\\frac{1}{\\underline{A}} = \\frac{1}{A} \\cdot e^{-j\\varphi}$$"
   ]
  },
  {
   "cell_type": "markdown",
   "id": "4bfd049a",
   "metadata": {},
   "source": [
    "#### Konjugiert-Komplex\n",
    "\n",
    "Bei dem konjugiert-komplexen einer Zahl wird das Vorzeichen des Imaginärteils invertiert. Dadurch verändert sich der Betrag nicht, der Phasenwinkel wird allerdings auch invertiert.\n",
    "\n",
    "$$\\underline{A} = Re\\{\\underline{A}\\} + j \\cdot Im\\{\\underline{A}\\}$$\n",
    "\n",
    "$$\\underline{A}^* = Re\\{\\underline{A}\\} - j \\cdot Im\\{\\underline{A}\\}$$"
   ]
  },
  {
   "cell_type": "markdown",
   "id": "a7bf79d4",
   "metadata": {},
   "source": [
    "### Zeigerdiagramm"
   ]
  }
 ],
 "metadata": {
  "kernelspec": {
   "display_name": "Python 3 (ipykernel)",
   "language": "python",
   "name": "python3"
  },
  "language_info": {
   "codemirror_mode": {
    "name": "ipython",
    "version": 3
   },
   "file_extension": ".py",
   "mimetype": "text/x-python",
   "name": "python",
   "nbconvert_exporter": "python",
   "pygments_lexer": "ipython3",
   "version": "3.11.5"
  }
 },
 "nbformat": 4,
 "nbformat_minor": 5
}
