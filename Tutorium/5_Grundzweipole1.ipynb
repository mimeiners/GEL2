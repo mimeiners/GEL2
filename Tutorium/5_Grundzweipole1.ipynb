{
 "cells": [
  {
   "cell_type": "markdown",
   "metadata": {},
   "source": [
    "# 5 Verhalten der Grundzweipole 1\n",
    "\n",
    "- Zweipole\n",
    "- Wirkwiderstand\n",
    "- Kapazität"
   ]
  },
  {
   "cell_type": "markdown",
   "metadata": {},
   "source": [
    "## Zweipole\n",
    "\n",
    "Alle Bauelemente mit zwei Anschlüssen bezeichnet man als Zweipol. Wenn diese keine Energie erzeugen, ist dies ein passiver Zweipol.\n",
    "\n",
    "Aus Gleichstromschaltungen sind in Zusammenhang mit dem passiven Zweipole nur Widerstände R wirksam. Induktivitäten L verursachen bei Gleichstrom keine Spannung und Kapazitäten wirken bei Gleichstrom wie eine Leitungsunterbrechung.\n",
    "\n",
    "Da die Spannung und der Strom nun, da diese Größen nun Wechselgrößen sind, mit einem magnetischen und elektrischen Feld (siehe Elektrodynamik) verkettet sind, wirken sie jetzt anders auf Kapazitäten und Induktivitäten.\n",
    "\n",
    "Daher haben wir nun bei Wechselstrom, die drei passiven Zweipole Widerstand R, Kapazität C und Induktivität L. An diesen Bauteilen ist insbesondere auf den Zusammenhang von Spannung und Strom zu achten."
   ]
  },
  {
   "cell_type": "markdown",
   "metadata": {},
   "source": [
    "## Wirkwiderstand\n",
    "\n",
    "Als erstes betrachten wir den reinen Wirkwiderstand R (Resistanz) bzw. den reinen Wirkleitwert G = 1 / R (Konduktanz). Er liegt an einer Sinusspannung\n",
    "\n",
    "$$u = \\hat{u} \\cdot sin(\\omega t)$$"
   ]
  },
  {
   "cell_type": "markdown",
   "metadata": {},
   "source": [
    "### Spannung, Strom und Phasenwinkel\n",
    "\n",
    "Über das Ohmsche Gesetz kommt man an die Gleichung für den Strom:\n",
    "\n",
    "$$i = G \\cdot u = \\frac{u}{R} = \\frac{\\hat{u}}{R}sin(\\omega t) = \\hat{i} \\cdot sin(\\omega t)$$\n",
    "\n",
    "Strom i und Spannung u sind zu jeden Augenblick zueinander proportional (linearen Wirkwiderstand). Beide haben die gleiche Phasenlage, dass heißt einen Phasenwinkel von $\\varphi = 0$.\n",
    "\n",
    "(bild 3.17)"
   ]
  },
  {
   "cell_type": "markdown",
   "metadata": {},
   "source": [
    "### Wirkleistung\n",
    "\n",
    "Für den Zeitwert der Leistung gilt:\n",
    "\n",
    "$$P_t = u \\cdot i = i^2 \\cdot R = \\frac{u^2}{R} = \\hat{u} \\cdot \\hat{i} \\cdot sin^2(\\omega t)$$\n",
    "\n",
    "(bild 3.18)\n",
    "\n",
    "Der Zeitwert der Leistung schwingt mit der doppelten Frequenz und ist immer positiv. Der Wirkwiderstand R nimmt also immer Energie auf.\n",
    "\n",
    "Um einen Vergleich mit Gleichstrom machen zu können, schaut man sich die mittlere Leistung, also die Wirkleistung an:\n",
    "\n",
    "$$P = \\frac{1}{T} \\int\\limits_{0}^{T} u \\cdot i dt = \\frac{\\hat{u} \\cdot \\hat{i}}{2} = \\frac{\\hat{u}}{\\sqrt{2}} \\cdot \\frac{\\hat{i}}{\\sqrt{2}} = U \\cdot I = R \\cdot I^2 = \\frac{U^2}{R}$$\n",
    "\n",
    "Ein Heizofen, beispielsweise, erzeugt mit einer Nennspannung  U und Nennleitung P die gleiche Wärme an Gleich- und Sinusspannung mit gleichen Zahlenwerten."
   ]
  },
  {
   "cell_type": "markdown",
   "metadata": {},
   "source": [
    "## Kapazität\n",
    "\n",
    "Hier wird erst mal die reine Kapazität betrachtet, also der Einfluss des elektrischen Feldes. Der Zuleitungswiderstand, eventuelle Ableitungen, dielektrischen Verluste und der Einfluss des magnetischen Feldes werden vernachlässigt."
   ]
  },
  {
   "cell_type": "markdown",
   "metadata": {
    "jp-MarkdownHeadingCollapsed": true
   },
   "source": [
    "### Spannung, Strom und Phasenwinkel\n",
    "\n",
    "Für den Ladestrom einer Kapazität C gilt:\n",
    "\n",
    "```{important}\n",
    "$$i = C \\frac{du}{dt}$$\n",
    "```\n",
    "Betrachtet man den Strom, der sich wieder über die Sinusspannung ergibt, bekommt man diese Gleichung:\n",
    "\n",
    "$$i = C \\frac{d(\\hat{u} \\cdot sin(\\omega t))}{dt} = \\omega C \\hat{u} \\cdot cos(\\omega t)$$\n",
    "\n",
    "mit \n",
    "\n",
    "$$cos(\\omega t) = sin(\\omega t + \\pi/2)$$\n",
    "\n",
    "ergibt sich:\n",
    "\n",
    "$$i = \\omega C \\hat{u} \\cdot sin(\\omega t + \\pi/2) = \\hat{i} \\cdot sin(\\omega t + \\pi/2)$$\n",
    "\n",
    "(bild 3.22)\n",
    "\n",
    "Komplexer Schreibweise:\n",
    "\n",
    "$$\\underline{i} = C \\frac{d \\underline{u}}{dt} = C \\hat{u} \\frac{d e^{j \\omega t}}{dt} = j \\omega C \\hat{u} e^{j \\omega t} = j \\omega C \\underline{u}$$\n",
    "\n",
    "Der Strom i eilt also bei einer Kapazität C gegenüber der Spannung u um den Phasenwinkel $90° = \\pi/2$ vor.\n",
    "\n",
    "```{important}\n",
    "Merkspruch: Beim Kondensator eilt der Strom vor!\n",
    "```\n",
    "\n",
    "```{note}\n",
    "Da nach der Norm der Strom die Bezugsgröße ist, sagt man, dass der Phasenwinkel $\\varphi = - \\pi/2 = -90°$ ist.\n",
    "```"
   ]
  },
  {
   "cell_type": "markdown",
   "metadata": {},
   "source": [
    "### Kapazitiver Blindwiderstand\n",
    "\n",
    "Aus der obigen Gleichung könne wir den kapazitiven Blindleitwert $B_C$ ableiten:\n",
    "\n",
    "$$\\hat{i} = \\omega C \\hat{u} = B_C \\hat{u}$$\n",
    "\n",
    "mit\n",
    "\n",
    "$$B_C = \\omega C = \\frac{\\hat{i}}{\\hat{u}} = \\frac{I}{U}$$\n",
    "\n",
    "Stellt man dies komplex für den kapazitiven Blindwiderstand dar, erhält man:\n",
    "\n",
    "$$\\frac{\\underline{u}}{\\underline{i}} = \\frac{\\hat{u}}{\\hat{i}} = \\frac{\\underline{U}}{\\underline{I}} = \\frac{1}{j \\omega C} = \\frac{1}{j B_C} = j X_C$$"
   ]
  },
  {
   "cell_type": "markdown",
   "metadata": {},
   "source": [
    "### Kapazitive Blindleistung\n",
    "\n"
   ]
  }
 ],
 "metadata": {
  "kernelspec": {
   "display_name": "Python 3 (ipykernel)",
   "language": "python",
   "name": "python3"
  },
  "language_info": {
   "codemirror_mode": {
    "name": "ipython",
    "version": 3
   },
   "file_extension": ".py",
   "mimetype": "text/x-python",
   "name": "python",
   "nbconvert_exporter": "python",
   "pygments_lexer": "ipython3",
   "version": "3.11.8"
  }
 },
 "nbformat": 4,
 "nbformat_minor": 4
}
