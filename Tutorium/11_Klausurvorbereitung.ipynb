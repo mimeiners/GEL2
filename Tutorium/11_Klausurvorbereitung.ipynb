{
 "cells": [
  {
   "cell_type": "markdown",
   "metadata": {},
   "source": [
    "# 10. Klausurvorbereitung"
   ]
  },
  {
   "cell_type": "markdown",
   "metadata": {},
   "source": [
    "## Übungen\n",
    "\n",
    "- Weißgerber miese Ü-Fnkt.\n",
    "- Trafo aufgabe (evtl fricke seite 352 beispiel 3.117) oder schenke eine der übungsaufgaben aus dem skript oder hagmann 11.5\n",
    "- vlt. Bode???"
   ]
  }
 ],
 "metadata": {
  "language_info": {
   "name": "python"
  }
 },
 "nbformat": 4,
 "nbformat_minor": 2
}
