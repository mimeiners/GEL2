{
 "cells": [
  {
   "cell_type": "markdown",
   "metadata": {},
   "source": [
    "# Verhalten der Grundzweipole 2\n",
    "\n",
    "- Induktivität\n",
    "    - Spannung, Strom, Phasenwinkel\n",
    "    - Induktiver Blindwiderstand\n",
    "    - Induktive Blindleistung\n",
    "- Kapazitive Blindleistung\n",
    "- Kapazität und Induktivität im Vergleich"
   ]
  },
  {
   "cell_type": "markdown",
   "metadata": {},
   "source": [
    "## Induktivität\n",
    "\n",
    "Es wird hier eine reine Induktivität betrachtet, es werden also nur die Einflüsse des magnetischen Feldes berücksichtigt. Vernachlässigt werden die Wirkungen des elektrostatischen Feldes und der Leiterwiderstand."
   ]
  },
  {
   "cell_type": "markdown",
   "metadata": {},
   "source": [
    "### Spannung, Strom und Phasenwinkel\n",
    "\n",
    "An einer Induktivität gilt die Beziehung zwischen Spannung und Strom:\n",
    "\n",
    "```{important}\n",
    "$$u_L = L \\frac{di}{dt}$$\n",
    "````\n",
    "\n",
    "Setzt man für den Strom die Gleichung\n",
    "\n",
    "$$i = - \\hat{i} cos(\\omega t) = \\hat{i} sin(\\omega t - \\pi/2)$$\n",
    "\n",
    "ein, erhält man für den Verlauf der Spannung:\n",
    "\n",
    "$$u = L \\frac{di}{dt} = -L \\hat{i} \\frac{d(cos(\\omega t)}{dt} = \\omega L \\hat{i} sin(\\omega t) = \\hat{u} sin(\\omega t)$$\n",
    "\n",
    "![chap6_ui-induktivitaet](../images/Tutorium/chap6/chap6_ui-induktivitaet.jpg)\n",
    "\n",
    "In komplexer Schreibweise erhält man:\n",
    "\n",
    "$$\\underline{u} = L \\frac{d\\underline{i}}{dt} = L \\hat{i} \\frac{d(e^{j \\omega t})}{dt} = j \\omega L \\hat{i} e^{j \\omega t} = j \\omega L \\underline{i}$$\n",
    "\n",
    "Strom und Spannung zeigen eine Phasenverschiebung von $\\pi/2 = 90°$. Die Spannung eilt den Strom um den Phasenwinkel $\\varphi = \\pi/2 = 90°$ vor.\n",
    "\n",
    "```{important}\n",
    "Bei der Induktivität kommt der Strom zu spät!\n",
    "```"
   ]
  },
  {
   "cell_type": "markdown",
   "metadata": {},
   "source": [
    "### Induktiver Blindwiderstand\n",
    "\n",
    "Setzt man den Scheitelwert von Strom und Spannung ins Verhältnis erhält man:\n",
    "\n",
    "$$\\frac{\\hat{u}}{\\hat{i}} = \\frac{U}{I} = \\omega L = X_L$$\n",
    "\n",
    "Den Widerstand bezeichnet man als induktiven Blindwiderstand.\n",
    "\n",
    "Komplex dargestellt:\n",
    "\n",
    "$$\\frac{\\underline{u}}{\\underline{i}} = \\frac{\\underline{\\hat{u}}}{\\underline{\\hat{i}}} = \\frac{\\underline{U}}{\\underline{I}} = j \\omega L = j X_L = \\frac{1}{j B_L}$$\n",
    "\n",
    "Der induktive Blindleitwert nimmt daher negative Werte an:\n",
    "\n",
    "$$B_L = -\\frac{1}{\\omega L} = - \\frac{1}{X_L}$$"
   ]
  },
  {
   "cell_type": "markdown",
   "metadata": {},
   "source": [
    "### Induktive Blindleistung\n",
    "\n",
    "![chap6_leistung-induktivitaet](../images/Tutorium/chap6/chap6_leistung-induktivitaet.jpg)\n",
    "\n",
    "Die Leistung an einer Induktivität schwingt zwar, wie beim Wirkwiderstand mit doppelter Frequenz, aber wechselt immer zwischen positiv und negativ. Sie nimmt damit während einer Spannungs-Viertelperiode Energie auf und baut ein magnetischen Feld auf. Während der nächsten Spannungs-Viertelperiode wird das Magnetfeld unter Energieabgabe wieder abgebaut.\n",
    "\n",
    "Die mittlere Leistung, also die Wirkleistung, ist somit $P = 0$. Man nimmt daher auch zur Bezeichnung der Blindleistung den Formelbuchstaben P, sondern das Q. Es wird keine elektrische Energie in Wärme oder mechanische Leistung umgewandelt, deshalb nennt man es Blindleistung.\n",
    "\n",
    "$$Q = U I = I^2 X_L = -U^2 B_L$$"
   ]
  },
  {
   "cell_type": "markdown",
   "metadata": {},
   "source": [
    "## Kapazitive Blindleistung\n",
    "\n",
    "![chap6_leistung-kapazitaet](../images/Tutorium/chap6/chap6_leistung-kapazitet.jpg)\n",
    "\n",
    "Analog zur induktiven Blindleistung ist auch die kapazitive Blindleistung mit der doppelten Frequenz am schwingen und hat die mittlere Leistung, also Wirkleistung, $P = 0$. Die Energie kommt hier aus dem Auf- und Abbau elektrischer Felder.\n",
    "\n",
    "Im Vergleich zwischen kapazitiver und induktiver Blindleistung stellt man fest, dass diese um 180° versetzt zueinander schwingen. Man setzt daher die kapazitive Blindleistung negativ an.\n",
    "\n",
    "$$Q = - U I = -U^2 B_C = I^2 X_C$$"
   ]
  },
  {
   "cell_type": "markdown",
   "metadata": {},
   "source": [
    "## Allgemeiner passiver Sinusstrom-Zweipol\n",
    "\n",
    "### Scheinwiderstand und Scheinleitwert\n",
    "\n",
    "In einem Zweipol können Wirkwiderstände, Kapazitäten, Induktivitäten oder Kombinatationen daraus enthalten sein. Man nennt einen Widerstand, der aus Wirkwiderstände, Kapazitäten, Induktivitäten oder aus Kombinationen bestehen kann, einen Scheinwiderstand.\n",
    "\n",
    "$$Z = \\frac{U}{I} = \\frac{\\hat{u}}{\\hat{i}}$$\n",
    "\n",
    "Daneben gibt es auch den Scheinleitwert:\n",
    "\n",
    "$$Y = \\frac{1}{Z} = \\frac{I}{U} = \\frac{\\hat{i}}{\\hat{u}}$$\n",
    "\n",
    "oder komplex dargestellt:\n",
    "\n",
    "$$\\underline{Z} = \\frac{\\underline{u}}{\\underline{i}} = \\frac{\\underline{\\hat{u}}}{\\underline{\\hat{i}}} = \\frac{\\underline{U}}{\\underline{I}} = Z \\angle \\varphi = R + jX$$\n",
    "\n",
    "komplexer Leitwert:\n",
    "\n",
    "$$\\underline{Y} = \\frac{\\underline{I}}{\\underline{U}} = Y \\angle \\varphi_Y = \\frac{1}{Z} \\angle (-\\varphi) = G + jB$$\n",
    "\n",
    "![chap6_scheinleistung](../images/Tutorium/chap6/chap6_scheinleistung.jpg)"
   ]
  },
  {
   "cell_type": "markdown",
   "metadata": {},
   "source": [
    "### Leistungen\n",
    "\n",
    "Zeitwert der Leistung:\n",
    "\n",
    "$$S_t = u i = \\hat{u} \\hat{i} \\cdot sin(\\omega t) \\cdot sin(\\omega t + \\varphi) = \\frac{\\hat{u} \\hat{i}}{2} (cos(\\varphi) - cos(2 \\omega t + \\varphi)) = UI cos(\\varphi) - UI cos(2 \\omega t + \\varphi)$$\n",
    "\n",
    "$$S = U I = I^2 Z = \\frac{U^2}{Z}$$\n",
    "\n",
    "Es wird also im Zeitwert ein konstanter Leistungswert $S cos(\\varphi)$ von einer Leistungsschwingung $S cos(2 \\omega t + \\varphi)$ überlagert.\n",
    "\n",
    "Mittelwert oder Wirkleistung:\n",
    "\n",
    "$$P = S \\cdot cos(\\varphi) = U I \\cdot cos(\\varphi)$$\n",
    "\n",
    "Das Verhältnis der Wirkleistung zur Scheinleistung wird als Leistungsfaktor oder auch Wirkfaktor bezeichent.\n",
    "\n",
    "$$\\lambda = cos(\\varphi) = \\frac{P}{S}$$\n",
    "\n",
    "Scheinleistung kann aus Wirk- und Blindleistung bestehen. Die Blindleistung kann man über diese Formel berechnen:\n",
    "\n",
    "$$Q = U I \\cdot sin(\\varphi) = S \\cdot sin(\\varphi)$$\n",
    "\n",
    "Der Blindfaktor ist das Verhältnis von Blindleistung zu Scheinleistung:\n",
    "\n",
    "$$\\beta = sin(\\varphi) = \\frac{Q}{S}$$\n",
    "\n",
    "```{note}\n",
    "Um die Leistungen voneinander unterscheiden zu können, werden ihre Einheiten etwas umformuliert. Die Basis bildet das Watt (W). Dies bekommt die Wirkleistung, da diese bereits aus der Gleichstromtechnik so bekannt war. Die Scheinleistung wird mit VA (Volt-Ampere) gekennzeichent und die Blindleistung mit var (Volt-Ampere-Reaktiv). Hier ist auch Groß- und Kleinschreibung zu achten.\n",
    "```\n",
    "\n",
    "Man kann die Leistung auch komplex darstellen:\n",
    "\n",
    "$$\\underline{S} = S \\angle \\varphi = U I \\angle \\varphi = P + jQ$$\n",
    "\n",
    "Um die komplexe Leistung direkt aus dem komplexen Strom und der komplexen Spannung zu berechnen, muss man den konjugiert-komplexen Strom nehmen.\n",
    "\n",
    "$$\\underline{S} = \\underline{U} \\underline{I}^* = U \\angle \\varphi_U \\cdot I \\angle (-\\varphi_I) = U I \\angle (\\varphi_U - \\varphi_I) = U I \\angle \\varphi = S \\angle \\varphi = P + jQ$$"
   ]
  },
  {
   "cell_type": "markdown",
   "metadata": {},
   "source": [
    "### Begriffe\n",
    "\n",
    "| Deutsch                     | aus dem Lateinischen      |\n",
    "|-----------------------------|---------------------------|\n",
    "| Scheinwiderstand            | Impedanz                  |\n",
    "| Scheinleitwert              | Admittanz                 |\n",
    "| Wirkwiderstand              | Resistanz                 |\n",
    "| Wirkleitwert                | Konduktanz                |\n",
    "| Blindwiderstand             | Reaktanz                  |\n",
    "| Blindleitwert               | Suszeptanz                |\n",
    "| induktiver Blindwiderstand  | Induktanz (auch Reaktanz) |\n",
    "| kapazitiver Blindwiderstand | Kondensat oder Kapazitanz |"
   ]
  },
  {
   "cell_type": "markdown",
   "metadata": {},
   "source": [
    "### Übersichten\n",
    "\n",
    "![chap6_zusammenfassung-vaskefricke](../images/Tutorium/chap6/chap6_zusammenfassung-vaskefricke.jpg)\n",
    "\n",
    "![chap_zusammenfassung-westermann1](../images/Tutorium/chap6/chap6_zusammenfassung-westermann1.jpg)\n",
    "\n",
    "![chap_zusammenfassung-westermann2](../images/Tutorium/chap6/chap6_zusammenfassung-westermann2.jpg)"
   ]
  },
  {
   "cell_type": "markdown",
   "metadata": {},
   "source": [
    "## Übungen"
   ]
  },
  {
   "cell_type": "markdown",
   "metadata": {},
   "source": [
    "### Übung 6.1\n",
    "(Vaske/Fricke Beispiel 3.13)\n",
    "\n",
    "An eine Spule mit vernachlässigbar kleinem Wirkwiderstand $R$ wird die Sinusspannung $U = 125V$ mit der Frequenz $f = 40Hz$ gelegt. Der Strommesser zeigt den Sinusstrom $I = 10A$ an. Welche Induktivität $L$ hat die Spule?"
   ]
  },
  {
   "cell_type": "markdown",
   "metadata": {},
   "source": [
    "#### Lösung 6.1\n",
    "\n",
    "$$L = \\frac{U}{I \\omega} = \\frac{125V}{10A \\cdot 2 \\pi \\cdot 40Hz} = 49,73 mH$$"
   ]
  },
  {
   "cell_type": "markdown",
   "metadata": {},
   "source": [
    "### Übung 6.2\n",
    "(Vaske/Fricke Beispiel 3.21)\n",
    "\n",
    "Ein Verbraucher nimmt bei der Sinusspannung $U = 220V$ den Strom $I = 10A$ und die Leistung $P = 1500W$ auf. Wie groß sind Scheinleistung S, Wirkfaktor $cos(\\varphi)$, Blindfaktor $sin(\\varphi)$, Blindleistung $Q$ und Scheinwiderstand $Z$?"
   ]
  },
  {
   "cell_type": "markdown",
   "metadata": {},
   "source": [
    "#### Lösung 6.2\n",
    "\n",
    "$$S = U I = 220V \\cdot 10A = 2200 VA$$\n",
    "\n",
    "$$\\lambda = cos(\\varphi) = \\frac{P}{S} = \\frac{1500 W}{2200 VA} = 0,6818$$\n",
    "\n",
    "$$\\varphi = 47,01°$$\n",
    "\n",
    "$$sin(|\\varphi|) = 0,7315$$\n",
    "\n",
    "$$|Q| = S \\cdot sin(|\\varphi|) = 2200VA \\cdot 0,7315 = 1609,3 var$$\n",
    "\n",
    "$$Z = \\frac{U}{I} = \\frac{220V}{10A} = 22 \\Omega$$"
   ]
  },
  {
   "cell_type": "markdown",
   "metadata": {},
   "source": [
    "### Übung 6.3\n",
    "(Albach/Fischer Aufgabensammlung 8.1 4. Aufgabe)\n",
    "\n",
    "Das in der Abbildung gezeigte Netzwerk wird von einer harmonischen Spannung $\\underline{\\hat{u}}_0 = \\hat{u}_0 e^{j 0}$ erregt. Zeichnen Sie je ein Ersatzschaltbild des gezeigten Netzwerks für $ f -> 0 Hz$ und $f -> \\infty Hz$ und berechnen Sie für beide Fälle den Strom $\\underline{\\hat{i}}_R$ durch den Widerstand $R$ in Abhängigkeit von der Quellenspannung $\\underline{\\hat{u}}_0$.\n",
    "\n",
    "![chap6_6.3a](../images/Tutorium/chap6/chap6_6.3a.jpg)"
   ]
  },
  {
   "cell_type": "markdown",
   "metadata": {},
   "source": [
    "#### Lösung 6.3\n",
    "\n",
    "![chap6_6.3](../images/Tutorium/chap6/chap6_6.3.jpg)\n",
    "\n",
    "In beiden Grenzfällen gilt $\\underline{\\hat{i}}_R = 0$. "
   ]
  },
  {
   "cell_type": "markdown",
   "metadata": {},
   "source": [
    "### Übung 6.4\n",
    "(Albach/Fischer Aufgabensammlung 8.1 8. Aufgabe)\n",
    "\n",
    "Zu welchem der folgenden Netzwerke a bis c gehört das dargestellte Zeigerdiagramm?\n",
    "\n",
    "![chap6_6.4](../images/Tutorium/chap6/chap6_6.4.jpg)"
   ]
  },
  {
   "cell_type": "markdown",
   "metadata": {},
   "source": [
    "#### Lösung 6.4\n",
    "\n",
    "In der Reihenschaltung in Abb. a gilt $\\underline{\\hat{i}}_L = \\underline{\\hat{i}}C$ und bei der Parallelschaltung in Abb. c gilt $\\underline{\\hat{u}}_L = \\underline{\\hat{u}}_C$. Daher kann das Zeigerdiagramm nur zur Schaltung b gehören.\n",
    "\n",
    "Hier ist der Strom $\\underline{\\hat{i}}_R$ in Phase zur Kondensatorspannung. Wegen $\\underline{\\hat{i}}_L = \\underline{\\hat{i}}_R + \\underline{\\hat{i}}_C$ muss der Spulenstrom der Kondensatorspannung voreilen, dem Kondensatorstrom aber in Übereinstimmung mit den Zeigerdiagramm nacheilen."
   ]
  },
  {
   "cell_type": "markdown",
   "metadata": {},
   "source": [
    "### Übung 6.5\n",
    "(Hagmann Aufgabe 6.8)\n",
    "\n",
    "Eine Spule mit der Induktivität $L = 175 mH$ ist mit einem ohmschen Widerstand von $R = 40 \\Omega$ in Reihe geschaltet. Die Anordnung liegt nach Bild 6.8a an einer (sinusförmigen) Wechselspannung mit dem Effektivwert $U = 230V$ der Frequenz $f = 50 Hz$.\n",
    "\n",
    "a) Wie groß ist der Effektivwert $I$ des fließenden Stromes?\n",
    "\n",
    "b) Welcher Phasenverschiebungswinkel $\\varphi$ besteht zwischen der Spannung $\\underline{U}$ und dem Strom $\\underline{I}$?\n",
    "\n",
    "![chap6_6.5](../images/Tutorium/chap6/chap6_6.5.jpg)"
   ]
  },
  {
   "cell_type": "markdown",
   "metadata": {},
   "source": [
    "#### Lösung 6.5\n",
    "\n",
    "Blindwiderstand der Spule:\n",
    "\n",
    "$$\\omega L = 2 \\pi \\cdot 50Hz \\cdot 175mH = 54,98 \\Omega$$\n",
    "\n",
    "Impedanz der Schaltung (komplex):\n",
    "\n",
    "$$\\underline{Z} = R + j \\omega L = (40 + j54,98) \\Omega = 68 \\Omega \\angle 54°$$\n",
    "\n",
    "$\\underline{U}$ als Bezugsgröße und reell:\n",
    "\n",
    "$$\\underline{I} = \\frac{\\underline{U}}{\\underline{Z}} = \\frac{230V}{68 \\Omega \\angle 54°} = 3,38A \\angle (-54°)$$"
   ]
  },
  {
   "cell_type": "markdown",
   "metadata": {},
   "source": [
    "### Übung 6.6\n",
    "(Hagmann Aufgabe 6.12)\n",
    "\n",
    "Ein ohmscher Widerstand von $R = 100 \\Omega$ und eine Spule mit der Induktivität $L = 72mH$ liegen nach Bild 6.12a parallel an einer Spannungsquelle, die eine Spannung von $U = 36V$ der Frequenz $f = 400Hz$ liefert.\n",
    "\n",
    "a) Es sind die Teilströme $I_R$ und $I_L$ sowie der Gesamtstrom $I$ zu bestimmen.\n",
    "\n",
    "b) Um welchen Phasenwinkel $\\varphi$ eilt der Strom $\\underline{I}$ der Spannung $\\underline{U}$ nach?\n",
    "\n",
    "![chap6_6.6](../images/Tutorium/chap6/chap6_6.6.jpg)"
   ]
  },
  {
   "cell_type": "markdown",
   "metadata": {},
   "source": [
    "#### Lösung 6.6\n",
    "\n",
    "Blindwiderstand:\n",
    "\n",
    "$$\\omega L = 2 \\pi \\cdot 400HZ \\cdot 72mH = 181 \\Omega$$\n",
    "\n",
    "$\\underline{U}$ als Bezugsgröße und reell:\n",
    "\n",
    "$$\\underline{I}_R = \\frac{\\underline{U}}{R} = \\frac{36V}{100 \\Omega} = 360mA$$\n",
    "\n",
    "$$\\underline{I}_L = \\frac{\\underline{U}}{j \\omega L} = \\frac{36V}{j181\\Omega} = -j 199mA$$\n",
    "\n",
    "$$\\underline{I} = \\underline{I}_R + \\underline{I}_L = (360 - j199) mA = 411 mA \\angle (-28,9°)$$"
   ]
  },
  {
   "cell_type": "markdown",
   "metadata": {},
   "source": [
    "### Übung 6.7\n",
    "(Hagmann Aufgabe 6.13)\n",
    "\n",
    "Ein ohmscher Widerstand von $R_1 = 80 \\Omega$ ist nach Bild 6.13a mit einer Spule in Reihe geschaltet, die die Induktivität $L_1 = 12 mH$ besitzt. Die Reihenschaltung soll für die Frequenz $f = 1 kHz$ durch die in Bild 6.13b dargestellte Parallelschaltung ersetzt werden.\n",
    "\n",
    "Welche Werte sind für den Widerstand $R_2$ und die Induktivität $L_2$ erforderlich?\n",
    "\n",
    "![chap6_6.7](../images/Tutorium/chap6/chap6_6.7.jpg)"
   ]
  },
  {
   "cell_type": "markdown",
   "metadata": {},
   "source": [
    "#### Lösung 6.7\n",
    "\n",
    "Blindwiderstand Spule (Reihe):\n",
    "\n",
    "$$\\omega L_1 = 2 \\pi \\cdot 1 kHz \\cdot 12mH = 75,4 \\Omega$$\n",
    "\n",
    "Impedanz der Reihenschaltung:\n",
    "\n",
    "$$\\underline{Z}_1 = R_1 + j \\omega L_1 = (80 + j75,4) \\Omega$$\n",
    "\n",
    "Admittanz:\n",
    "\n",
    "$$\\underline{Y}_1 = \\frac{1}{\\underline{Z}_1} = \\frac{1}{(80 + j75,4) \\Omega} = (6,62 - j6,24) mS$$\n",
    "\n",
    "Admittanz der Parallelschaltung:\n",
    "\n",
    "$$\\underline{Y}_2 = \\frac{1}{R_2} - j\\frac{1}{\\omega L_2}$$\n",
    "\n",
    "Gleichsetzen:\n",
    "\n",
    "$$\\frac{1}{R_2} - j\\frac{1}{\\omega L_2} = (6,62 - j6,24) mS$$\n",
    "\n",
    "Wirkwiderstand (Parallel):\n",
    "\n",
    "$$R_2 = \\frac{1}{6,62 mS} = 151 \\Omega$$\n",
    "\n",
    "Blindwiderstand (Parallel):\n",
    "\n",
    "$$\\omega L_2 = \\frac{1}{6,24 mS} = 160 \\Omega$$\n",
    "\n",
    "Induktivität (Parallel):\n",
    "\n",
    "$$L_2 = \\frac{X_{L,2}}{\\omega} = \\frac{160 \\Omega}{2 \\pi \\cdot 1 kHz} = 25,5 mH$$"
   ]
  }
 ],
 "metadata": {
  "language_info": {
   "name": "python"
  }
 },
 "nbformat": 4,
 "nbformat_minor": 2
}
