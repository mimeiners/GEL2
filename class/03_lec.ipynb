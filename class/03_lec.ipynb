{
 "metadata":{},
 "nbformat":4,
 "nbformat_minor":5,
 "cells":[
  {
   "cell_type":"markdown",
   "id":"c2d1b061",
   "metadata":{
    "editable":true
   },
   "source":[
    "<!-- jupyter-book 03_lec.ipynb -->"
   ]
  },
  {
   "cell_type":"markdown",
   "id":"1b5d5a2a",
   "metadata":{
    "editable":true
   },
   "source":[
    "# Komplexe Wechselstromrechnung\n",
    "\n",
    "<div id=\"sec:kwr\"></div>"
   ]
  },
  {
   "cell_type":"markdown",
   "id":"1f92122e",
   "metadata":{
    "editable":true
   },
   "source":[
    "## Beschreibung und Analyse im Frequenzbereich (1)\n",
    "**Problemstellung.**\n",
    "\n",
    "Bei zuk\u00fcnftigen Schaltungen ist es nicht mehr m\u00f6glich, direkt mit den Zeitfunktionen f\u00fcr Spannungen und Str\u00f6me zu\n",
    "arbeiten.\n",
    "\n",
    "Die von den Gleichstromnetzen bekannten L\u00f6sungsverfahren aus dem ersten Semester, die von linearen algebraischen\n",
    "Gleichungssystemen ausgehen (Maschen-, Knoten- und andere Verfahren) k\u00f6nnen nicht \u00fcbernommen werden."
   ]
  },
  {
   "cell_type":"markdown",
   "id":"8a215b64",
   "metadata":{
    "editable":true
   },
   "source":[
    "## Beschreibung und Analyse im Frequenzbereich (2)\n",
    "**Symbolische Verfahren/Methoden.**\n",
    "\n",
    "  * komplexe Darstellung (analytisches Verfahren)\n",
    "\n",
    "  * Zeigerdarstellung (graphisches Verfahren)\n",
    "\n",
    "  * Wechselstromanalyse\n",
    "\n",
    "  * Betrachtungen beruhen auf der Verwendung sinusf\u00f6rmiger Eingangsgr\u00f6\u00dfen\n",
    "\n",
    "  * Zeitbereich ist physikalische Realit\u00e4t mit gew. und partiellen Differentialgleichung (ODE, PDE)\n",
    "\n",
    "  * Frequenzbereich hat mathematisch-formale Bedeutung"
   ]
  },
  {
   "cell_type":"markdown",
   "id":"1675bb36",
   "metadata":{
    "editable":true
   },
   "source":[
    "## Symbolisches Verfahren\n",
    "* Man ordnet nach einer gewissen Regel jeder Sinusgr\u00f6{\\ss}e eine symbolische Gr\u00f6{\\ss}e zu (z.B. einen Vektor oder eine komplexe Zahl);\n",
    "\n",
    "* Man schreibt die Differentialgleichungen des Netzwerkes mit den symbolischen Gr\u00f6{\\ss}en;\n",
    "\n",
    "* Statt die Differentialgleichungen zu l\u00f6sen, l\u00f6st man die Gleichungen f\u00fcr die Symbole und bestimmt die unbekannten Gr\u00f6{\\ss}en. \n",
    "\n",
    "* Man transformiert die gefundenen Symbolgr\u00f6{\\ss}en zur\u00fcck in die gesuchten Sinusgr\u00f6{\\ss}en.\n",
    "\n",
    "* entn. <a href=\"marinescu2016.html#marinescu2016\">[1]</a>"
   ]
  },
  {
   "cell_type":"markdown",
   "id":"da81d4cf",
   "metadata":{
    "editable":true
   },
   "source":[
    "## Vorteile des Frequenzbereichs\n",
    "* zeitl. Differentiation und Integration geht \u00fcber in Multiplikation und Division mit dem Differentialoperator $s=\\sigma+j\\omega$ (komplexe Frequenz); h\u00e4ufig gen\u00fcgt es sich auf die imagin\u00e4re Frequenz $s=j \\omega$ zu beschr\u00e4nken.\n",
    "\n",
    "* u-i-Zusammenh\u00e4nge des Zeitbereichs $\\rightarrow$ ohmsche Form im Frequenzbereich durch komplexen Widerstands-/Leitwertbegriff\n",
    "\n",
    "* ODE's gehen \u00fcber in algebraische Gleichungen\n",
    "\n",
    "* gleichwertige Darstellung harmonischer Funktionen durch komplexe Gr\u00f6\u00dfen $\\rightarrow$ Zeiger"
   ]
  },
  {
   "cell_type":"markdown",
   "id":"6b2bf357",
   "metadata":{
    "editable":true
   },
   "source":[
    "## Funktionaltransformation (1) - Euler'sche Formel"
   ]
  },
  {
   "cell_type":"markdown",
   "id":"ef168f12",
   "metadata":{
    "editable":true
   },
   "source":[
    "<!-- Equation labels as ordinary links -->\n",
    "<div id=\"_auto20\"></div>\n",
    "\n",
    "$$\n",
    "\\begin{equation}\n",
    "\\sigma + j \\omega = a e^{j \\varphi} = a \\left( \\cos(\\varphi) + j \\sin(\\varphi) \\right) \n",
    "\\label{_auto20} \\tag{20}\n",
    "\\end{equation}\n",
    "$$"
   ]
  },
  {
   "cell_type":"markdown",
   "id":"adce9a88",
   "metadata":{
    "editable":true
   },
   "source":[
    "<!-- Equation labels as ordinary links -->\n",
    "<div id=\"_auto21\"></div>\n",
    "\n",
    "$$\n",
    "\\begin{equation} \n",
    "a = \\sqrt{\\sigma^2 + \\omega^2} \\quad \\mbox{und} \\quad \\varphi = \\arctan\\left(\\frac{\\omega}{\\sigma}\\right)\n",
    "\\label{_auto21} \\tag{21}\n",
    "\\end{equation}\n",
    "$$"
   ]
  },
  {
   "cell_type":"markdown",
   "id":"c0bb54f4",
   "metadata":{
    "editable":true
   },
   "source":[
    "## Funktionaltransformation (2) - Exponentialdarstellung"
   ]
  },
  {
   "cell_type":"markdown",
   "id":"67d1ef09",
   "metadata":{
    "editable":true
   },
   "source":[
    "<!-- Equation labels as ordinary links -->\n",
    "<div id=\"_auto22\"></div>\n",
    "\n",
    "$$\n",
    "\\begin{equation}\n",
    "\\cos(n\\omega t) = \\frac{1}{2}\\left( e^{j n \\omega t} + e^{-jn\\omega t}\\right), \\quad n=0, 1, \\ldots \n",
    "\\label{_auto22} \\tag{22}\n",
    "\\end{equation}\n",
    "$$"
   ]
  },
  {
   "cell_type":"markdown",
   "id":"08ae5d3b",
   "metadata":{
    "editable":true
   },
   "source":[
    "<!-- Equation labels as ordinary links -->\n",
    "<div id=\"_auto23\"></div>\n",
    "\n",
    "$$\n",
    "\\begin{equation} \n",
    "\\sin(n\\omega t) = \\frac{1}{j2}\\left( e^{j n \\omega t} - e^{-jn\\omega t}\\right), \\quad n=0, 1, \\ldots\n",
    "\\label{_auto23} \\tag{23}\n",
    "\\end{equation}\n",
    "$$"
   ]
  },
  {
   "cell_type":"markdown",
   "id":"3bf2db49",
   "metadata":{
    "editable":true
   },
   "source":[
    "## Funktionaltransformation (3) - Transformation"
   ]
  },
  {
   "cell_type":"markdown",
   "id":"bdecbcdf",
   "metadata":{
    "editable":true
   },
   "source":[
    "<!-- Equation labels as ordinary links -->\n",
    "<div id=\"_auto24\"></div>\n",
    "\n",
    "$$\n",
    "\\begin{equation}\n",
    "f(t) = \\hat{A}\\cos(\\omega t + \\varphi_a) \n",
    "\\label{_auto24} \\tag{24}\n",
    "\\end{equation}\n",
    "$$"
   ]
  },
  {
   "cell_type":"markdown",
   "id":"ca18d28e",
   "metadata":{
    "editable":true
   },
   "source":[
    "<!-- Equation labels as ordinary links -->\n",
    "<div id=\"_auto25\"></div>\n",
    "\n",
    "$$\n",
    "\\begin{equation} \n",
    "= \\frac{1}{2} \\underbrace{\\hat{A} e^{j \\varphi_a}}_{Phasor} e^{j \\omega t}\n",
    "+ \\frac{1}{2} \\underbrace{\\hat{A} e^{-j\\varphi_a}}_{Phasor} e^{-j \\omega t} \n",
    "\\label{_auto25} \\tag{25}\n",
    "\\end{equation}\n",
    "$$"
   ]
  },
  {
   "cell_type":"markdown",
   "id":"770e07cd",
   "metadata":{
    "editable":true
   },
   "source":[
    "<!-- Equation labels as ordinary links -->\n",
    "<div id=\"_auto26\"></div>\n",
    "\n",
    "$$\n",
    "\\begin{equation} \n",
    "= \\frac{1}{2}\\underline{\\hat{A}} e^{j \\omega t} + \\frac{1}{2}\\underline{\\hat{A}}^{*} e^{-j \\omega t} \n",
    "\\label{_auto26} \\tag{26}\n",
    "\\end{equation}\n",
    "$$"
   ]
  },
  {
   "cell_type":"markdown",
   "id":"09be3355",
   "metadata":{
    "editable":true
   },
   "source":[
    "<!-- Equation labels as ordinary links -->\n",
    "<div id=\"_auto27\"></div>\n",
    "\n",
    "$$\n",
    "\\begin{equation} \n",
    "= \\mathfrak{Re}\\left\\{\\underline{\\hat{A}}e^{j\\omega t}\\right\\} \n",
    "\\label{_auto27} \\tag{27}\n",
    "\\end{equation}\n",
    "$$"
   ]
  },
  {
   "cell_type":"markdown",
   "id":"0cbd0b9a",
   "metadata":{
    "editable":true
   },
   "source":[
    "<!-- Equation labels as ordinary links -->\n",
    "<div id=\"_auto28\"></div>\n",
    "\n",
    "$$\n",
    "\\begin{equation} \n",
    "= \\mathfrak{Re}\\left\\{\\hat{A}e^{j \\varphi_a}e^{j \\omega t}\\right\\} \n",
    "\\label{_auto28} \\tag{28}\n",
    "\\end{equation}\n",
    "$$"
   ]
  },
  {
   "cell_type":"markdown",
   "id":"d9732c88",
   "metadata":{
    "editable":true
   },
   "source":[
    "<!-- Equation labels as ordinary links -->\n",
    "<div id=\"_auto29\"></div>\n",
    "\n",
    "$$\n",
    "\\begin{equation} \n",
    "= \\mathfrak{Re}\\left\\{\\hat{A}\\left( \\cos(\\omega t + \\varphi_a) + j \\sin(\\omega t + \\varphi_a)\\right)\\right\\}\n",
    "\\label{_auto29} \\tag{29}\n",
    "\\end{equation}\n",
    "$$"
   ]
  },
  {
   "cell_type":"markdown",
   "id":"f9e92cc3",
   "metadata":{
    "editable":true
   },
   "source":[
    "## Funktionaltransformation (4) - Definition"
   ]
  },
  {
   "cell_type":"markdown",
   "id":"47ba122e",
   "metadata":{
    "editable":true
   },
   "source":[
    "<!-- Equation labels as ordinary links -->\n",
    "<div id=\"_auto30\"></div>\n",
    "\n",
    "$$\n",
    "\\begin{equation}\n",
    "\\underline{f}(t) = \\underline{\\hat{A}} e^{j\\omega t} = \\hat{A} e^{j \\varphi_a} e^{j \\omega t}, \\quad \\mbox{rotierender Zeiger, komplexer Momentanwert} \n",
    "\\label{_auto30} \\tag{30}\n",
    "\\end{equation}\n",
    "$$"
   ]
  },
  {
   "cell_type":"markdown",
   "id":"cc509e54",
   "metadata":{
    "editable":true
   },
   "source":[
    "<!-- Equation labels as ordinary links -->\n",
    "<div id=\"_auto31\"></div>\n",
    "\n",
    "$$\n",
    "\\begin{equation} \n",
    "\\underline{f}(0) = \\underline{\\hat{A}} = \\hat{A} e^{j\\varphi_a}, \\quad \\mbox{ruhender Zeiger, komplexer Scheitelwert, Phasor} \n",
    "\\label{_auto31} \\tag{31}\n",
    "\\end{equation}\n",
    "$$"
   ]
  },
  {
   "cell_type":"markdown",
   "id":"61051dfe",
   "metadata":{
    "editable":true
   },
   "source":[
    "<!-- Equation labels as ordinary links -->\n",
    "<div id=\"_auto32\"></div>\n",
    "\n",
    "$$\n",
    "\\begin{equation} \n",
    "\\underline{A} = \\frac{1}{\\sqrt{2}} \\hat{A} e^{j \\varphi_a}, \\quad \\mbox{komplexer Effektivwert}\n",
    "\\label{_auto32} \\tag{32}\n",
    "\\end{equation}\n",
    "$$"
   ]
  },
  {
   "cell_type":"markdown",
   "id":"26ea7db9",
   "metadata":{
    "editable":true
   },
   "source":[
    "## Zeigerdarstellung (1)\n",
    "\n",
    "<!-- dom:FIGURE: [../../lecture/doconce/fig/lec3-zeigerdarstellung.png, width=400 frac=0.75] -->\n",
    "<!-- begin figure -->\n",
    "\n",
    "<img src=\"../../lecture/doconce/fig/lec3-zeigerdarstellung.png\" width=\"400\"><p style=\"font-size: 0.9em\"><i>Figure 8</i></p>\n",
    "<!-- end figure -->"
   ]
  },
  {
   "cell_type":"markdown",
   "id":"ad96a935",
   "metadata":{
    "editable":true
   },
   "source":[
    "## Zeigerdarstellung (2) - Grundschaltelemente\n",
    "* Sinusgr\u00f6\u00dfe $i(t) = I \\sqrt{2} \\sin(\\omega t + \\varphi)$\n",
    "\n",
    "* da alle in einer Schaltung vorkommenen Sinusgr\u00f6\u00dfen (meist) dieselbe Kreisfrequenz $\\omega$ aufweisen, kann man diese au\u00dfer Acht lassen und die Zeiger als stehend betrachten;\n",
    "\n",
    "* Der Faktor 2 in den Scheitelwerten aller Sinusgr\u00f6\u00dfen wird nicht ber\u00fccksichtigt und man arbeitet mit Effektivwerten, [...], vor allem zur Bestimmung von Leistungen. Man reduziert also die Zeigerl\u00e4ngen im Ma\u00dfstab $\\frac{1}{\\sqrt{2}}$."
   ]
  },
  {
   "cell_type":"markdown",
   "id":"cdc0f6c2",
   "metadata":{
    "editable":true
   },
   "source":[
    "## Komplexe Zahlen\n",
    "\n",
    "* Eingabe als Literal"
   ]
  },
  {
   "cell_type":"code",
   "execution_count":4,
   "id":"d74b4d4b",
   "metadata":{
    "collapsed":false,
    "editable":true
   },
   "outputs":[],
   "source":[
    "z = 3 + 2j"
   ]
  },
  {
   "cell_type":"markdown",
   "id":"21cfb01c",
   "metadata":{
    "editable":true
   },
   "source":[
    "* Eingabe als Funktion"
   ]
  },
  {
   "cell_type":"code",
   "execution_count":5,
   "id":"f05ab23b",
   "metadata":{
    "collapsed":false,
    "editable":true
   },
   "outputs":[],
   "source":[
    "z = complex(3, 2)"
   ]
  },
  {
   "cell_type":"markdown",
   "id":"a7cfc3d0",
   "metadata":{
    "editable":true
   },
   "source":[
    "* F\u00fcr mathematische Operationen ben\u00f6tigt man eine Bibliothek:"
   ]
  },
  {
   "cell_type":"code",
   "execution_count":6,
   "id":"5fc2e99d",
   "metadata":{
    "collapsed":false,
    "editable":true
   },
   "outputs":[],
   "source":[
    "import cmath, math, numpy\n",
    "\n",
    "z = 4 + 4j"
   ]
  },
  {
   "cell_type":"markdown",
   "id":"f0ab7fa4",
   "metadata":{
    "editable":true
   },
   "source":[
    "## Berechnung von Betrag und Phase"
   ]
  },
  {
   "cell_type":"code",
   "execution_count":7,
   "id":"d3d1ccb4",
   "metadata":{
    "collapsed":false,
    "editable":true
   },
   "outputs":[],
   "source":[
    "z_abs = abs(z) \n",
    "z_ph = cmath.phase(z)\n",
    "print('Betrag =', z_abs)\n",
    "print('Phase in rad =', z_ph)\n",
    "print('Phase in Grad =', numpy.degrees(z_ph))"
   ]
  },
  {
   "cell_type":"markdown",
   "id":"d5ae4806",
   "metadata":{
    "editable":true
   },
   "source":[
    "## Darstellung in der komplexen Ebene"
   ]
  },
  {
   "cell_type":"code",
   "execution_count":8,
   "id":"cae4d286",
   "metadata":{
    "collapsed":false,
    "editable":true
   },
   "outputs":[],
   "source":[
    "%matplotlib inline\n",
    "\n",
    "import matplotlib.pyplot as plt\n",
    "\n",
    "plt.plot(z.real, z.imag, 'x')"
   ]
  },
  {
   "cell_type":"markdown",
   "id":"2171dedc",
   "metadata":{
    "editable":true
   },
   "source":[
    "## Kartesische Form"
   ]
  },
  {
   "cell_type":"markdown",
   "id":"e316fc97",
   "metadata":{
    "editable":true
   },
   "source":[
    "## Polare Form"
   ]
  },
  {
   "cell_type":"markdown",
   "id":"3f907713",
   "metadata":{
    "editable":true
   },
   "source":[
    "## Kartesisch <-> Polar"
   ]
  },
  {
   "cell_type":"markdown",
   "id":"72132aa3",
   "metadata":{
    "editable":true
   },
   "source":[
    "## Euler's Formel"
   ]
  },
  {
   "cell_type":"markdown",
   "id":"ee820d0c",
   "metadata":{
    "editable":true
   },
   "source":[
    "## Euler's inverse Formel"
   ]
  },
  {
   "cell_type":"markdown",
   "id":"f9762435",
   "metadata":{
    "editable":true
   },
   "source":[
    "## Algebraische Regeln"
   ]
  }
 ]
}