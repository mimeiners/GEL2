{
 "cells": [
  {
   "cell_type": "markdown",
   "id": "d16c1595",
   "metadata": {
    "editable": true
   },
   "source": [
    "<!-- File automatically generated using DocOnce (https://github.com/doconce/doconce/):\n",
    "doconce format ipynb lec-03-komplexe-zahlen.do.txt  -->\n",
    "\n",
    "## Komplexe Zahlen\n",
    "\n",
    "* Eingabe als Literal"
   ]
  },
  {
   "cell_type": "code",
   "execution_count": 1,
   "id": "d74b4d4b",
   "metadata": {
    "collapsed": false,
    "editable": true
   },
   "outputs": [],
   "source": [
    "z = 3 + 2j"
   ]
  },
  {
   "cell_type": "markdown",
   "id": "21cfb01c",
   "metadata": {
    "editable": true
   },
   "source": [
    "* Eingabe als Funktion"
   ]
  },
  {
   "cell_type": "code",
   "execution_count": 2,
   "id": "f05ab23b",
   "metadata": {
    "collapsed": false,
    "editable": true
   },
   "outputs": [],
   "source": [
    "z = complex(3, 2)"
   ]
  },
  {
   "cell_type": "markdown",
   "id": "a7cfc3d0",
   "metadata": {
    "editable": true
   },
   "source": [
    "* Für mathematische Operationen benötigt man eine Bibliothek:"
   ]
  },
  {
   "cell_type": "code",
   "execution_count": 3,
   "id": "5fc2e99d",
   "metadata": {
    "collapsed": false,
    "editable": true
   },
   "outputs": [],
   "source": [
    "import cmath, math, numpy\n",
    "\n",
    "z = 4 + 4j"
   ]
  },
  {
   "cell_type": "markdown",
   "id": "f0ab7fa4",
   "metadata": {
    "editable": true
   },
   "source": [
    "## Berechnung von Betrag und Phase"
   ]
  },
  {
   "cell_type": "code",
   "execution_count": 4,
   "id": "d3d1ccb4",
   "metadata": {
    "collapsed": false,
    "editable": true
   },
   "outputs": [],
   "source": [
    "z_abs = abs(z) \n",
    "z_ph = cmath.phase(z)\n",
    "print('Betrag =', z_abs)\n",
    "print('Phase in rad =', z_ph)\n",
    "print('Phase in Grad =', numpy.degrees(z_ph))"
   ]
  },
  {
   "cell_type": "markdown",
   "id": "d5ae4806",
   "metadata": {
    "editable": true
   },
   "source": [
    "## Darstellung in der komplexen Ebene"
   ]
  },
  {
   "cell_type": "code",
   "execution_count": 5,
   "id": "cae4d286",
   "metadata": {
    "collapsed": false,
    "editable": true
   },
   "outputs": [],
   "source": [
    "%matplotlib inline\n",
    "\n",
    "import matplotlib.pyplot as plt\n",
    "\n",
    "plt.plot(z.real, z.imag, 'x')"
   ]
  },
  {
   "cell_type": "markdown",
   "id": "2171dedc",
   "metadata": {
    "editable": true
   },
   "source": [
    "## Kartesische Form"
   ]
  },
  {
   "cell_type": "markdown",
   "id": "e316fc97",
   "metadata": {
    "editable": true
   },
   "source": [
    "## Polare Form"
   ]
  },
  {
   "cell_type": "markdown",
   "id": "3f907713",
   "metadata": {
    "editable": true
   },
   "source": [
    "## Kartesisch <-> Polar"
   ]
  },
  {
   "cell_type": "markdown",
   "id": "72132aa3",
   "metadata": {
    "editable": true
   },
   "source": [
    "## Euler's Formel"
   ]
  },
  {
   "cell_type": "markdown",
   "id": "ee820d0c",
   "metadata": {
    "editable": true
   },
   "source": [
    "## Euler's inverse Formel"
   ]
  },
  {
   "cell_type": "markdown",
   "id": "f9762435",
   "metadata": {
    "editable": true
   },
   "source": [
    "## Algebraische Regeln"
   ]
  }
 ],
 "metadata": {},
 "nbformat": 4,
 "nbformat_minor": 5
}
