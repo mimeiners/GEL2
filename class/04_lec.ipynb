{
 "cells": [
  {
   "cell_type": "markdown",
   "id": "34df16ce",
   "metadata": {
    "editable": true
   },
   "source": [
    "<!-- File automatically generated using DocOnce (https://github.com/doconce/doconce/):\n",
    "doconce format ipynb lec-04-graphisch.do.txt  -->\n",
    "\n",
    "## Frequenzgang - Übergangsverhalten\n",
    "\n",
    "**Kurzbeschreibung.**\n",
    "\n",
    "Der Frequenzgang beschreibt, wie ein dynamisches System eine sinusförmige Eingangsgröße überträgt.\n",
    "\n",
    "<!-- dom:FIGURE: [fig/lec5s1.png, width=200 frac=0.5] -->\n",
    "<!-- begin figure -->\n",
    "\n",
    "<img src=\"fig/lec5s1.png\" width=\"200\"><p style=\"font-size: 0.9em\"><i>Figure 1</i></p>\n",
    "<!-- end figure -->"
   ]
  },
  {
   "cell_type": "markdown",
   "id": "50b38bd6",
   "metadata": {
    "editable": true
   },
   "source": [
    "$$\n",
    "F(j\\omega) = \\frac{\\underline{U}_2}{\\underline{U}_1} = \\frac{j \\omega R_1 C_1}{1+j \\omega R_1 C_1}\n",
    "$$"
   ]
  },
  {
   "cell_type": "markdown",
   "id": "eb6bf825",
   "metadata": {
    "editable": true
   },
   "source": [
    "### Exercise: Bode-Diagramm einer RC-Schaltung\n",
    "\n",
    "<div id=\"ipynb:bode\"></div>\n",
    "\n",
    "Ermitteln Sie den Betrags- und Phasengang der einfachen RC-Schaltung mit Hilfe der komplexen Wechselstromrechnung (KWR).\n",
    "Nutzen Sie Python oder Matlab zur Darstellung des Bode-Diagramms."
   ]
  },
  {
   "cell_type": "code",
   "execution_count": 1,
   "id": "d96c8cc3",
   "metadata": {
    "collapsed": false,
    "editable": true
   },
   "outputs": [],
   "source": [
    "%matplotlib inline\n",
    "\n",
    "#!/usr/bin/env python\n",
    "\n",
    "\"\"\" Bode-Diagramm einer RC-Schaltung \"\"\"\n",
    "\n",
    "import numpy as np\n",
    "import matplotlib.pyplot as plt\n",
    "\n",
    "# Spezifikation der Impedanz/Admittanz\n",
    "R = 2e3\n",
    "C = 156e-9\n",
    "\n",
    "# Frequenzvektor\n",
    "f = np.logspace(0, 5, 100)\n",
    "w = 2*np.pi*f\n",
    "\n",
    "# Bestimmung der Impedaanzen\n",
    "Z1 = R\n",
    "Z2 = 1/(1j*w*C)\n",
    "\n",
    "# Spannungsuebertrangungsfunktion\n",
    "F_U = Z1 / (Z1 + Z2)\n",
    "\n",
    "abs_F_U = 20*np.log10(abs(F_U))\n",
    "arg_F_U = np.arctan(F_U.imag/F_U.real)\n",
    "\n",
    "# Bode-Diagramm\n",
    "plt.subplot(2, 1, 1)\n",
    "plt.semilogx(f, abs_F_U)\n",
    "plt.ylabel(r'|F(j$\\omega$)|/dB')\n",
    "plt.grid(b=True)\n",
    "plt.title('Bode-Diagramm einer RC-Schaltung')\n",
    "\n",
    "plt.subplot(2, 1, 2)\n",
    "plt.semilogx(f, arg_F_U)\n",
    "plt.xlabel(r'Frequenz f/Hz')\n",
    "plt.ylabel(r'arg(F(j$\\omega$)/rad')\n",
    "plt.grid(b=True)\n",
    "\n",
    "plt.show()"
   ]
  },
  {
   "cell_type": "markdown",
   "id": "ecf7729d",
   "metadata": {
    "editable": true
   },
   "source": [
    "## Ortskurven\n",
    "Als Referenz zu diesem Thema sei das Kapitel 5 aus [[buettner2014]](#buettner2014) empfohlen.\n",
    "\n",
    "Passive lineare Schaltungen mit R, L und C an sinusförmigen Signalen sind durch ihre Impedanz, dem\n",
    "Wechselstromwiderstand oder seinem Leitwert, der Admittanz charakterisierbar. Die Schaltungen bilden von der Frequenz\n",
    "abhängige Spannungsteiler, deren Spannungsverlauf im Amplitudenfrequenzgang grafisch darstellbar ist. Die Phasenlage des\n",
    "Ausgangssignals bezogen auf das Eingangssignal kann grafisch im Phasenfrequenzgang gezeigt werden. Beide Darstellungen\n",
    "bilden das komplette Bodediagramm. \n",
    "\n",
    "Bei gegebenen Bauteilwerten kann für jede Frequenz die Impedanz Z berechnet und als Zeiger in ein Polarkoordinatensystem\n",
    "mit reeller und imaginärer Achse gezeichnet werden. Entsprechend den Achsenparametern gibt die Zeigerlänge dann die\n",
    "Impedanz, Admittanz, Ausgangsspannung oder den Ausgangsstrom an. Die Phasenlage ist durch den Winkel des Zeigers mit der\n",
    "reellen Achse bestimmt.\n",
    "\n",
    "In der Elektronik beschreibt die Systemtheorie unter anderem das Übertragungsverhalten von Signalen. Eine hilfreiche\n",
    "Voraussetzung ist das [Operatoren der Widerstände und Leitwerte](../fachmathematik/operator.html) Rechnen\n",
    "mit komplexen Größen sowie deren Darstellungen im Polarkoordinatensystem oder der\n",
    "[Einführung in die komplexe Rechnung](../fachmathematik/komplex.html) Gaußschen Zahlenebene. Die oben genannten\n",
    "komplexen Größen sind von den Bauteilwerten abhängig. Die Impedanz Z einer dimensionierten RC- oder RL-Reihenschaltung ist\n",
    "frequenzabhängig. Die Ortskurve ist die Verbindung der errechneten Impedanzwerte in der komplexen Ebene durch einen\n",
    "Kurvenzug mit der Frequenz als Parameter. Die Zeigerlänge vom Nullpunkt zum Kurvenpunkt auf der Ortskurve entspricht dem\n",
    "skalaren Impedanzwert der aktuellen Frequenz. Der Phasenwinkel bezogen auf die Re-Achse zählt linksdrehend positiv und\n",
    "rechtsdrehend negativ. Die Lote vom Zeigerendpunkt auf die Koordinatenachsen ergeben für die jeweilige Frequenz als\n",
    "Achsenabschnitte die Wirk- und Blindkomponente des Systems. \n",
    "\n",
    "**Vergleich zum Zeigerdiagramm.**\n",
    "\n",
    "* Zeigerdiagramm nur für konstante Parameter\n",
    "\n",
    "* Im Zeigerdiagramm keine Aussagen über Auswirkungen von Änderungen der Frequenz oder Schaltelemente\n",
    "\n",
    "* \"Für jeden Wert der Zweipole $R$, $L$, und $C$ oder jede Frequenz müssten gesonderte Zeigerdiagramme erstellt werden.\"\n",
    "\n",
    "* \"Man verzichtet auf die Darstellung der Zeiger und trägt in der komplexen Zahlenebene nur die Kurve auf.\""
   ]
  },
  {
   "cell_type": "markdown",
   "id": "7d327828",
   "metadata": {
    "editable": true
   },
   "source": [
    "### Exercise: Ortskurve einer RC-Schaltung\n",
    "\n",
    "<div id=\"sec:rc\"></div>\n",
    "\n",
    "\"Mit den Bauteilen $R$ = 2 k $\\Omega$ und $C$ = 159 nF kann eine Reihen- oder Parallelschaltung\n",
    "gebildet werden. Die komplexe Impedanz der Reihenschaltung ist von der Frequenz abhängig und grafisch in der komplexen\n",
    "Ebene als Ortskurve mit der Frequenz als Parameter dargestellt. Die Blindwiderstandswerte wurden für einen bestimmten\n",
    "Frequenzbereich errechnet und im Polarkoordinatensystem eingetragen. Alle Werte liegen im 4. Quadranten auf einer\n",
    "Geraden. Da der ohmsche Widerstand ist von der Frequenz unabhängig ist, verläuft sie parallel zur imaginären Achse im\n",
    "Abstand von 2 k $\\Omega$. Auf die reelle (Re) Achse bezogen ist der Phasenwinkel der Impedanz negativ. Das Diagramm\n",
    "ist mit den angegebenen gerundeten Rechenwerten des Blindwiderstands, der Impedanz und des Phasenwinkels erstellt.\"\n",
    "\n",
    "<!-- dom:FIGURE: [fig/lec5s2.png, width=200 frac=0.5] -->\n",
    "<!-- begin figure -->\n",
    "\n",
    "<img src=\"fig/lec5s2.png\" width=\"200\"><p style=\"font-size: 0.9em\"><i>Figure 1</i></p>\n",
    "<!-- end figure -->"
   ]
  },
  {
   "cell_type": "markdown",
   "id": "66c8b6de",
   "metadata": {
    "editable": true
   },
   "source": [
    "$$\n",
    "\\underline{Z} = R_1 + \\frac{1}{j \\omega C_1}\n",
    "$$"
   ]
  },
  {
   "cell_type": "code",
   "execution_count": 2,
   "id": "253c5be0",
   "metadata": {
    "collapsed": false,
    "editable": true
   },
   "outputs": [],
   "source": [
    "#!/usr/bin/env python\n",
    "\n",
    "\"\"\" Ortskurve einer RC-Reihenschltung \"\"\"\n",
    "\n",
    "import numpy as np\n",
    "import matplotlib.pyplot as plt\n",
    "\n",
    "# Spezifikation der Impedanz/Admittanz\n",
    "R = 2e3\n",
    "C = 156e-9\n",
    "f = np.linspace(0.2e3, 5e3, 5)\n",
    "w = 2*np.pi*f\n",
    "Z = R + 1/(1j*w*C)\n",
    "\n",
    "# Ortskurve der Impedanz\n",
    "plt.plot(Z.real, Z.imag, '-x')\n",
    "plt.grid(b=True)\n",
    "plt.xlabel(r'Re{Z}')\n",
    "plt.ylabel(r'Im{Z}')\n",
    "plt.show()"
   ]
  },
  {
   "cell_type": "markdown",
   "id": "4745103e",
   "metadata": {
    "editable": true
   },
   "source": [
    "\"Die Ortskurve kann auch für die Parallelschaltung von R und C mit der Frequenz als Parameter gezeichnet werden. Im\n",
    "Polardiagramm wird sie durch die Zeiger aller Gesamtleitwerte oder Admittanzen gebildet und verläuft im 1. Quadranten\n",
    "parallel zur imaginären Achse. Die Achsenbezeichnungen der Leitwerte werden in Siemens S angeben. Die Phasenwinkel sind\n",
    "auf die Re-Achse bezogen positiv.\" [[mietke2023]](#mietke2023)"
   ]
  },
  {
   "cell_type": "markdown",
   "id": "67d4d30a",
   "metadata": {
    "editable": true
   },
   "source": [
    "### Inversion von Ortskurven\n",
    "\n",
    "<div id=\"sec:inversion\"></div>\n",
    "\n",
    "\"Bei der Konstruktion einer Ortskurve ist es oft notwendig von der Widerstandsform $\\underline{Z}(\\omega)$ auf die\n",
    "Leitwertsform $\\underline{Y}(\\omega)$ überzugehen und umgekehrt. Beide Funktionen gehen jeweils aus der Kehrwertbildung\n",
    "der anderen hervor, man nennt sie zueinander inverse Funktionen und die Kehrwertbildung selbst Inversion.\" [[buettner2014]](#buettner2014)\n",
    "\n",
    "Die Inversion der Ortskurve hat als Ergebnis die zur Ausgangsschaltung äquivalente Schaltung. Diese Umrechnung ist immer\n",
    "dann notwendig, wenn es sich um gemischte Reihen- und Parallelschaltungen wie bei T- und $\\Pi$-Filtern, belasteten\n",
    "Filtern und Schwingkreisen handelt.\n",
    "\n",
    "Die Ortskurven einfacher RC- und RL-Schaltungen verhalten sich wie folgt:\n",
    "\n",
    "* Verläuft die Ortskurve der Impedanz oder Admittanz im 1. Quadranten, so befindet sich die dazu invertierte Ortskurve im 4. Quadranten.\n",
    "\n",
    "* Die Ortskurve der Impedanz einer Reihenschaltung ist eine Parallele zur imaginären Achse im Abstand des ohmschen Widerstandswerts. Die invertierte Ortskurve der Admittanz ist ein im Nullpunkt endender Halbkreis mit dem Durchmesser des reellen Leitwerts.\n",
    "\n",
    "* Die Ortskurve der Admittanz einer Parallelschaltung ist eine Parallele zur imaginären Achse im Abstand des reellen Leitwerts. Die invertierte Ortskurve der Impedanz ist ein im Nullpunkt endender Halbkreis mit dem Durchmesser des ohmschen Widerstandswerts.\n",
    "\n",
    "* Inversion eines Punktes (Widerstandsform/Impedanz): $\\underline{Z} (5 + 5j) \\Omega$\n",
    "\n",
    "* Ma{\\ss}stäbe $M_Z = 2 \\Omega/cm$ und $M_Y = 0.1 S/cm$\n",
    "\n",
    "* Leitwertform/Admittanz: $\\underline{Y} = 1 / \\underline{Z}$"
   ]
  },
  {
   "cell_type": "markdown",
   "id": "a394bfaf",
   "metadata": {
    "editable": true
   },
   "source": [
    "<!-- Equation labels as ordinary links -->\n",
    "<div id=\"_auto1\"></div>\n",
    "\n",
    "$$\n",
    "\\begin{equation}\n",
    "\\underline{Y} = \\frac{1}{(5 + 5j) \\Omega} = \\frac{(5 - 5j)S}{50} = (0.1 - 0.1j) S\n",
    "\\label{_auto1} \\tag{1}\n",
    "\\end{equation}\n",
    "$$"
   ]
  },
  {
   "cell_type": "markdown",
   "id": "947abb3e",
   "metadata": {
    "editable": true
   },
   "source": [
    "* Inversion von Ortskuven durch Inversion einzelner Punkte [[buettner2014]](#buettner2014):\n",
    "\n",
    "a. In die komplexe Zahlenebene wird der Zeiger $Z$ eingetragen, dessen Spitze invertiert werden soll.\n",
    "\n",
    "b. Um den Ursprung des Koordinatensystems wird ein Inversionskreis mit beliebigem Radius $r$ geschlagen.\n",
    "\n",
    "c. Von der Spitze des Zeigers $Z$ aus werden Tangenten an den Kreis gelegt, sie ergeben die Berührungspunkte $T_1$ und $T_2$. Die Tangentenpunkte kann man auch finden, wenn man um die Mitte des Zeigers einen Kreis mit dem Radius $Z / 2$, d.h. einen Thaleskreis, schlägt (siehe [Höhensatz](https://de.wikipedia.org/wiki/Höhensatz)).\n",
    "\n",
    "d. Die beiden Punkte $T_1$ und $T_2$ werden miteinander verbunden.\n",
    "\n",
    "e. Wo die Verbindungslinie den Zeiger $Z$ schneidet, liegt die Spitze des konjugiert komplexen Zeigers $Y^*$.\n",
    "\n",
    "f. Spiegelt man den Zeiger $Y^*$ an der reellen Achse, so erhält man $Y$. Die Spitze dieses Zeigers entspricht also der invertierten Spitze von $Z$.\n",
    "\n",
    "g. Bezeichnet man die Maßstäbe für den komplexen Scheinwiderstand mit $M_Z$ und den Scheinleitwert mit $M_Y$ sowie die Länge des Zeigers $Z$ mit $L_Z$ und die der Zeiger $Y$  bzw. $Y^*$ mit $L_Y^*$  bzw. $L_Y$, so ist – da das Dreieck 0T1P rechtwinklig ist – nach dem [Kathetensatz](https://de.wikipedia.org/wiki/Satzgruppe_des_Pythagoras#Kathetensatz_des_Euklid):"
   ]
  },
  {
   "cell_type": "markdown",
   "id": "510459e4",
   "metadata": {
    "editable": true
   },
   "source": [
    "### Exercise: Ortskurve einer Übertragungsfunktion\n",
    "\n",
    "<div id=\"sec:transfer\"></div>\n",
    "\n",
    "Innerhalb dieses Webprojekts sind die Übertragungsfunktionen fast immer als Bodediagramm dargestellt, bestehend aus dem \n",
    "[Übertragungsverhalten von RC- und RL-Tiefpässen](../analogtechnik/tiefpass.html) Amplituden- und\n",
    "Phasenfrequenzgang. Mit der Übertragungsfunktion des Zweitors (Vierpols) wird nachfolgend für einen RL-Tiefpass die \n",
    "Ortskurve erstellt.\n",
    "\n",
    "Gesucht ist das Verhältnis der Ausgangs- zur Eingangsspannung am Zweitor. Es ist von der Frequenz abhängig und somit\n",
    "eine komplexe Größe. Die Eingangsspannung liegt an der Reihenschaltung aus je einem Wirk- und Blindwiderstand. Die\n",
    "Ausgangsspannung ist beim RL-Tiefpass am ohmschen Widerstand messbar. Zur Vereinfachung wird auf die Ausgangsgröße\n",
    "normiert, wobei der Zähler den Wert 1 annimmt. Eine weitere Vereinfachung ist die Normierung auf die Grenzfrequenz. In\n",
    "der Systemtechnik wird die normierte Kreisfrequenz $\\Omega$ bezeichnet. Sie hat bei der Grenzfrequenz den Wert\n",
    "$\\Omega$ = 1.\n",
    "\n",
    "Die gerundeten Werte der Ortskurvenpunkte gelten für einen dimensionierten RL-Tiefpass mit $R$=1k$\\Omega$\n",
    "und $L$=100 mH. Mit den Werten $\\Omega$, $|v|$ und $\\phi$ könnten auch die Diagramme des Amplituden- und\n",
    "Phasenfrequenzgangs gezeichnet werden. Dazu werden auf einer Frequenzachse in linearer Teilung die $\\log(\\Omega)$-Werte\n",
    "eingetragen. Die Amplitudenachse erhält eine lineare oder logarithmische dB-Teilung, während die Achse der Phasenwinkel\n",
    "immer linear geteilt ist.\n",
    "\n",
    "Mit den Werten $|v|$ und $\\phi$ kann auch die Ortskurve der Impedanz der RL-Reihenschaltung erstellt werden. Der zu\n",
    "errechnende Faktor des ohmschen Widerstands folgt aus $|v| \\cos(\\phi)$ und der Faktor des Blindwiderstands aus\n",
    "$|v| \\sin(\\phi)$. Bei Vorgabe einer Grenzfrequenz und des ohmschen Widerstandes sind mit den Faktoren für jeden\n",
    "RL-Tiefpass alle interessierenden Diagramme erstellbar."
   ]
  },
  {
   "cell_type": "markdown",
   "id": "307a88b8",
   "metadata": {
    "editable": true
   },
   "source": [
    "### Exercise: Ortskurve eines Reihenschwingkreises\n",
    "\n",
    "<div id=\"sec:ortsk-reihen-oszi\"></div>\n",
    "\n",
    "Eine [Ausführliche Beschreibung eines Reihenschwingkreises](../analogtechnik/rei_swkr.html) realer\n",
    "Reihenschwingkreis wird mindestens durch den ohmschen Drahtwiderstand der Spule gedämpft, der für die Kreisgüte\n",
    "mitbestimmend ist. Setzt man in der komplexen Impedanzfunktion den imaginären Teil gleich null, kann daraus die\n",
    "Resonanzfrequenz ermittelt werden. Bei ihr wirkt der Reihenschwingkreis nach außen hin als reeller ohmscher Widerstand\n",
    "und zwischen Spannung und Strom besteht keine Phasenverschiebung. \n",
    "\n",
    "Der linke Teil der folgenden Grafik zeigt die Ortskurve der auf den Verlustwiderstand normierten komplexen Impedanz\n",
    "eines Reihenschwingkreises. Der Parameter ist die normierte Frequenzverstimmung $\\Omega$. Unterhalb der Resonanzfrequenz\n",
    "ist der Parameter negativ und der RLC-Reihenkreis verhält sich kapazitiv. Oberhalb ist das Verhalten induktiv und der\n",
    "Parameter positiv.\n",
    "\n",
    "Liegt am Reihenschwingkreis für alle Frequenzen eine konstante Spannung an, so fließt im Resonanzfall der maximale Strom\n",
    "und beim verstimmten Kreis bleibt er geringer. Der rechte Teil der Grafik zeigt die Ortskurve mit dem Parameter $\\Omega$\n",
    "für den auf seinen Maximalwert normierten komplexen Strom. Bei $\\Omega$ = $\\pm$ 1 beträgt der Phasenwinkel $\\phi$ =\n",
    "$\\pm$ 45 Grad. Der Strom erreicht den Wert $I=\\frac{I_{max}}{\\sqrt{2}}$. Durch $\\Omega$ = $\\pm$ 1 ist die Bandbreite des\n",
    "Schwingkreises bestimmt."
   ]
  }
 ],
 "metadata": {},
 "nbformat": 4,
 "nbformat_minor": 5
}
