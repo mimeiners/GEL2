{
 "cells": [
  {
   "cell_type": "markdown",
   "id": "41e85cff",
   "metadata": {},
   "source": [
    "# Komplexe Zahlen in Python\n",
    "\n",
    "## Eingabe als Literal"
   ]
  },
  {
   "cell_type": "code",
   "execution_count": 1,
   "id": "855f8e6d",
   "metadata": {},
   "outputs": [],
   "source": [
    "z = 3 + 2j"
   ]
  },
  {
   "cell_type": "markdown",
   "id": "07dd4041",
   "metadata": {},
   "source": [
    "## Eingabe als Funktion"
   ]
  },
  {
   "cell_type": "code",
   "execution_count": 2,
   "id": "92bb2dab",
   "metadata": {},
   "outputs": [],
   "source": [
    "z = complex(3, 2)"
   ]
  },
  {
   "cell_type": "markdown",
   "id": "318495f1",
   "metadata": {},
   "source": [
    "Für mathematische Operationen benötigt man eine Bibliothek:"
   ]
  },
  {
   "cell_type": "code",
   "execution_count": 3,
   "id": "c40b6133",
   "metadata": {},
   "outputs": [],
   "source": [
    "import cmath, math, numpy\n",
    "\n",
    "z = 4 + 4j"
   ]
  },
  {
   "cell_type": "markdown",
   "id": "e182a41d",
   "metadata": {},
   "source": [
    "## Berechnung von Betrag und Phase"
   ]
  },
  {
   "cell_type": "code",
   "execution_count": 5,
   "id": "bc34ba15",
   "metadata": {},
   "outputs": [
    {
     "name": "stdout",
     "output_type": "stream",
     "text": [
      "Betrag = 5.656854249492381\n",
      "Phase in rad = 0.7853981633974483\n",
      "Phase in Grad = 45.0\n"
     ]
    }
   ],
   "source": [
    "z_abs = abs(z) \n",
    "z_ph = cmath.phase(z)\n",
    "print('Betrag =', z_abs)\n",
    "print('Phase in rad =', z_ph)\n",
    "print('Phase in Grad =', numpy.degrees(z_ph))"
   ]
  },
  {
   "cell_type": "markdown",
   "id": "76122eb3",
   "metadata": {},
   "source": [
    "##  Darstellung in der komplexen Ebene"
   ]
  },
  {
   "cell_type": "code",
   "execution_count": 11,
   "id": "f0d2795f",
   "metadata": {
    "lines_to_next_cell": 0
   },
   "outputs": [
    {
     "data": {
      "text/plain": [
       "[<matplotlib.lines.Line2D at 0x1128d9ab0>]"
      ]
     },
     "execution_count": 11,
     "metadata": {},
     "output_type": "execute_result"
    },
    {
     "data": {
      "image/png": "[encoded data removed]",
      "text/plain": [
       "<Figure size 640x480 with 1 Axes>"
      ]
     },
     "metadata": {},
     "output_type": "display_data"
    }
   ],
   "source": [
    "import matplotlib.pyplot as plt\n",
    "\n",
    "plt.plot(z.real, z.imag, 'x')"
   ]
  },
  {
   "cell_type": "markdown",
   "id": "c73b3522",
   "metadata": {},
   "source": []
  }
 ],
 "metadata": {
  "kernelspec": {
   "display_name": "Python 3 (ipykernel)",
   "language": "python",
   "name": "python3"
  },
  "language_info": {
   "codemirror_mode": {
    "name": "ipython",
    "version": 3
   },
   "file_extension": ".py",
   "mimetype": "text/x-python",
   "name": "python",
   "nbconvert_exporter": "python",
   "pygments_lexer": "ipython3",
   "version": "3.10.11"
  }
 },
 "nbformat": 4,
 "nbformat_minor": 5
}
