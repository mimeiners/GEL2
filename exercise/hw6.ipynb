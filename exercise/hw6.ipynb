{
 "cells": [
  {
   "cell_type": "markdown",
   "id": "c9b6222f",
   "metadata": {
    "editable": true
   },
   "source": [
    "<!-- File automatically generated using DocOnce (https://github.com/doconce/doconce/):\n",
    "doconce format ipynb hw6.do.txt --no_preprocess --ipynb_figure=imgtag ipynb_figure=imgtag --ipynb_movie=ipynb ipynb_movie=ipynb --ipynb_admon=hrule ipynb_admon=hrule --encoding=utf8 -->\n",
    "\n",
    "# Leistungsanpassung und Schwingkreis\n",
    "**Mirco Meiners**, Hochschule Bremen - City University of Applied Sciences\n",
    "\n",
    "Date: **Jun 13, 2024**\n",
    "\n",
    "2024, Mirco Meiners, Hochschule Bremen - City University of Applied Sciences"
   ]
  },
  {
   "cell_type": "markdown",
   "id": "b78d63f6",
   "metadata": {
    "editable": true
   },
   "source": [
    "## Leistungsberechnung\n",
    "\n",
    "An eine Spannungsquelle mit der Leerlaufspannung $\\underline{U}_0$, der inneren Impedanz $\\underline{Z}_i=R_i+j\\omega\n",
    "L_i$ und der Kreisfrequenz $\\omega$ ist ein Widerstand $R_2$ angeschlossen. In Reihe mit dem Widerstand $R_2$ soll ein\n",
    "Kondensator $C_2$ geschaltet werden. \n",
    "\n",
    "<!-- dom:FIGURE: [fig/hw6p1.png, width=400 frac=1.0] Schaltung für Leistungsberechnung. <div id=\"fig:hw6p1\"></div> -->\n",
    "<!-- begin figure -->\n",
    "<div id=\"fig:hw6p1\"></div>\n",
    "\n",
    "<img src=\"fig/hw6p1.png\" width=\"400\"><p style=\"font-size: 0.9em\"><i>Figure 1: Schaltung für Leistungsberechnung.</i></p>\n",
    "<!-- end figure -->"
   ]
  },
  {
   "cell_type": "markdown",
   "id": "1dc09539",
   "metadata": {
    "editable": true
   },
   "source": [
    "**a)**\n",
    "Leistungsaufnahme\n",
    "\n",
    "Leiten Sie einen Ausdruck für die Leistung in Abhängigkeit der gegebenen Größen her. Wählen Sie dabei eine \n",
    "Darstellungsform, so dass die Kapazität $C_2=C_{opt}$ des Kondensators bestimmt werden kann, damit die vom Widerstand\n",
    "$R_2$ aufgenommene mittlere Leistung möglichst groß wird.\n",
    "\n",
    "<!-- --- begin solution of exercise --- -->\n",
    "**Solution.**"
   ]
  },
  {
   "cell_type": "markdown",
   "id": "010db309",
   "metadata": {
    "editable": true
   },
   "source": [
    "<!-- Equation labels as ordinary links -->\n",
    "<div id=\"_auto1\"></div>\n",
    "\n",
    "$$\n",
    "\\begin{equation}\n",
    "     \\underline{S} = \\underline{V} \\cdot \\underline{I}^* \n",
    "\\label{_auto1} \\tag{1}\n",
    "\\end{equation}\n",
    "$$"
   ]
  },
  {
   "cell_type": "markdown",
   "id": "73ba6315",
   "metadata": {
    "editable": true
   },
   "source": [
    "<!-- Equation labels as ordinary links -->\n",
    "<div id=\"_auto2\"></div>\n",
    "\n",
    "$$\n",
    "\\begin{equation} \n",
    "     P = \\real{\\underline{S}} = \\real{\\underline{V}_{R_2} \\cdot \\underline{I}^*} \n",
    "\\label{_auto2} \\tag{2}\n",
    "\\end{equation}\n",
    "$$"
   ]
  },
  {
   "cell_type": "markdown",
   "id": "0baf0a27",
   "metadata": {
    "editable": true
   },
   "source": [
    "<!-- Equation labels as ordinary links -->\n",
    "<div id=\"eq:1\"></div>\n",
    "\n",
    "$$\n",
    "\\begin{equation} \n",
    "       = \\real{R_2 \\cdot \\underline{I} \\cdot  \\underline{I}^*} = R_2 \\magn{\\underline{I}}^2 \\label{eq:1} \\tag{3}\n",
    "\\end{equation}\n",
    "$$"
   ]
  },
  {
   "cell_type": "markdown",
   "id": "8aa35e1a",
   "metadata": {
    "editable": true
   },
   "source": [
    "<!-- Equation labels as ordinary links -->\n",
    "<div id=\"_auto3\"></div>\n",
    "\n",
    "$$\n",
    "\\begin{equation} \n",
    "       = \\frac{1}{2} R_2 \\hat{I}^2 = R_2 I_{eff}^2 \n",
    "\\label{_auto3} \\tag{4}\n",
    "\\end{equation}\n",
    "$$"
   ]
  },
  {
   "cell_type": "markdown",
   "id": "4dc50aff",
   "metadata": {
    "editable": true
   },
   "source": [
    "<!-- Equation labels as ordinary links -->\n",
    "<div id=\"eq:2\"></div>\n",
    "\n",
    "$$\n",
    "\\begin{equation} \n",
    "    \\underline{I} = \\frac{\\underline{V}_0}{R_i+R_2+j(\\omega L_i-\\frac{1}{\\omega C_2})} \\label{eq:2} \\tag{5}\n",
    "\\end{equation}\n",
    "$$"
   ]
  },
  {
   "cell_type": "markdown",
   "id": "331786c0",
   "metadata": {
    "editable": true
   },
   "source": [
    "<!-- Equation labels as ordinary links -->\n",
    "<div id=\"_auto4\"></div>\n",
    "\n",
    "$$\n",
    "\\begin{equation} \n",
    "    P = R_2 \\frac{\\magn{\\underline{V}_0}^2}{\\magn{R_i+R_2+j(\\omega L_i-\\frac{1}{\\omega C_2})}^2} \n",
    "\\label{_auto4} \\tag{6}\n",
    "\\end{equation}\n",
    "$$"
   ]
  },
  {
   "cell_type": "markdown",
   "id": "03dbb294",
   "metadata": {
    "editable": true
   },
   "source": [
    "<!-- Equation labels as ordinary links -->\n",
    "<div id=\"eq:3\"></div>\n",
    "\n",
    "$$\n",
    "\\begin{equation} \n",
    "      = \\frac{1}{2} R_2 \\frac{\\hat{V}_0^2}{(R_i+R_2)^2+(\\omega L_i-\\frac{1}{\\omega C_2})^2} \\label{eq:3} \\tag{7} \n",
    "\\end{equation}\n",
    "$$"
   ]
  },
  {
   "cell_type": "markdown",
   "id": "1ba73776",
   "metadata": {
    "editable": true
   },
   "source": [
    "<!-- Equation labels as ordinary links -->\n",
    "<div id=\"_auto5\"></div>\n",
    "\n",
    "$$\n",
    "\\begin{equation} \n",
    "      = \\frac{R_2 V_{0,eff}^2}{(R_i+R_2)^2+(\\omega L_i-\\frac{1}{\\omega C_2})^2} \n",
    "\\label{_auto5} \\tag{8}\n",
    "\\end{equation}\n",
    "$$"
   ]
  },
  {
   "cell_type": "markdown",
   "id": "02da2de6",
   "metadata": {
    "editable": true
   },
   "source": [
    "<!-- Equation labels as ordinary links -->\n",
    "<div id=\"_auto6\"></div>\n",
    "\n",
    "$$\n",
    "\\begin{equation} \\\n",
    "\\label{_auto6} \\tag{9}\n",
    "\\end{equation}\n",
    "$$"
   ]
  },
  {
   "cell_type": "markdown",
   "id": "b2db62f7",
   "metadata": {
    "editable": true
   },
   "source": [
    "Aus ([7](#eq:3)) folgt, dass die Wirkleistung $P$ maximal wird, wenn $(\\omega L_i-\\frac{1}{\\omega C_2})=0$ gilt,\n",
    "\n",
    "Resonanzfall.\n",
    "<!-- --- end solution of exercise --- -->"
   ]
  },
  {
   "cell_type": "markdown",
   "id": "d4b99e63",
   "metadata": {
    "editable": true
   },
   "source": [
    "**b)**\n",
    "Bestimmung der Kapazität\n",
    "\n",
    "Wie groß ist $C_{opt}$ zu wählen für den Fall $R_2=90\\,\\Omega$, $R_i=10\\,\\Omega$,\n",
    "$L_i=20\\,mH$, $V_0=141\\,V$ und $\\omega=2\\pi 100\\,Hz$\n",
    "\n",
    "<!-- --- begin solution of exercise --- -->\n",
    "**Solution.**"
   ]
  },
  {
   "cell_type": "markdown",
   "id": "24c36cfb",
   "metadata": {
    "editable": true
   },
   "source": [
    "<!-- Equation labels as ordinary links -->\n",
    "<div id=\"_auto7\"></div>\n",
    "\n",
    "$$\n",
    "\\begin{equation}\n",
    "    \\omega_0 = \\frac{1}{\\sqrt{L_i C_{opt}}} \n",
    "\\label{_auto7} \\tag{10}\n",
    "\\end{equation}\n",
    "$$"
   ]
  },
  {
   "cell_type": "markdown",
   "id": "615c771e",
   "metadata": {
    "editable": true
   },
   "source": [
    "<!-- Equation labels as ordinary links -->\n",
    "<div id=\"_auto8\"></div>\n",
    "\n",
    "$$\n",
    "\\begin{equation} \n",
    "    C_{opt} = \\frac{1}{\\omega^2_0 L_i} = \\SI{127}{\\micro\\farad} \n",
    "\\label{_auto8} \\tag{11}\n",
    "\\end{equation}\n",
    "$$"
   ]
  },
  {
   "cell_type": "markdown",
   "id": "71575c2e",
   "metadata": {
    "editable": true
   },
   "source": [
    "<!-- Equation labels as ordinary links -->\n",
    "<div id=\"_auto9\"></div>\n",
    "\n",
    "$$\n",
    "\\begin{equation} \n",
    "\\label{_auto9} \\tag{12}\n",
    "\\end{equation}\n",
    "$$"
   ]
  },
  {
   "cell_type": "markdown",
   "id": "a8a5944a",
   "metadata": {
    "editable": true
   },
   "source": [
    "<!-- --- end solution of exercise --- -->"
   ]
  },
  {
   "cell_type": "markdown",
   "id": "0a330d0d",
   "metadata": {
    "editable": true
   },
   "source": [
    "**c)**\n",
    "Maximale Leistung\n",
    "\n",
    "Welche maximale Leistung nimmt der Widerstand $R_2$ für den berechneten Fall auf?\n",
    "\n",
    "<!-- --- begin solution of exercise --- -->\n",
    "**Solution.**"
   ]
  },
  {
   "cell_type": "markdown",
   "id": "a708783a",
   "metadata": {
    "editable": true
   },
   "source": [
    "<!-- Equation labels as ordinary links -->\n",
    "<div id=\"_auto10\"></div>\n",
    "\n",
    "$$\n",
    "\\begin{equation}\n",
    "    P_{max} = \\frac{1}{2} R_2 \\frac{\\hat{V}_0^2}{(R_i+R_2)^2} = \\SI{90}{\\watt}\n",
    "\\label{_auto10} \\tag{13}\n",
    "\\end{equation}\n",
    "$$"
   ]
  },
  {
   "cell_type": "markdown",
   "id": "a8a5944a_1",
   "metadata": {
    "editable": true
   },
   "source": [
    "<!-- --- end solution of exercise --- -->"
   ]
  },
  {
   "cell_type": "markdown",
   "id": "54fb32d4",
   "metadata": {
    "editable": true
   },
   "source": [
    "## Parallelresonanzkreis mit Übertrager\n",
    "\n",
    "An einen Parallelresonanzkreis ist über einen idealen Übertrager mit dem Übersetzungsverhältnis ü=2 die\n",
    "Parallelschaltung eines Widerstandes $R_2$ und eines Kondensators $C_2$ angeschlossen. Die Werte der Bauteile lauten\n",
    "$L_1=1\\,\\mu H$, $C_1=100\\,pF$, $R_1=2\\,k\\Omega$, $R_2=R_1$ und $C_2=C_1$. Wie beeinflusst die Parallelschaltung aus\n",
    "$R_2$ und $C_2$ die Resonanzfrequenz und die Güte des Parallelschwingkreises?\n",
    "\n",
    "<!-- dom:FIGURE: [fig/hw6p2.png, width=400 frac=1.0] Schaltung mit idealem Übertrager. <div id=\"fig:hw6p2\"></div> -->\n",
    "<!-- begin figure -->\n",
    "<div id=\"fig:hw6p2\"></div>\n",
    "\n",
    "<img src=\"fig/hw6p2.png\" width=\"400\"><p style=\"font-size: 0.9em\"><i>Figure 2: Schaltung mit idealem Übertrager.</i></p>\n",
    "<!-- end figure -->"
   ]
  },
  {
   "cell_type": "markdown",
   "id": "110930bb",
   "metadata": {
    "editable": true
   },
   "source": [
    "**a)**\n",
    "Ersatzschaltbild\n",
    "\n",
    "Skizzieren Sie das Ersatzschaltbild der transformierten Parallelschaltung aus $R_2$ und $C_2$.\n",
    "\n",
    "<!-- --- begin solution of exercise --- -->\n",
    "**Solution.**\n",
    "<!-- dom:FIGURE: [fig/hw6p2a.png, width=400 frac=1.0] Ersatzschaltbild mit transformierter Impedanz. <div id=\"fig:hw6p2a\"></div> -->\n",
    "<!-- begin figure -->\n",
    "<div id=\"fig:hw6p2a\"></div>\n",
    "\n",
    "<img src=\"fig/hw6p2a.png\" width=\"400\"><p style=\"font-size: 0.9em\"><i>Figure 3: Ersatzschaltbild mit transformierter Impedanz.</i></p>\n",
    "<!-- end figure -->\n",
    "\n",
    "Impedanztransformation mit einem idealen Übertrager:"
   ]
  },
  {
   "cell_type": "markdown",
   "id": "a2069422",
   "metadata": {
    "editable": true
   },
   "source": [
    "<!-- Equation labels as ordinary links -->\n",
    "<div id=\"_auto11\"></div>\n",
    "\n",
    "$$\n",
    "\\begin{equation}\n",
    "    Z_{2t} = \\mbox{ü}^2 Z_2 \n",
    "\\label{_auto11} \\tag{14}\n",
    "\\end{equation}\n",
    "$$"
   ]
  },
  {
   "cell_type": "markdown",
   "id": "8e996d3b",
   "metadata": {
    "editable": true
   },
   "source": [
    "<!-- Equation labels as ordinary links -->\n",
    "<div id=\"_auto12\"></div>\n",
    "\n",
    "$$\n",
    "\\begin{equation} \n",
    "    Y_{2t} = \\frac{1}{R_{2t}} + j\\omega C_{2t} = \\frac{1}{\\mbox{ü}^2}Y_2 \n",
    "\\label{_auto12} \\tag{15}\n",
    "\\end{equation}\n",
    "$$"
   ]
  },
  {
   "cell_type": "markdown",
   "id": "2263d938",
   "metadata": {
    "editable": true
   },
   "source": [
    "<!-- Equation labels as ordinary links -->\n",
    "<div id=\"_auto13\"></div>\n",
    "\n",
    "$$\n",
    "\\begin{equation} \n",
    "    = \\frac{1}{\\mbox{ü}^2}\\left(\\frac{1}{R_2} + j\\omega C_2 \\right) = \\frac{1}{\\mbox{ü}^2 R_2} + j \\omega \\frac{C_2}{\\mbox{ü}^2} \n",
    "\\label{_auto13} \\tag{16}\n",
    "\\end{equation}\n",
    "$$"
   ]
  },
  {
   "cell_type": "markdown",
   "id": "d7acca88",
   "metadata": {
    "editable": true
   },
   "source": [
    "<!-- Equation labels as ordinary links -->\n",
    "<div id=\"_auto14\"></div>\n",
    "\n",
    "$$\n",
    "\\begin{equation} \n",
    "    R_{2t} = \\mbox{ü}^2 R_2 = 4 R_2 \n",
    "\\label{_auto14} \\tag{17}\n",
    "\\end{equation}\n",
    "$$"
   ]
  },
  {
   "cell_type": "markdown",
   "id": "1b2c4c39",
   "metadata": {
    "editable": true
   },
   "source": [
    "<!-- Equation labels as ordinary links -->\n",
    "<div id=\"_auto15\"></div>\n",
    "\n",
    "$$\n",
    "\\begin{equation} \n",
    "    C_{2t} = \\frac{C_2}{\\mbox{ü}^2} = \\frac{C_2}{4}\n",
    "\\label{_auto15} \\tag{18}\n",
    "\\end{equation}\n",
    "$$"
   ]
  },
  {
   "cell_type": "markdown",
   "id": "a8a5944a_2",
   "metadata": {
    "editable": true
   },
   "source": [
    "<!-- --- end solution of exercise --- -->"
   ]
  },
  {
   "cell_type": "markdown",
   "id": "0d3d3841",
   "metadata": {
    "editable": true
   },
   "source": [
    "**b)**\n",
    "Zusammenfassung\n",
    "\n",
    "Fassen Sie gleichartige Zweipole zusammen.\n",
    "\n",
    "<!-- --- begin solution of exercise --- -->\n",
    "**Solution.**\n",
    "<!-- dom:FIGURE: [fig/hw6p2b.png, width=400 frac=1.0] Ersatzschaltbild mit zusammengefassten Zweipole. \\label{} -->\n",
    "<!-- begin figure -->\n",
    "\n",
    "<img src=\"fig/hw6p2b.png\" width=\"400\"><p style=\"font-size: 0.9em\"><i>Figure 4: Ersatzschaltbild mit zusammengefassten Zweipole. \\label{}</i></p>\n",
    "<!-- end figure -->"
   ]
  },
  {
   "cell_type": "markdown",
   "id": "77e9c24c",
   "metadata": {
    "editable": true
   },
   "source": [
    "<!-- Equation labels as ordinary links -->\n",
    "<div id=\"_auto16\"></div>\n",
    "\n",
    "$$\n",
    "\\begin{equation}\n",
    "    \\frac{1}{R_{ges}} = \\frac{1}{R_1} + \\frac{1}{R_{2t}} = \\frac{5}{4 R} \n",
    "\\label{_auto16} \\tag{19}\n",
    "\\end{equation}\n",
    "$$"
   ]
  },
  {
   "cell_type": "markdown",
   "id": "49583568",
   "metadata": {
    "editable": true
   },
   "source": [
    "<!-- Equation labels as ordinary links -->\n",
    "<div id=\"_auto17\"></div>\n",
    "\n",
    "$$\n",
    "\\begin{equation} \n",
    "    R_{ges} = \\frac{4}{5}R \n",
    "\\label{_auto17} \\tag{20}\n",
    "\\end{equation}\n",
    "$$"
   ]
  },
  {
   "cell_type": "markdown",
   "id": "aded592f",
   "metadata": {
    "editable": true
   },
   "source": [
    "<!-- Equation labels as ordinary links -->\n",
    "<div id=\"_auto18\"></div>\n",
    "\n",
    "$$\n",
    "\\begin{equation} \n",
    "    C_{ges} = C_1 + C_{2t} = \\frac{5}{4} C\n",
    "\\label{_auto18} \\tag{21}\n",
    "\\end{equation}\n",
    "$$"
   ]
  },
  {
   "cell_type": "markdown",
   "id": "a8a5944a_3",
   "metadata": {
    "editable": true
   },
   "source": [
    "<!-- --- end solution of exercise --- -->"
   ]
  },
  {
   "cell_type": "markdown",
   "id": "19b48861",
   "metadata": {
    "editable": true
   },
   "source": [
    "**c)**\n",
    "Güte und Resonanz\n",
    "\n",
    "Bestimmen Sie mit den Bezeichnungen aus der vorherigen Unteraufgabe die Resonanzfrequenz $\\omega_{0t}$ und\n",
    "die Güte $Q_t$.\n",
    "\n",
    "<!-- --- begin solution of exercise --- -->\n",
    "**Solution.**"
   ]
  },
  {
   "cell_type": "markdown",
   "id": "2bd577ae",
   "metadata": {
    "editable": true
   },
   "source": [
    "<!-- Equation labels as ordinary links -->\n",
    "<div id=\"_auto19\"></div>\n",
    "\n",
    "$$\n",
    "\\begin{equation}\n",
    "    \\omega_0 = \\frac{1}{\\sqrt{L_1 C_1}} = 100\\,MHz \n",
    "\\label{_auto19} \\tag{22}\n",
    "\\end{equation}\n",
    "$$"
   ]
  },
  {
   "cell_type": "markdown",
   "id": "bace1065",
   "metadata": {
    "editable": true
   },
   "source": [
    "<!-- Equation labels as ordinary links -->\n",
    "<div id=\"_auto20\"></div>\n",
    "\n",
    "$$\n",
    "\\begin{equation} \n",
    "    \\omega_{0t} = \\frac{1}{\\sqrt{L_1 C_{ges}}} = \\sqrt{\\frac{4}{5}} \\omega_0 = 89.44\\,MHz \n",
    "\\label{_auto20} \\tag{23}\n",
    "\\end{equation}\n",
    "$$"
   ]
  },
  {
   "cell_type": "markdown",
   "id": "3e43cdc2",
   "metadata": {
    "editable": true
   },
   "source": [
    "<!-- Equation labels as ordinary links -->\n",
    "<div id=\"_auto21\"></div>\n",
    "\n",
    "$$\n",
    "\\begin{equation} \n",
    "    Q = \\frac{R_p}{\\omega_0 L_p} = \\frac{1}{G_p}\\sqrt{\\frac{C_p}{L_p}} = 20 \n",
    "\\label{_auto21} \\tag{24}\n",
    "\\end{equation}\n",
    "$$"
   ]
  },
  {
   "cell_type": "markdown",
   "id": "1b0f9952",
   "metadata": {
    "editable": true
   },
   "source": [
    "<!-- Equation labels as ordinary links -->\n",
    "<div id=\"_auto22\"></div>\n",
    "\n",
    "$$\n",
    "\\begin{equation} \n",
    "    Q_t = \\frac{1}{G_{ges}}\\sqrt{\\frac{C_{ges}}{L_1}} = R_{ges}\\sqrt{\\frac{C_{ges}}{L_1}} \n",
    "\\label{_auto22} \\tag{25}\n",
    "\\end{equation}\n",
    "$$"
   ]
  },
  {
   "cell_type": "markdown",
   "id": "b16da8be",
   "metadata": {
    "editable": true
   },
   "source": [
    "<!-- Equation labels as ordinary links -->\n",
    "<div id=\"_auto23\"></div>\n",
    "\n",
    "$$\n",
    "\\begin{equation} \n",
    "        = \\frac{4}{5}\\sqrt{\\frac{5}{4}}Q = \\sqrt{\\frac{4}{5}} Q = 17.89\n",
    "\\label{_auto23} \\tag{26}\n",
    "\\end{equation}\n",
    "$$"
   ]
  },
  {
   "cell_type": "markdown",
   "id": "a8a5944a_4",
   "metadata": {
    "editable": true
   },
   "source": [
    "<!-- --- end solution of exercise --- -->"
   ]
  }
 ],
 "metadata": {},
 "nbformat": 4,
 "nbformat_minor": 5
}
