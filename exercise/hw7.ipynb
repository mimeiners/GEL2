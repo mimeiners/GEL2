{
 "cells": [
  {
   "cell_type": "markdown",
   "id": "0d718b14",
   "metadata": {
    "editable": true
   },
   "source": [
    "<!-- File automatically generated using DocOnce (https://github.com/doconce/doconce/):\n",
    "doconce format ipynb hw7.do.txt --no_preprocess --ipynb_figure=imgtag ipynb_figure=imgtag --ipynb_movie=ipynb ipynb_movie=ipynb --ipynb_admon=hrule ipynb_admon=hrule --encoding=utf8 -->\n",
    "\n",
    "# Übungsblatt Nr. 7\n",
    "**Mirco Meiners**, Hochschule Bremen - City University of Applied Sciences\n",
    "\n",
    "Date: **Jun 13, 2024**\n",
    "\n",
    "2024, Mirco Meiners, Hochschule Bremen - City University of Applied Sciences"
   ]
  },
  {
   "cell_type": "markdown",
   "id": "1e990024",
   "metadata": {
    "editable": true
   },
   "source": [
    "# Audio-Applikationen\n",
    "\n",
    "Zur Auswertung und graphischen Darstellung der Aufgaben empfiehlt sich die Verwendung von Matlab und/oder Python,\n",
    "sowie LTspice."
   ]
  },
  {
   "cell_type": "markdown",
   "id": "315bc9d9",
   "metadata": {
    "editable": true
   },
   "source": [
    "## Resonanztransformator\n",
    "<div id=\"ex:mic\"></div>\n",
    "\n",
    "Berechnen Sie den Frequenzgang der komplexen Amplitude $A(f)=U_1(f)/U_0(f)$ der folgenden Transformator-Schaltung eines\n",
    "dynamischen Mikrofons [Figure 1](#fig:hw7p1).\n",
    "\n",
    "<!-- dom:FIGURE: [fig/hw7p1.png, width=400 frac=1.0] Ersatzschaltung eines dynamischen Mikrofons <div id=\"fig:hw7p1\"></div> -->\n",
    "<!-- begin figure -->\n",
    "<div id=\"fig:hw7p1\"></div>\n",
    "\n",
    "<img src=\"fig/hw7p1.png\" width=\"400\"><p style=\"font-size: 0.9em\"><i>Figure 1: Ersatzschaltung eines dynamischen Mikrofons</i></p>\n",
    "<!-- end figure -->"
   ]
  },
  {
   "cell_type": "markdown",
   "id": "f4df2a87",
   "metadata": {
    "editable": true
   },
   "source": [
    "$$\n",
    "\\begin{align*}\n",
    "R_0 &= \\SI{3}{\\ohm}, \\, \\text{Innenwiderstand des Mikrofons} &  \\\\\n",
    "L_0 &= \\SI{25}{H}, \\, \\text{Hauptinduktivität} & L_{\\sigma} &= \\SI{1}{H}, \\, \\text{Streuinduktivität} \\\\\n",
    "R_w &= \\SI{100}{\\ohm}, \\, \\text{Wicklungswiderstand} & C_w &= \\SI{800}{pF}, \\, \\text{Wicklungskapazität} \\\\\n",
    "R_v &= \\SI{100}{k\\ohm}, \\, \\text{Verstärker-Eingangswiderstand} & C_v &= \\SI{200}{pF}, \\, \\text{Verstärker- und Kabelkapazität} \\\\\n",
    "\\end{align*}\n",
    "$$"
   ]
  },
  {
   "cell_type": "markdown",
   "id": "c28e4f17",
   "metadata": {
    "editable": true
   },
   "source": [
    "Stellen Sie die Ergebnisse als Funktion der Frequenz grafisch dar und kommentieren Sie sie\n",
    "\n",
    "* [a)] als Ortskurve in der komplexen A-Ebene\n",
    "\n",
    "* [b)] als Betrag $\\lvert A \\lvert$ und Phase $\\phi_A$ über $\\log(f/f_0)$\n",
    "\n",
    "* [c)] als Bode-Darstellung $\\log \\lvert A \\lvert$ über $\\log(f/f_0)$.\n",
    "\n",
    "Es interessieren Grenzfrequenzen, Eckfrequenzen, Hochpass/Tiefpass-Verhalten, die Resonanz-Güte, die Rolle der einzelnen\n",
    "Komponenten im Hinblick auf die genannten Frequenzen.\n",
    "\n",
    "<!-- --- begin solution of exercise --- -->\n",
    "**Solution.**\n",
    "Um den idealen Tranformator aufzulösen muss man:\n",
    "\n",
    "* $R_0$ auf die Sekundärseite transformieren; erscheint dort als $R_{0s}=R_0/\\text{ü}^2$ mit ü=1/30.\n",
    "\n",
    "* $U_0$ durch eine sekundärseitige Ersatzspannungsquelle $U_{0s}=U_0/\\text{ü}$ ersetzen.\n",
    "\n",
    "Neues Netzwerk:\n",
    "\n",
    "<!-- dom:FIGURE: [fig/hw7p1s.png, width=400 frac=1.0] -->\n",
    "<!-- begin figure -->\n",
    "\n",
    "<img src=\"fig/hw7p1s.png\" width=\"400\"><p style=\"font-size: 0.9em\"><i>Figure 2</i></p>\n",
    "<!-- end figure -->"
   ]
  },
  {
   "cell_type": "markdown",
   "id": "d6b4c4b8",
   "metadata": {
    "editable": true
   },
   "source": [
    "<!-- Equation labels as ordinary links -->\n",
    "<div id=\"_auto1\"></div>\n",
    "\n",
    "$$\n",
    "\\begin{equation}\n",
    "U_1 = \\frac{Z_v}{Z_v + Z_2} U_h  U_h = \\frac{Z_1 || (Z_2+Z_v)}{R_{0s} + (Z_1 || (Z_2 + Z_v))} U_{0s} \n",
    "\\label{_auto1} \\tag{1}\n",
    "\\end{equation}\n",
    "$$"
   ]
  },
  {
   "cell_type": "markdown",
   "id": "6b5f21ba",
   "metadata": {
    "editable": true
   },
   "source": [
    "<!-- Equation labels as ordinary links -->\n",
    "<div id=\"_auto2\"></div>\n",
    "\n",
    "$$\n",
    "\\begin{equation}\n",
    "A = \\frac{U_1}{U_0} = \\frac{U_1}{\\text{ü} U_{0s}} = \\frac{1}{\\text{ü}} \\frac{Z_v}{Z_v + Z_2} \\frac{Z_p}{R_{0s} + Z_p} \n",
    "\\label{_auto2} \\tag{2}\n",
    "\\end{equation}\n",
    "$$"
   ]
  },
  {
   "cell_type": "markdown",
   "id": "c71508d9",
   "metadata": {
    "editable": true
   },
   "source": [
    "mit"
   ]
  },
  {
   "cell_type": "markdown",
   "id": "853f8c2b",
   "metadata": {
    "editable": true
   },
   "source": [
    "<!-- Equation labels as ordinary links -->\n",
    "<div id=\"_auto3\"></div>\n",
    "\n",
    "$$\n",
    "\\begin{equation}\n",
    "Y_1 = \\frac{1}{Z_1} = j \\omega C_w + \\frac{1}{j \\omega L_0};  Z_2 = R_w + j \\omega L_{\\sigma} \n",
    "\\label{_auto3} \\tag{3}\n",
    "\\end{equation}\n",
    "$$"
   ]
  },
  {
   "cell_type": "markdown",
   "id": "46355398",
   "metadata": {
    "editable": true
   },
   "source": [
    "<!-- Equation labels as ordinary links -->\n",
    "<div id=\"_auto4\"></div>\n",
    "\n",
    "$$\n",
    "\\begin{equation} \n",
    "Y_v = \\frac{1}{Z_v} = j \\omega C_v + \\frac{1}{R_v};  Z_p = Z_1 || (Z_2+Z_v) = \\frac{Z_1(Z_2+Z_v)}{Z_1+Z_2+Z_v}\n",
    "\\label{_auto4} \\tag{4}\n",
    "\\end{equation}\n",
    "$$"
   ]
  },
  {
   "cell_type": "code",
   "execution_count": 1,
   "id": "53e320dd",
   "metadata": {
    "collapsed": false,
    "editable": true
   },
   "outputs": [],
   "source": [
    "%matplotlib inline\n",
    "\n",
    "#!/usr/bin/env python\n",
    "\n",
    "\n",
    "\"\"\" Dynamisches Mikrofon \"\"\"\n",
    "\n",
    "__require__ = 'matplotlib==3.7.5'\n",
    "import pkg_resources\n",
    "pkg_resources.require(\"matplotlib==3.7.5\")\n",
    "\n",
    "import numpy as np\n",
    "import matplotlib.pyplot as plt\n",
    "import tikzplotlib as tikz\n",
    "\n",
    "# %% Spezifikation\n",
    "R0 = 3  # Innenwiderstand des Mikrofons\n",
    "L0 = 25  # Hauptinduktivitaet\n",
    "Ls = 1  # Streuinduktivitaet\n",
    "Rw = 100  # Wicklungswiderstand\n",
    "Cw = 800e-12  # Wicklungskapazitaet\n",
    "Rv = 100e3  # Verstaerker-Eingangswiderstand\n",
    "Cv = 200e-12  # Verstaerker- und Kabelkapazitaet\n",
    "u = 1/30  # Uebertragungsfaktor u1/u2\n",
    "\n",
    "# %% Frequenzvektor\n",
    "f = np.logspace(0, 5, 1000)\n",
    "w = 2 * np.pi * f\n",
    "f0 = 1\n",
    "\n",
    "# %% Impedanzen/Admittanzen\n",
    "Y1 = 1j*w*Cw + 1/(1j*w*L0)\n",
    "Z1 = 1/Y1\n",
    "\n",
    "Yv = 1j*w*Cv + 1/Rv\n",
    "Zv = 1/Yv\n",
    "\n",
    "Z2 = Rw + 1j*w*Ls\n",
    "\n",
    "Zp = Z1*(Z2 + Zv)/(Z1 + Z2 + Zv)\n",
    "\n",
    "R0q = R0/u**2\n",
    "\n",
    "# %% Uebertragungsfunktion\n",
    "A = 1/u * Zv/(Z2 + Zv) * Zp/(R0q + Zp)\n",
    "\n",
    "\n",
    "# %% Ortskurve von A(f)\n",
    "fig1 = plt.figure(1)\n",
    "plt.title('A-Ebene')\n",
    "plt.plot(np.real(A), np.imag(A))\n",
    "plt.xlabel('Re')\n",
    "plt.ylabel('Im')\n",
    "plt.legend(('A'))\n",
    "plt.grid()\n",
    "plt.show()\n",
    "# tikz.save('hw7p1a.tikz', figurewidth='12cm', figureheight='8cm')\n",
    "\n",
    "\n",
    "# %% Betrag und Phase von A(f)\n",
    "fig2 = plt.figure(2)\n",
    "plt.title('Betrag und Phase')\n",
    "plt.subplot(211)\n",
    "plt.semilogx(f, np.abs(A))\n",
    "# plt.xlabel(r'$\\log(f/f_0)$')\n",
    "plt.ylabel(r'|A|')\n",
    "plt.grid()\n",
    "plt.subplot(212)\n",
    "plt.semilogx(f, np.angle(A))\n",
    "plt.xlabel(r'$\\log(f/f_0)$')\n",
    "plt.ylabel(r'arg(A)')\n",
    "plt.grid()\n",
    "plt.show()\n",
    "# tikz.save('hw7p1b.tikz', figurewidth='12cm', figureheight='8cm')\n",
    "\n",
    "\n",
    "# %% Betragsfrequenzgang von A(f)\n",
    "A_dB = 20*np.log10(np.abs(A))\n",
    "\n",
    "fig3 = plt.figure(3)\n",
    "plt.title('Betragsfrequenzgang')\n",
    "plt.semilogx(f, A_dB)\n",
    "plt.xlabel(r'$\\log(f/f_0)$')\n",
    "plt.ylabel(r'$|A|$ in dB')\n",
    "plt.grid()\n",
    "plt.show()\n",
    "# tikz.save('hw7p1c.tikz', figurewidth='12cm', figureheight='8cm')"
   ]
  },
  {
   "cell_type": "markdown",
   "id": "a8a5944a",
   "metadata": {
    "editable": true
   },
   "source": [
    "<!-- --- end solution of exercise --- -->"
   ]
  },
  {
   "cell_type": "markdown",
   "id": "14b7852a",
   "metadata": {
    "editable": true
   },
   "source": [
    "## Ersatzschaltbild eines Lautsprechers\n",
    "<div id=\"ex:speaker\"></div>\n",
    "\n",
    "Die dargestellte Schaltung in [Figure 2](#fig:hw7p2) ist ein vereinfachtes Ersatzschaltbild eines elektrodynamischen\n",
    "Lautsprechers. Dabei repräsentiert $\\underline{Z}_1 = R_1 + j \\omega L_1$ die Impedanz der ruhenden Schwingspule, und\n",
    "$\\underline{Z}_M$, die Parallelschaltung aus $R_2$, $L_2$ und $C_2$, repräsentiert die dynamisch-mechanischen\n",
    "Eigenschaften des Systems.\n",
    "\n",
    "<!-- dom:FIGURE: [fig/hw7p2.png, widht=400 frac=1.0] Ersatzschaltbild eines Lautsprechers <div id=\"fig:hw7p2\"></div> -->\n",
    "<!-- begin figure -->\n",
    "<div id=\"fig:hw7p2\"></div>\n",
    "\n",
    "<img src=\"fig/hw7p2.png\" widht=\"400\"><p style=\"font-size: 0.9em\"><i>Figure 2: Ersatzschaltbild eines Lautsprechers</i></p>\n",
    "<!-- end figure -->"
   ]
  },
  {
   "cell_type": "markdown",
   "id": "ddc27f1e",
   "metadata": {
    "editable": true
   },
   "source": [
    "<!-- Equation labels as ordinary links -->\n",
    "<div id=\"_auto5\"></div>\n",
    "\n",
    "$$\n",
    "\\begin{equation}\n",
    "R_1 = \\SI{3}{\\ohm}   L_1 = \\SI{200}{\\micro\\henry} \n",
    "\\label{_auto5} \\tag{5}\n",
    "\\end{equation}\n",
    "$$"
   ]
  },
  {
   "cell_type": "markdown",
   "id": "66bf149a",
   "metadata": {
    "editable": true
   },
   "source": [
    "<!-- Equation labels as ordinary links -->\n",
    "<div id=\"_auto6\"></div>\n",
    "\n",
    "$$\n",
    "\\begin{equation} \n",
    "C_2 = \\SI{1000}{\\micro\\farad}  L_2 = \\SI{4}{mH} \n",
    "\\label{_auto6} \\tag{6}\n",
    "\\end{equation}\n",
    "$$"
   ]
  },
  {
   "cell_type": "markdown",
   "id": "26c2ace5",
   "metadata": {
    "editable": true
   },
   "source": [
    "<!-- Equation labels as ordinary links -->\n",
    "<div id=\"_auto7\"></div>\n",
    "\n",
    "$$\n",
    "\\begin{equation} \n",
    "R_2 = \\SI{30}{\\ohm}  \n",
    "\\label{_auto7} \\tag{7}\n",
    "\\end{equation}\n",
    "$$"
   ]
  },
  {
   "cell_type": "markdown",
   "id": "1a92a817",
   "metadata": {
    "editable": true
   },
   "source": [
    "<!-- Equation labels as ordinary links -->\n",
    "<div id=\"_auto8\"></div>\n",
    "\n",
    "$$\n",
    "\\begin{equation} \n",
    "\\label{_auto8} \\tag{8}\n",
    "\\end{equation}\n",
    "$$"
   ]
  },
  {
   "cell_type": "markdown",
   "id": "6b721145",
   "metadata": {
    "editable": true
   },
   "source": [
    "**a)**\n",
    "Drücken Sie die Eingangsimpedanz $\\underline{Z}_E$ der Schaltung als Funktion der verwandten Bauteile ($R_1$, $L_1$,\n",
    "$R_2$, $L_2$, $C_2$) und der Kreisfrequenz $\\omega$ aus.\n",
    "\n",
    "<!-- --- begin solution of exercise --- -->\n",
    "**Solution.**"
   ]
  },
  {
   "cell_type": "markdown",
   "id": "3fa32d55",
   "metadata": {
    "editable": true
   },
   "source": [
    "<!-- Equation labels as ordinary links -->\n",
    "<div id=\"_auto9\"></div>\n",
    "\n",
    "$$\n",
    "\\begin{equation}\n",
    "Y_M = \\frac{1}{Z_M} = j \\omega C_2 + \\frac{1}{j \\omega L_2} + \\frac{1}{R_2} \n",
    "\\label{_auto9} \\tag{9}\n",
    "\\end{equation}\n",
    "$$"
   ]
  },
  {
   "cell_type": "markdown",
   "id": "7de8c541",
   "metadata": {
    "editable": true
   },
   "source": [
    "<!-- Equation labels as ordinary links -->\n",
    "<div id=\"_auto10\"></div>\n",
    "\n",
    "$$\n",
    "\\begin{equation} \n",
    "                    = \\frac{1 - \\omega^2 L_2 C_2 + j\\frac{\\omega L}{R_2}}{j \\omega L_2} \n",
    "\\label{_auto10} \\tag{10}\n",
    "\\end{equation}\n",
    "$$"
   ]
  },
  {
   "cell_type": "markdown",
   "id": "be3e7578",
   "metadata": {
    "editable": true
   },
   "source": [
    "<!-- Equation labels as ordinary links -->\n",
    "<div id=\"_auto11\"></div>\n",
    "\n",
    "$$\n",
    "\\begin{equation} \n",
    "Z_E = R_1 + j \\omega L_1 + Z_M \n",
    "\\label{_auto11} \\tag{11}\n",
    "\\end{equation}\n",
    "$$"
   ]
  },
  {
   "cell_type": "markdown",
   "id": "6277b3ce",
   "metadata": {
    "editable": true
   },
   "source": [
    "<!-- Equation labels as ordinary links -->\n",
    "<div id=\"_auto12\"></div>\n",
    "\n",
    "$$\n",
    "\\begin{equation} \n",
    "    = R_1 + j \\omega L_1 + \\frac{j \\omega L_2}{1 - \\omega^2 L_2 C_2 + j\\frac{\\omega L}{R_2}} \n",
    "\\label{_auto12} \\tag{12}\n",
    "\\end{equation}\n",
    "$$"
   ]
  },
  {
   "cell_type": "markdown",
   "id": "a8a5944a_1",
   "metadata": {
    "editable": true
   },
   "source": [
    "<!-- --- end solution of exercise --- -->"
   ]
  },
  {
   "cell_type": "markdown",
   "id": "4a7bdb48",
   "metadata": {
    "editable": true
   },
   "source": [
    "**b)**\n",
    "Für niedrige Frequenzen ($0 \\leq f \\leq \\SI{100}{Hz}$) kann der Beitrag $\\omega L_1$ der Induktivität $L_1$ zur\n",
    "Eingangsimpedanz vernachlässigt werden. Konstruieren Sie mit dieser Vereinfachung die Ortskurve der Eingangsimpedanz\n",
    "$\\underline{Z}_{E0}$ als Funktion der Kreisfrequenz $\\omega$.\n",
    "\n",
    "<!-- --- begin solution of exercise --- -->\n",
    "**Solution.**"
   ]
  },
  {
   "cell_type": "markdown",
   "id": "e33359be",
   "metadata": {
    "editable": true
   },
   "source": [
    "<!-- Equation labels as ordinary links -->\n",
    "<div id=\"eq:1\"></div>\n",
    "\n",
    "$$\n",
    "\\begin{equation}\n",
    "\\label{eq:1} \\tag{13}\n",
    "Z_{E0} = R_1 + Z_M\n",
    "\\end{equation}\n",
    "$$"
   ]
  },
  {
   "cell_type": "markdown",
   "id": "a7703e48",
   "metadata": {
    "editable": true
   },
   "source": [
    "Konstruktion der Ortskurve $Z_{E0}(\\omega)$:\n",
    "\n",
    "* $Y_M$ zeichnen: Gerade\n",
    "\n",
    "* $Y_M$ invertieren $\\rightarrow Z_M$: Kreis\n",
    "\n",
    "* $R_1$ addieren $\\rightarrow Z_{E0}$: verschobener Kreis\n",
    "\n",
    "<!-- --- end solution of exercise --- -->"
   ]
  },
  {
   "cell_type": "markdown",
   "id": "a1617385",
   "metadata": {
    "editable": true
   },
   "source": [
    "**c)**\n",
    "Berechnen Sie den Wert der Impedanz $\\underline{Z}_{E0}$ bei der Frequenz $f$ = \\SI{100}{Hz}.\n",
    "\n",
    "<!-- --- begin solution of exercise --- -->\n",
    "**Solution.**"
   ]
  },
  {
   "cell_type": "markdown",
   "id": "972faa8b",
   "metadata": {
    "editable": true
   },
   "source": [
    "<!-- Equation labels as ordinary links -->\n",
    "<div id=\"eq:2\"></div>\n",
    "\n",
    "$$\n",
    "\\begin{equation}\n",
    "\\label{eq:2} \\tag{14}\n",
    "Z_{E0}(f=\\SI{100}{Hz}) = (3.6 - j 4.25) \\Omega\n",
    "\\end{equation}\n",
    "$$"
   ]
  },
  {
   "cell_type": "markdown",
   "id": "a8a5944a_2",
   "metadata": {
    "editable": true
   },
   "source": [
    "<!-- --- end solution of exercise --- -->"
   ]
  },
  {
   "cell_type": "markdown",
   "id": "386f1c1d",
   "metadata": {
    "editable": true
   },
   "source": [
    "**d)**\n",
    "Geben Sie näherungsweise die Ortskurve der Impedanz $\\underline{Z}_E$ als Funktion der Kreisfrequenz $\\omega$ an,\n",
    "inklusive des Beitrags der Induktivität $L_1$.\n",
    "\n",
    "<!-- --- begin solution of exercise --- -->\n",
    "**Solution.**\n",
    "Für $f \\leq \\SI{100}{Hz}$ ist $\\omega L_1 \\leq 0.125$, daraus folgt für $f \\leq \\SI{100}{Hz}$ dass $Z_E \\approx\n",
    "Z_{E0}$.\n",
    "\n",
    "Für $f >> \\SI{100}{Hz}$ ist $Z_{E0} \\approx R_1$ und $Z_E \\approx R_1 + j \\omega L_1$.\n",
    "<!-- --- end solution of exercise --- -->"
   ]
  },
  {
   "cell_type": "markdown",
   "id": "ef3f4fb5",
   "metadata": {
    "editable": true
   },
   "source": [
    "**e)**\n",
    "Der Lautsprecher werde aus einer Sinusspannungsquelle mit $\\hat{U}_0$ = \\SI{10}{V} und Innenwiderstand $R_i$ =\n",
    "\\SI{0.5}{\\ohm} gespeist. Stellen Sie das Verhältnis der Effektivwerte von $I_R$ und $I$ sowie den Phasenwinkel von $I_R$\n",
    "zu $I$ als Funktion der Frequenz graphisch dar (Bode-Diagramm).\n",
    "\n",
    "Berechnen Sie die abgestrahlte Schallleistung $P_S = R I^2_{R,eff}$ als Funktion der normierten Verstimmung $\\nu =\n",
    "\\omega/\\omega_0 - \\omega_0/\\omega$, wobei $\\omega_0=(L_2 C_2)^{-1/2}$ ist, und stellen Sie $P_S(\\nu)$ graphisch dar. Wie\n",
    "gro{\\ss} ist die von der Schaltung aufgenommene Wirkleistung bei $\\omega=\\omega_0$?\n",
    "\n",
    "<!-- --- begin solution of exercise --- -->\n",
    "**Solution.**"
   ]
  },
  {
   "cell_type": "markdown",
   "id": "b1b5dfdb",
   "metadata": {
    "editable": true
   },
   "source": [
    "<!-- Equation labels as ordinary links -->\n",
    "<div id=\"_auto13\"></div>\n",
    "\n",
    "$$\n",
    "\\begin{equation}\n",
    "\\frac{I_R}{I} = \\frac{Z_M}{R_2} = \\frac{j \\omega L_2}{R_2(1 - \\omega^2 L_2C_2) + j \\omega L_2} \n",
    "\\label{_auto13} \\tag{15}\n",
    "\\end{equation}\n",
    "$$"
   ]
  },
  {
   "cell_type": "markdown",
   "id": "e86a8639",
   "metadata": {
    "editable": true
   },
   "source": [
    "<!-- Equation labels as ordinary links -->\n",
    "<div id=\"_auto14\"></div>\n",
    "\n",
    "$$\n",
    "\\begin{equation} \n",
    "= \\frac{1}{1 + R_2 \\left(\\frac{1}{ j\\omega L_2} + j \\omega C_2 \\right)} \n",
    "\\label{_auto14} \\tag{16}\n",
    "\\end{equation}\n",
    "$$"
   ]
  },
  {
   "cell_type": "markdown",
   "id": "acc103f1",
   "metadata": {
    "editable": true
   },
   "source": [
    "<!-- Equation labels as ordinary links -->\n",
    "<div id=\"_auto15\"></div>\n",
    "\n",
    "$$\n",
    "\\begin{equation} \n",
    "= \\frac{1}{1 + j R_2 \\sqrt{\\frac{C_2}{L_2}}\\left(\\omega \\sqrt{L_2C_2} - \\frac{1}{\\omega\\sqrt{L_2C_2}}\\right)} \n",
    "\\label{_auto15} \\tag{17}\n",
    "\\end{equation}\n",
    "$$"
   ]
  },
  {
   "cell_type": "markdown",
   "id": "55407389",
   "metadata": {
    "editable": true
   },
   "source": [
    "<!-- Equation labels as ordinary links -->\n",
    "<div id=\"_auto16\"></div>\n",
    "\n",
    "$$\n",
    "\\begin{equation} \n",
    "= \\frac{1}{1 + j Q \\underbrace{\\left(\\frac{\\omega}{\\omega_0} - \\frac{\\omega_0}{\\omega}\\right)}_{\\nu}}\n",
    "\\label{_auto16} \\tag{18}\n",
    "\\end{equation}\n",
    "$$"
   ]
  },
  {
   "cell_type": "markdown",
   "id": "07621e2c",
   "metadata": {
    "editable": true
   },
   "source": [
    "Die Güte $Q=\\frac{R_2}{\\sqrt{\\frac{L_2}{C_2}}}=15$."
   ]
  },
  {
   "cell_type": "markdown",
   "id": "83ef4306",
   "metadata": {
    "editable": true
   },
   "source": [
    "<!-- Equation labels as ordinary links -->\n",
    "<div id=\"_auto17\"></div>\n",
    "\n",
    "$$\n",
    "\\begin{equation}\n",
    "\\frac{I_{R,eff}}{I_{eff}} = \\frac{\\lvert I_R \\lvert}{\\lvert I \\lvert} = \\frac{1}{\\sqrt{1 + Q^2 \\nu^2}}\n",
    "\\label{_auto17} \\tag{19}\n",
    "\\end{equation}\n",
    "$$"
   ]
  },
  {
   "cell_type": "markdown",
   "id": "8bd3a476",
   "metadata": {
    "editable": true
   },
   "source": [
    "Eine vernünftige Darstellung ist doppelt-logarithmisch (Bode-Diagramm)."
   ]
  },
  {
   "cell_type": "markdown",
   "id": "649d6f3d",
   "metadata": {
    "editable": true
   },
   "source": [
    "<!-- Equation labels as ordinary links -->\n",
    "<div id=\"_auto18\"></div>\n",
    "\n",
    "$$\n",
    "\\begin{equation}\n",
    "\\varphi = \\arg\\left(\\frac{I_r}{I}\\right) = -\\arctan \\left(Q \\nu \\right)\n",
    "\\label{_auto18} \\tag{20}\n",
    "\\end{equation}\n",
    "$$"
   ]
  },
  {
   "cell_type": "markdown",
   "id": "177514b8",
   "metadata": {
    "editable": true
   },
   "source": [
    "Die Schallleistung ergibt sich wie folgt:"
   ]
  },
  {
   "cell_type": "markdown",
   "id": "1e1f395f",
   "metadata": {
    "editable": true
   },
   "source": [
    "<!-- Equation labels as ordinary links -->\n",
    "<div id=\"_auto19\"></div>\n",
    "\n",
    "$$\n",
    "\\begin{equation}\n",
    "P_S = R_2 I^2_{R,eff} = R_2 I^2_{eff} \\frac{I^2_{R,eff}}{I^2_{eff}} \n",
    "\\label{_auto19} \\tag{21}\n",
    "\\end{equation}\n",
    "$$"
   ]
  },
  {
   "cell_type": "markdown",
   "id": "68aab539",
   "metadata": {
    "editable": true
   },
   "source": [
    "<!-- Equation labels as ordinary links -->\n",
    "<div id=\"_auto20\"></div>\n",
    "\n",
    "$$\n",
    "\\begin{equation} \n",
    "= R_2 \\frac{\\frac{\\hat{U}^2_0}{2}}{\\lvert Z_E + R_i \\lvert^2} \\frac{1}{1 + Q^2 \\nu^2}\n",
    "\\label{_auto20} \\tag{22}\n",
    "\\end{equation}\n",
    "$$"
   ]
  },
  {
   "cell_type": "markdown",
   "id": "8c69ead5",
   "metadata": {
    "editable": true
   },
   "source": [
    "Für die exakte Berechnung $Z_E$ aus the section [ex:ZE](#ex:ZE) einsetzen, genähert the section [ex:ZE0](#ex:ZE0) benutzen.\n",
    "\n",
    "Wenn $\\omega = \\omega_0$, dann $\\nu = 0$:"
   ]
  },
  {
   "cell_type": "markdown",
   "id": "097810dd",
   "metadata": {
    "editable": true
   },
   "source": [
    "<!-- Equation labels as ordinary links -->\n",
    "<div id=\"_auto21\"></div>\n",
    "\n",
    "$$\n",
    "\\begin{equation}\n",
    "P_S \\approx R_2 \\frac{\\frac{\\hat{U}^2_0}{2}}{\\left( R_1 + R_i + R_2 \\right)^2} = \\SI{1.3}{W}\n",
    "\\label{_auto21} \\tag{23}\n",
    "\\end{equation}\n",
    "$$"
   ]
  },
  {
   "cell_type": "code",
   "execution_count": 2,
   "id": "3c3af58c",
   "metadata": {
    "collapsed": false,
    "editable": true
   },
   "outputs": [],
   "source": [
    "#!/usr/bin/env python\n",
    "\n",
    "\"\"\" Lautsprecher \"\"\"\n",
    "\n",
    "__require__ = 'matplotlib==3.7.5'\n",
    "import pkg_resources\n",
    "pkg_resources.require(\"matplotlib==3.7.5\")\n",
    "\n",
    "import numpy as np\n",
    "import matplotlib.pyplot as plt\n",
    "import tikzplotlib as tikz\n",
    "\n",
    "# %% Spezifikation\n",
    "L1 = 200e-6\n",
    "R1 = 3\n",
    "C2 = 1000e-6\n",
    "L2 = 4e-3\n",
    "R2 = 30\n",
    "\n",
    "# %% Frequenzvektor\n",
    "f = np.logspace(0, 4, 2000)\n",
    "w = 2 * np.pi * f\n",
    "\n",
    "# %% Impedanzen/Admittanzen\n",
    "YM = 1j*w*C2 + 1/(1j*w*L2) + 1/R2\n",
    "ZM = 1/YM\n",
    "\n",
    "ZE = R1 + 1j*w*L1 + ZM\n",
    "\n",
    "ZE0 = R1 + ZM\n",
    "\n",
    "\n",
    "# %% Ortskurve von ZE0(w)\n",
    "fig1 = plt.figure(1)\n",
    "plt.title('Ortskurve')\n",
    "plt.plot(np.real(ZE0), np.imag(ZE0), label=r'$Z_{E0}$')\n",
    "plt.xlabel('Re')\n",
    "plt.ylabel('Im')\n",
    "plt.legend()\n",
    "plt.grid()\n",
    "plt.show()\n",
    "# tikz.save('hw7p1a.tikz', figurewidth='12cm', figureheight='8cm')\n",
    "\n",
    "# %% Uebertragungsfunktion\n",
    "Q = R2/(np.sqrt(L2/C2))  # Guete\n",
    "print(Q)\n",
    "\n",
    "w0 = 1/np.sqrt(L2*C2)\n",
    "print(w0)\n",
    "\n",
    "v = (w/w0 - w0/w)  # Verstimmung\n",
    "\n",
    "HI = 1/(1 + 1j*Q*v)\n",
    "HI_dB = 20*np.log10(np.abs(HI))\n",
    "w_w0 = w/w0\n",
    "\n",
    "# %% Betrag und Phase von HI(w/w0)\n",
    "fig2 = plt.figure(2)\n",
    "plt.title('Betrag und Phase')\n",
    "plt.subplot(211)\n",
    "plt.semilogx(w_w0, HI_dB)\n",
    "plt.ylabel(r'$|I_R/I|$ in dB' )\n",
    "plt.grid()\n",
    "plt.subplot(212)\n",
    "plt.semilogx(w_w0, np.angle(HI))\n",
    "plt.xlabel(r'$\\log(\\omega/\\omega_0)$')\n",
    "plt.ylabel(r'$\\arg(I_R/I)$')\n",
    "plt.grid()\n",
    "plt.show()\n",
    "# tikz.save('hw7p1b.tikz', figurewidth='12cm', figureheight='8cm')\n",
    "\n",
    "\n",
    "# %% Schallleistung Ps\n",
    "U0s = 10\n",
    "Ri = 0.5\n",
    "\n",
    "Ps = R2 * (U0s**2/2)/(np.abs(ZE + Ri)**2) * 1/(1 + Q**2 * v**2)\n",
    "\n",
    "fig3 = plt.figure(3)\n",
    "plt.title(r'Schallleistung')\n",
    "plt.plot(v, Ps)\n",
    "plt.xlabel(r'$\\nu$')\n",
    "plt.ylabel(r'$P_S$ in W')\n",
    "plt.axis([-4, 4, 0, 1.5])\n",
    "plt.grid()\n",
    "plt.show()\n",
    "# tikz.save('hw7p1c.tikz', figurewidth='12cm', figureheight='8cm')"
   ]
  },
  {
   "cell_type": "markdown",
   "id": "a8a5944a_3",
   "metadata": {
    "editable": true
   },
   "source": [
    "<!-- --- end solution of exercise --- -->"
   ]
  }
 ],
 "metadata": {},
 "nbformat": 4,
 "nbformat_minor": 5
}
