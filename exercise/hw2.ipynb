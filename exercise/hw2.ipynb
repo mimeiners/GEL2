{
 "cells": [
  {
   "cell_type": "markdown",
   "id": "8427744b",
   "metadata": {
    "editable": true
   },
   "source": [
    "<!-- File automatically generated using DocOnce (https://github.com/doconce/doconce/):\n",
    "doconce format ipynb hw2.do.txt --no_preprocess --ipynb_figure=imgtag ipynb_figure=imgtag --ipynb_movie=ipynb ipynb_movie=ipynb --ipynb_admon=hrule ipynb_admon=hrule --encoding=utf8 -->\n",
    "\n",
    "# Übungblatt 2"
   ]
  },
  {
   "cell_type": "markdown",
   "id": "5494d40d",
   "metadata": {
    "editable": true
   },
   "source": [
    "## Komplexe Signale\n",
    "\n",
    "<!-- dom:FIGURE: [hw2p1.png, width=600 frac=0.75] Oszillogramm der Spannungsmessung. <div id=\"fig:hw2p1\"></div> -->\n",
    "<!-- begin figure -->\n",
    "<div id=\"fig:hw2p1\"></div>\n",
    "\n",
    "<img src=\"hw2p1.png\" width=\"600\"><p style=\"font-size: 0.9em\"><i>Figure 1: Oszillogramm der Spannungsmessung.</i></p>\n",
    "<!-- end figure -->\n",
    "\n",
    "Mit einem Oszilloskop wird die Zeitabhängigkeit von zwei Sinussignalen, wie in Abb. [fig:hw2p1](#fig:hw2p1) dargestellt, gemessen."
   ]
  },
  {
   "cell_type": "markdown",
   "id": "d4f26ca6",
   "metadata": {
    "editable": true
   },
   "source": [
    "**a)**\n",
    "Geben Sie für die Spannungen $u_1(t)$ und $u_2(t)$ folgende Größen an:\n",
    "\n",
    "* die Periodendauer $T$\n",
    "\n",
    "* die Frequenz $f$\n",
    "\n",
    "* die Kreisfrequenz $\\omega$.\n",
    "\n",
    "<!-- --- begin solution of exercise --- -->\n",
    "**Solution.**"
   ]
  },
  {
   "cell_type": "markdown",
   "id": "467f9087",
   "metadata": {
    "editable": true
   },
   "source": [
    "<!-- Equation labels as ordinary links -->\n",
    "<div id=\"_auto1\"></div>\n",
    "\n",
    "$$\n",
    "\\begin{equation}\n",
    "T = \\SI{8}{\\milli\\second} \n",
    "\\label{_auto1} \\tag{1}\n",
    "\\end{equation}\n",
    "$$"
   ]
  },
  {
   "cell_type": "markdown",
   "id": "b80ab3f4",
   "metadata": {
    "editable": true
   },
   "source": [
    "<!-- Equation labels as ordinary links -->\n",
    "<div id=\"_auto2\"></div>\n",
    "\n",
    "$$\n",
    "\\begin{equation} \n",
    "f = \\frac{1}{T}=\\SI{125}{Hz} \n",
    "\\label{_auto2} \\tag{2}\n",
    "\\end{equation}\n",
    "$$"
   ]
  },
  {
   "cell_type": "markdown",
   "id": "f4d90c21",
   "metadata": {
    "editable": true
   },
   "source": [
    "<!-- Equation labels as ordinary links -->\n",
    "<div id=\"_auto3\"></div>\n",
    "\n",
    "$$\n",
    "\\begin{equation} \n",
    "\\omega = 2\\pi f = \\SI{785}{\\per\\second}\n",
    "\\label{_auto3} \\tag{3}\n",
    "\\end{equation}\n",
    "$$"
   ]
  },
  {
   "cell_type": "markdown",
   "id": "da000ab0",
   "metadata": {
    "editable": true
   },
   "source": [
    "<!-- --- end solution of exercise --- -->"
   ]
  },
  {
   "cell_type": "markdown",
   "id": "c0ceaf45",
   "metadata": {
    "editable": true
   },
   "source": [
    "**b)**\n",
    "Geben Sie für die Darstellungen der Sinus- und Kosinussignale"
   ]
  },
  {
   "cell_type": "markdown",
   "id": "9361fb10",
   "metadata": {
    "editable": true
   },
   "source": [
    "<!-- Equation labels as ordinary links -->\n",
    "<div id=\"_auto4\"></div>\n",
    "\n",
    "$$\n",
    "\\begin{equation}\n",
    "u_i(t) = \\hat{U}_i \\sin(\\omega t + \\varphi_{ui}) \\quad\\mbox{und} \n",
    "\\label{_auto4} \\tag{4}\n",
    "\\end{equation}\n",
    "$$"
   ]
  },
  {
   "cell_type": "markdown",
   "id": "efb218c6",
   "metadata": {
    "editable": true
   },
   "source": [
    "<!-- Equation labels as ordinary links -->\n",
    "<div id=\"_auto5\"></div>\n",
    "\n",
    "$$\n",
    "\\begin{equation} \n",
    "u_i(t) = \\hat{U}_i \\cos(\\omega t + \\psi_{ui})\n",
    "\\label{_auto5} \\tag{5}\n",
    "\\end{equation}\n",
    "$$"
   ]
  },
  {
   "cell_type": "markdown",
   "id": "fcb1dfc8",
   "metadata": {
    "editable": true
   },
   "source": [
    "die Amplituden $\\hat{U}_i$ und die Phasen $\\varphi_{ui}$ und $\\psi_{ui}$ mit $i=1,2$ an.\n",
    "\n",
    "<!-- --- begin solution of exercise --- -->\n",
    "**Solution.**\n",
    "Die Amplituden der Spannungen sind $\\hat{U}_1=\\SI{15}{\\volt}$ und $\\hat{U}_2=\\SI{10}{\\volt}$.\n",
    "\n",
    "Die zeitlichen Verläufen können dann wie folgt angegeben werden:"
   ]
  },
  {
   "cell_type": "markdown",
   "id": "77286455",
   "metadata": {
    "editable": true
   },
   "source": [
    "<!-- Equation labels as ordinary links -->\n",
    "<div id=\"_auto6\"></div>\n",
    "\n",
    "$$\n",
    "\\begin{equation}\n",
    "u_1(t) = -\\hat{U}_1 \\cos(\\omega t) = \\hat{U}_1 \\cos(\\omega t  \\pm \\pi) \n",
    "\\label{_auto6} \\tag{6}\n",
    "\\end{equation}\n",
    "$$"
   ]
  },
  {
   "cell_type": "markdown",
   "id": "55724b3c",
   "metadata": {
    "editable": true
   },
   "source": [
    "<!-- Equation labels as ordinary links -->\n",
    "<div id=\"_auto7\"></div>\n",
    "\n",
    "$$\n",
    "\\begin{equation} \n",
    "u_1(t) = \\hat{U}_1 \\sin\\left(\\omega t - \\frac{\\pi}{2}\\right) \n",
    "\\label{_auto7} \\tag{7}\n",
    "\\end{equation}\n",
    "$$"
   ]
  },
  {
   "cell_type": "markdown",
   "id": "4ea055bd",
   "metadata": {
    "editable": true
   },
   "source": [
    "<!-- Equation labels as ordinary links -->\n",
    "<div id=\"_auto8\"></div>\n",
    "\n",
    "$$\n",
    "\\begin{equation} \n",
    "u_2(t) = \\hat{U}_2 \\cos(\\omega(t-\\SI{1}{\\milli\\second})) = \\hat{U}_2\n",
    "\\cos\\left(\\omega t - \\frac{\\pi}{4}\\right); \n",
    "\\label{_auto8} \\tag{8}\n",
    "\\end{equation}\n",
    "$$"
   ]
  },
  {
   "cell_type": "markdown",
   "id": "cf65d806",
   "metadata": {
    "editable": true
   },
   "source": [
    "<!-- Equation labels as ordinary links -->\n",
    "<div id=\"_auto9\"></div>\n",
    "\n",
    "$$\n",
    "\\begin{equation} \n",
    "u_2(t) = \\hat{U}_2 \\sin\\left(\\omega t + \\frac{\\pi}{4}\\right)\n",
    "\\label{_auto9} \\tag{9}\n",
    "\\end{equation}\n",
    "$$"
   ]
  },
  {
   "cell_type": "markdown",
   "id": "3533b0cd",
   "metadata": {
    "editable": true
   },
   "source": [
    "<!-- --- end solution of exercise --- -->"
   ]
  },
  {
   "cell_type": "markdown",
   "id": "be8a6832",
   "metadata": {
    "editable": true
   },
   "source": [
    "**c)**\n",
    "Wenn $u_1(t)$  die Eingangsspannung und $u_2(t)$ die Ausgangsspannung einer Schaltung bedeuten, wie groß ist dann der\n",
    "komplexe Übertragungsfaktor $\\underline{H} = \\underline{U}_2 / \\underline{U}_1$ der Schaltung?\n",
    "\n",
    "<!-- --- begin solution of exercise --- -->\n",
    "**Solution.**\n",
    "Die Umrechnung der reellen Spannungsverläufe in komplexe Größen geschieht über die Funktionaltransformation."
   ]
  },
  {
   "cell_type": "markdown",
   "id": "1c21668c",
   "metadata": {
    "editable": true
   },
   "source": [
    "<!-- Equation labels as ordinary links -->\n",
    "<div id=\"_auto10\"></div>\n",
    "\n",
    "$$\n",
    "\\begin{equation}\n",
    "u(t) = \\operatorname{Re}\\left\\{\\underline{u}(t)\\right\\}=\\operatorname{Re}\\left\\{\\underline{\\hat{U}}e^{j\\omega t}\\right\\} =\n",
    "\\operatorname{Re}\\left\\{\\hat{U}e^{j(\\omega t+\\varphi_u)}\\right\\}=\\operatorname{Re}\\left\\{\\hat{U}e^{j\\omega t}e^{j\\varphi_u}\\right\\} \n",
    "\\label{_auto10} \\tag{10}\n",
    "\\end{equation}\n",
    "$$"
   ]
  },
  {
   "cell_type": "markdown",
   "id": "18447d2e",
   "metadata": {
    "editable": true
   },
   "source": [
    "<!-- Equation labels as ordinary links -->\n",
    "<div id=\"_auto11\"></div>\n",
    "\n",
    "$$\n",
    "\\begin{equation} \n",
    "= \\operatorname{Re}\\left\\{\\hat{U}\\cos(\\omega t + \\varphi_u) + j \\hat{U} \\sin(\\omega t + \\varphi_u) \\right\\} \n",
    "\\label{_auto11} \\tag{11}\n",
    "\\end{equation}\n",
    "$$"
   ]
  },
  {
   "cell_type": "markdown",
   "id": "fc7a279b",
   "metadata": {
    "editable": true
   },
   "source": [
    "<!-- Equation labels as ordinary links -->\n",
    "<div id=\"_auto12\"></div>\n",
    "\n",
    "$$\n",
    "\\begin{equation} \n",
    "\\underline{u}(t) = \\underline{\\hat{U}}e^{j\\omega t} \\quad \\mbox{rotierender Zeiger, komplexer Momentanwert} \n",
    "\\label{_auto12} \\tag{12}\n",
    "\\end{equation}\n",
    "$$"
   ]
  },
  {
   "cell_type": "markdown",
   "id": "4ca59eeb",
   "metadata": {
    "editable": true
   },
   "source": [
    "<!-- Equation labels as ordinary links -->\n",
    "<div id=\"_auto13\"></div>\n",
    "\n",
    "$$\n",
    "\\begin{equation} \n",
    "\\underline{u}(0) = \\underline{\\hat{U}}e^{j0}=\\hat{U}e^{j\\varphi_u} \\quad \\mbox{ruhender Zeiger, komplexer Scheitelwert} \n",
    "\\label{_auto13} \\tag{13}\n",
    "\\end{equation}\n",
    "$$"
   ]
  },
  {
   "cell_type": "markdown",
   "id": "62b0558b",
   "metadata": {
    "editable": true
   },
   "source": [
    "<!-- Equation labels as ordinary links -->\n",
    "<div id=\"_auto14\"></div>\n",
    "\n",
    "$$\n",
    "\\begin{equation} \n",
    "\\underline{U} = \\frac{1}{\\sqrt{2}}\\hat{U} e^{j\\varphi_u} \\quad \\mbox{komplexer Effektivwert}\n",
    "\\label{_auto14} \\tag{14}\n",
    "\\end{equation}\n",
    "$$"
   ]
  },
  {
   "cell_type": "markdown",
   "id": "e95ac2ee",
   "metadata": {
    "editable": true
   },
   "source": [
    "<!-- Equation labels as ordinary links -->\n",
    "<div id=\"_auto15\"></div>\n",
    "\n",
    "$$\n",
    "\\begin{equation} \n",
    "\\underline{U}_1 = \\frac{1}{\\sqrt{2}} \\hat{U}_1 e^{- j \\pi} \n",
    "\\label{_auto15} \\tag{15}\n",
    "\\end{equation}\n",
    "$$"
   ]
  },
  {
   "cell_type": "markdown",
   "id": "5a1816b8",
   "metadata": {
    "editable": true
   },
   "source": [
    "<!-- Equation labels as ordinary links -->\n",
    "<div id=\"_auto16\"></div>\n",
    "\n",
    "$$\n",
    "\\begin{equation} \n",
    "\\underline{U}_2 =  \\frac{1}{\\sqrt{2}} \\hat{U}_2 e^{-j\\frac{\\pi}{4}} \n",
    "\\label{_auto16} \\tag{16}\n",
    "\\end{equation}\n",
    "$$"
   ]
  },
  {
   "cell_type": "markdown",
   "id": "d8251adb",
   "metadata": {
    "editable": true
   },
   "source": [
    "<!-- Equation labels as ordinary links -->\n",
    "<div id=\"_auto17\"></div>\n",
    "\n",
    "$$\n",
    "\\begin{equation} \n",
    "\\underline{H} = \\frac{\\underline{U}_2}{\\underline{U}_1} =\n",
    "\\frac{\\hat{U}_2 e^{-j\\frac{\\pi}{4}}}{\\hat{U}_1 e^{- j \\pi}} =\n",
    "\\frac{\\hat{U}_2}{\\hat{U}_1} e^{j (-\\frac{\\pi}{4}+\\pi)} =\n",
    "\\frac{2}{3}  e^{j \\frac{3}{4}\\pi}\n",
    "\\label{_auto17} \\tag{17}\n",
    "\\end{equation}\n",
    "$$"
   ]
  },
  {
   "cell_type": "markdown",
   "id": "33ced5f4",
   "metadata": {
    "editable": true
   },
   "source": [
    "<!-- --- end solution of exercise --- -->"
   ]
  },
  {
   "cell_type": "markdown",
   "id": "232ceeb5",
   "metadata": {
    "editable": true
   },
   "source": [
    "**d)**\n",
    "Zeichnen Sie in das Oszillogramm den Verlauf der Spannung $u_3(t)$ mit der Frequenz $f=\\SI{100}{\\hertz}$ und dem komplexen\n",
    "Scheitelwert $\\underline{\\hat{U}}_3 = (15-j 20)\\SI{}{\\volt}$ (karthesische Koordinaten) ein.\n",
    "\n",
    "<!-- --- begin solution of exercise --- -->\n",
    "**Solution.**\n",
    "Darstellung des komplexen Scheitelwertes $\\underline{\\hat{U}}_3$ in Polarkoordinaten, Betrag und Phase."
   ]
  },
  {
   "cell_type": "markdown",
   "id": "9c2e573b",
   "metadata": {
    "editable": true
   },
   "source": [
    "<!-- Equation labels as ordinary links -->\n",
    "<div id=\"_auto18\"></div>\n",
    "\n",
    "$$\n",
    "\\begin{equation}\n",
    "\\underline{\\hat{U}}_3 = \\sqrt{15^2 + 20^2} \\exp \\left(j \\,\\arctan\\left(\\frac{-20}{15}\\right)\\right) =\n",
    "25 e^{-j 0.927} \n",
    "\\label{_auto18} \\tag{18}\n",
    "\\end{equation}\n",
    "$$"
   ]
  },
  {
   "cell_type": "markdown",
   "id": "e0738b3f",
   "metadata": {
    "editable": true
   },
   "source": [
    "<!-- Equation labels as ordinary links -->\n",
    "<div id=\"_auto19\"></div>\n",
    "\n",
    "$$\n",
    "\\begin{equation} \n",
    "u_3(t) = \\operatorname{Re}\\left\\{\\underline{\\hat{U}}_3e^{j\\omega_3 t}\\right\\} =\n",
    "\\SI{25}{\\volt} \\cos(\\omega_3 t - 0.927) =\n",
    "\\SI{25}{\\volt} \\cos\\left(\\omega_3 (t-\\SI{1.43}{\\milli\\second})\\right)\n",
    "\\label{_auto19} \\tag{19}\n",
    "\\end{equation}\n",
    "$$"
   ]
  },
  {
   "cell_type": "markdown",
   "id": "7009facd",
   "metadata": {
    "editable": true
   },
   "source": [
    "<!-- --- end solution of exercise --- -->"
   ]
  },
  {
   "cell_type": "markdown",
   "id": "1ffced61",
   "metadata": {
    "editable": true
   },
   "source": [
    "## Wirkleistung, Blindleistung und Scheinleistung\n",
    "<div id=\"sec:hw2p2\"></div>\n",
    "\n",
    "<!-- dom:FIGURE: [hw2p2.png, width=400 frac=0.75] Oszillogramm der Strom- und Spannungsmessung. <div id=\"fig:hw2p2\"></div> -->\n",
    "<!-- begin figure -->\n",
    "<div id=\"fig:hw2p2\"></div>\n",
    "\n",
    "<img src=\"hw2p2.png\" width=\"400\"><p style=\"font-size: 0.9em\"><i>Figure 2: Oszillogramm der Strom- und Spannungsmessung.</i></p>\n",
    "<!-- end figure -->\n",
    "\n",
    "An einem Verbraucher mit der Impedanz $Z$ wird mittels eines Zweistrahloszilloskops eine zeitaufgelöste Strommessung des Stroms $i(t)$\n",
    "durchgeführt. Gleichzeitig wird die Klemmenspannung $u(t)$ mit aufgenommen. Beide Zeitfunktionen sind sinusförmig. Ihre Amplituden und\n",
    "relativen Lagen sind der Fig. [fig:hw2p2](#fig:hw2p2) zu entnehmen."
   ]
  },
  {
   "cell_type": "markdown",
   "id": "fd9a0da7",
   "metadata": {
    "editable": true
   },
   "source": [
    "**a)**\n",
    "Stellen Sie Strom und Spannung in reeller und komplexer Schreibweise dar.\n",
    "\n",
    "<!-- --- begin solution of exercise --- -->\n",
    "**Solution.**\n",
    "**Reelle Schreibweise:**"
   ]
  },
  {
   "cell_type": "markdown",
   "id": "b7d56145",
   "metadata": {
    "editable": true
   },
   "source": [
    "<!-- Equation labels as ordinary links -->\n",
    "<div id=\"_auto20\"></div>\n",
    "\n",
    "$$\n",
    "\\begin{equation}\n",
    "u(t) = \\hat{U} \\sin(\\omega t); \\quad \\hat{U}=\\SI{44.7}{\\volt} \n",
    "\\label{_auto20} \\tag{20}\n",
    "\\end{equation}\n",
    "$$"
   ]
  },
  {
   "cell_type": "markdown",
   "id": "931adb6c",
   "metadata": {
    "editable": true
   },
   "source": [
    "<!-- Equation labels as ordinary links -->\n",
    "<div id=\"_auto21\"></div>\n",
    "\n",
    "$$\n",
    "\\begin{equation} \n",
    "i(t) = -\\hat{I} \\sin(\\omega (t-\\Delta t)); \\quad \\hat{I}=\\SI{2}{\\ampere}, \\, \\Delta t = \\SI{13.5}{\\milli\\second}\n",
    "\\label{_auto21} \\tag{21}\n",
    "\\end{equation}\n",
    "$$"
   ]
  },
  {
   "cell_type": "markdown",
   "id": "1969f00e",
   "metadata": {
    "editable": true
   },
   "source": [
    "**Komplexe Schreibweise:**"
   ]
  },
  {
   "cell_type": "markdown",
   "id": "daf63673",
   "metadata": {
    "editable": true
   },
   "source": [
    "<!-- Equation labels as ordinary links -->\n",
    "<div id=\"_auto22\"></div>\n",
    "\n",
    "$$\n",
    "\\begin{equation}\n",
    "u(t) = \\hat{U} \\cos\\left(\\omega t - \\frac{\\pi}{2} \\right) \\rightarrow \\underline{U} =\n",
    "\\frac{1}{\\sqrt{2}} \\hat{U}e^{-j\\frac{\\pi}{2}} \n",
    "\\label{_auto22} \\tag{22}\n",
    "\\end{equation}\n",
    "$$"
   ]
  },
  {
   "cell_type": "markdown",
   "id": "6842a5f8",
   "metadata": {
    "editable": true
   },
   "source": [
    "<!-- Equation labels as ordinary links -->\n",
    "<div id=\"_auto23\"></div>\n",
    "\n",
    "$$\n",
    "\\begin{equation} \n",
    "i(t) = -\\hat{I} \\cos\\left(\\omega t- \\omega\\Delta t -\\frac{\\pi}{2}\\right) \\rightarrow \\underline{I}\n",
    "= -\\frac{1}{\\sqrt{2}}\\hat{I} e^{-j(\\omega \\Delta t + \\frac{\\pi}{2})}\n",
    "\\label{_auto23} \\tag{23}\n",
    "\\end{equation}\n",
    "$$"
   ]
  },
  {
   "cell_type": "markdown",
   "id": "6dd7aef0",
   "metadata": {
    "editable": true
   },
   "source": [
    "<!-- --- end solution of exercise --- -->"
   ]
  },
  {
   "cell_type": "markdown",
   "id": "401dc508",
   "metadata": {
    "editable": true
   },
   "source": [
    "**b)**\n",
    "Geben Sie für den Verbraucher die komplexe Leistung $\\underline{P}=P+jQ$ mit aufgenommener Wirkleistung $P$ und\n",
    "aufgenommener Blindleistung $Q$ an.\n",
    "\n",
    "<!-- --- begin solution of exercise --- -->\n",
    "**Solution.**"
   ]
  },
  {
   "cell_type": "markdown",
   "id": "dfe3b1a4",
   "metadata": {
    "editable": true
   },
   "source": [
    "<!-- Equation labels as ordinary links -->\n",
    "<div id=\"_auto24\"></div>\n",
    "\n",
    "$$\n",
    "\\begin{equation}\n",
    "\\underline{P} = \\underline{U} \\cdot \\underline{I}^* = -\\frac{1}{2} \\hat{U} \\hat{I} e^{-j(\\omega \\Delta t)} \n",
    "\\label{_auto24} \\tag{24}\n",
    "\\end{equation}\n",
    "$$"
   ]
  },
  {
   "cell_type": "markdown",
   "id": "8de1359a",
   "metadata": {
    "editable": true
   },
   "source": [
    "<!-- Equation labels as ordinary links -->\n",
    "<div id=\"_auto25\"></div>\n",
    "\n",
    "$$\n",
    "\\begin{equation} \n",
    "= P + j Q\n",
    "\\label{_auto25} \\tag{25}\n",
    "\\end{equation}\n",
    "$$"
   ]
  },
  {
   "cell_type": "markdown",
   "id": "59fcd774",
   "metadata": {
    "editable": true
   },
   "source": [
    "**Koeffizientenvergleich:**"
   ]
  },
  {
   "cell_type": "markdown",
   "id": "a00ee059",
   "metadata": {
    "editable": true
   },
   "source": [
    "<!-- Equation labels as ordinary links -->\n",
    "<div id=\"_auto26\"></div>\n",
    "\n",
    "$$\n",
    "\\begin{equation}\n",
    "P = \\operatorname{Re}\\left\\{\\underline{P}\\right\\} = \\operatorname{Re}\\left\\{-\\frac{1}{2} \\hat{U} \\hat{I}e^{-j(\\omega \\Delta t)}\\right\\} =\n",
    "-\\frac{1}{2} \\hat{U} \\hat{I}\\cos(\\omega \\Delta t) = \\SI{20}{\\watt}\n",
    "\\label{_auto26} \\tag{26}\n",
    "\\end{equation}\n",
    "$$"
   ]
  },
  {
   "cell_type": "markdown",
   "id": "606d1d10",
   "metadata": {
    "editable": true
   },
   "source": [
    "<!-- Equation labels as ordinary links -->\n",
    "<div id=\"_auto27\"></div>\n",
    "\n",
    "$$\n",
    "\\begin{equation} \n",
    "Q = \\operatorname{Im}\\left\\{\\underline{P}\\right\\} = \\operatorname{Im}\\left\\{-\\frac{1}{2} \\hat{U} \\hat{I}e^{-j(\\omega \\Delta t)}\\right\\} =\n",
    "-\\frac{1}{2} \\hat{U} \\hat{I}\\sin(\\omega \\Delta t) = \\SI{40}{\\volt\\ampere}\n",
    "\\label{_auto27} \\tag{27}\n",
    "\\end{equation}\n",
    "$$"
   ]
  },
  {
   "cell_type": "markdown",
   "id": "6e4fda3f",
   "metadata": {
    "editable": true
   },
   "source": [
    "<!-- Equation labels as ordinary links -->\n",
    "<div id=\"_auto28\"></div>\n",
    "\n",
    "$$\n",
    "\\begin{equation} \n",
    "\\label{_auto28} \\tag{28}\n",
    "\\end{equation}\n",
    "$$"
   ]
  },
  {
   "cell_type": "markdown",
   "id": "b33b8f08",
   "metadata": {
    "editable": true
   },
   "source": [
    "<!-- --- end solution of exercise --- -->"
   ]
  },
  {
   "cell_type": "markdown",
   "id": "e8108c88",
   "metadata": {
    "editable": true
   },
   "source": [
    "**c)**\n",
    "Geben Sie eine Reihenschaltung und eine Parallelschaltung aus R-, L- und/oder C-Komponenten zur möglichen Realisierung\n",
    "des Verbrauchers an. Bestimmen Sie dazu die Komponentenwerte aus den gemessenen Strom- und Spannungsverläufen.\n",
    "\n",
    "<!-- --- begin solution of exercise --- -->\n",
    "**Solution.**\n",
    "Reihen- oder Parallelschaltung aus Widerstand $R$ und Induktivität $L$.\n",
    "\n",
    "Für die Reihenschaltung errechnen sich die Bauteilwerte wie folgt:"
   ]
  },
  {
   "cell_type": "markdown",
   "id": "35781fa9",
   "metadata": {
    "editable": true
   },
   "source": [
    "<!-- Equation labels as ordinary links -->\n",
    "<div id=\"_auto29\"></div>\n",
    "\n",
    "$$\n",
    "\\begin{equation}\n",
    "Z = \\frac{\\underline{U}}{\\underline{I}} =\n",
    "-\\frac{\\hat{U}}{\\hat{I}}e^{j \\omega \\Delta t} \n",
    "\\label{_auto29} \\tag{29}\n",
    "\\end{equation}\n",
    "$$"
   ]
  },
  {
   "cell_type": "markdown",
   "id": "5d5ef372",
   "metadata": {
    "editable": true
   },
   "source": [
    "<!-- Equation labels as ordinary links -->\n",
    "<div id=\"_auto30\"></div>\n",
    "\n",
    "$$\n",
    "\\begin{equation} \n",
    "= (10 + j 20)\\SI{}{\\ohm} \n",
    "\\label{_auto30} \\tag{30}\n",
    "\\end{equation}\n",
    "$$"
   ]
  },
  {
   "cell_type": "markdown",
   "id": "041497fc",
   "metadata": {
    "editable": true
   },
   "source": [
    "<!-- Equation labels as ordinary links -->\n",
    "<div id=\"_auto31\"></div>\n",
    "\n",
    "$$\n",
    "\\begin{equation} \n",
    "= R_s + j\\omega L_s \n",
    "\\label{_auto31} \\tag{31}\n",
    "\\end{equation}\n",
    "$$"
   ]
  },
  {
   "cell_type": "markdown",
   "id": "b0834e52",
   "metadata": {
    "editable": true
   },
   "source": [
    "<!-- Equation labels as ordinary links -->\n",
    "<div id=\"_auto32\"></div>\n",
    "\n",
    "$$\n",
    "\\begin{equation} \n",
    "R_s=\\SI{10}{\\ohm} \n",
    "\\label{_auto32} \\tag{32}\n",
    "\\end{equation}\n",
    "$$"
   ]
  },
  {
   "cell_type": "markdown",
   "id": "2025b28b",
   "metadata": {
    "editable": true
   },
   "source": [
    "<!-- Equation labels as ordinary links -->\n",
    "<div id=\"_auto33\"></div>\n",
    "\n",
    "$$\n",
    "\\begin{equation} \n",
    "L_s = \\frac{20}{\\omega}\\SI{}{\\ohm}=\\SI{640}{\\milli\\henry}\n",
    "\\label{_auto33} \\tag{33}\n",
    "\\end{equation}\n",
    "$$"
   ]
  },
  {
   "cell_type": "markdown",
   "id": "ca2d5795",
   "metadata": {
    "editable": true
   },
   "source": [
    "Für die Realisierung mit einer Parallelschaltung, Umrechnen der Impedanzwerte in Admittanzwerte."
   ]
  },
  {
   "cell_type": "markdown",
   "id": "0628673b",
   "metadata": {
    "editable": true
   },
   "source": [
    "<!-- Equation labels as ordinary links -->\n",
    "<div id=\"_auto34\"></div>\n",
    "\n",
    "$$\n",
    "\\begin{equation}\n",
    "Y=\\frac{1}{R_p}+\\frac{1}{j\\omega L_p} = \\frac{1}{Z} = \\frac{1}{R_s+j \\omega L_s} = \\frac{R_s - j \\omega L_s}{R_s^2+(\\omega L_s)^2}\n",
    "\\label{_auto34} \\tag{34}\n",
    "\\end{equation}\n",
    "$$"
   ]
  },
  {
   "cell_type": "markdown",
   "id": "6dcddfe5",
   "metadata": {
    "editable": true
   },
   "source": [
    "Ermittlung der Bauteilwerte für die Parallelschaltung durch Koeffizientenvergleich."
   ]
  },
  {
   "cell_type": "markdown",
   "id": "71c6b178",
   "metadata": {
    "editable": true
   },
   "source": [
    "<!-- Equation labels as ordinary links -->\n",
    "<div id=\"_auto35\"></div>\n",
    "\n",
    "$$\n",
    "\\begin{equation}\n",
    "\\frac{1}{R_p} = \\frac{R_s}{R_s^2+(\\omega L_s)^2}  R_p= \\SI{50}{\\ohm}\n",
    "\\label{_auto35} \\tag{35}\n",
    "\\end{equation}\n",
    "$$"
   ]
  },
  {
   "cell_type": "markdown",
   "id": "383a4f8a",
   "metadata": {
    "editable": true
   },
   "source": [
    "<!-- Equation labels as ordinary links -->\n",
    "<div id=\"_auto36\"></div>\n",
    "\n",
    "$$\n",
    "\\begin{equation} \n",
    "\\frac{1}{\\omega L_p} = \\frac{\\omega L_s}{R_s^2+(\\omega L_s)^2}  \\omega L_p= \\SI{25}{\\ohm}\n",
    "\\label{_auto36} \\tag{36}\n",
    "\\end{equation}\n",
    "$$"
   ]
  },
  {
   "cell_type": "markdown",
   "id": "b1de81b8",
   "metadata": {
    "editable": true
   },
   "source": [
    "<!-- Equation labels as ordinary links -->\n",
    "<div id=\"_auto37\"></div>\n",
    "\n",
    "$$\n",
    "\\begin{equation} \n",
    "  L_p=\\SI{796}{\\milli\\henry}\n",
    "\\label{_auto37} \\tag{37}\n",
    "\\end{equation}\n",
    "$$"
   ]
  },
  {
   "cell_type": "markdown",
   "id": "ac2852f8",
   "metadata": {
    "editable": true
   },
   "source": [
    "<!-- dom:FIGURE: [hw2p2a.png, height=200 frac=0.75] Ersatzschaltung des Verbrauchers. <div id=\"fig:hw2p2a\"></div> -->\n",
    "<!-- begin figure -->\n",
    "<div id=\"fig:hw2p2a\"></div>\n",
    "\n",
    "<img src=\"hw2p2a.png\" height=\"200\"><p style=\"font-size: 0.9em\"><i>Figure 3: Ersatzschaltung des Verbrauchers.</i></p>\n",
    "<!-- end figure -->\n",
    "\n",
    "<!-- dom:FIGURE: [hw2p2b.png, height=200 frac=0.75] Ersatzschaltung des Verbrauchers. <div id=\"fig:hw2p2b\"></div> -->\n",
    "<!-- begin figure -->\n",
    "<div id=\"fig:hw2p2b\"></div>\n",
    "\n",
    "<img src=\"hw2p2b.png\" height=\"200\"><p style=\"font-size: 0.9em\"><i>Figure 4: Ersatzschaltung des Verbrauchers.</i></p>\n",
    "<!-- end figure -->\n",
    "\n",
    "<!-- --- end solution of exercise --- -->"
   ]
  }
 ],
 "metadata": {
  "jupytext": {
   "main_language": "python"
  }
 },
 "nbformat": 4,
 "nbformat_minor": 5
}