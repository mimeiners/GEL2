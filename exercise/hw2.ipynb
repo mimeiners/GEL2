{
 "cells": [
  {
   "cell_type": "markdown",
   "id": "b00628e7",
   "metadata": {},
   "source": [
    "# Übungsblatt 2\n",
    "\n",
    "## Komplexe Signale\n",
    "\n",
    "```{figure} ../images/exercise/hw2p1.png \n",
    ":width: 600\n",
    ":name: fig:hw1p1\n",
    "\n",
    "Oszillogramm der Spannungsmessung.\n",
    "```\n",
    "\n",
    "Mit einem Oszilloskop wird die Zeitabhängigkeit von zwei Sinussignalen, wie in Abb. [fig:hw2p1](#fig:hw2p1) dargestellt,\n",
    "gemessen.\n",
    "\n",
    "**a)**\n",
    "\n",
    "Geben Sie für die Spannungen $u_1(t)$ und $u_2(t)$ folgende Größen an:\n",
    "\n",
    "* die Periodendauer $T$\n",
    "\n",
    "* die Frequenz $f$\n",
    "\n",
    "* die Kreisfrequenz $\\omega$."
   ]
  },
  {
   "cell_type": "markdown",
   "id": "cf520de1",
   "metadata": {},
   "source": [
    "**Lösung**\n",
    "\n",
    "$$\n",
    "T = 8\\,ms \n",
    "$$\n",
    "\n",
    "$$\n",
    "f = \\frac{1}{T}=125\\,Hz \n",
    "$$"
   ]
  },
  {
   "cell_type": "markdown",
   "id": "1974ce22",
   "metadata": {},
   "source": [
    "$$\n",
    "\\omega = 2\\pi f = 785\\,1/s\n",
    "$$"
   ]
  },
  {
   "cell_type": "markdown",
   "id": "cf2c3f4d",
   "metadata": {},
   "source": [
    "**b)**\n",
    "Geben Sie für die Darstellungen der Sinus- und Kosinussignale\n",
    "\n",
    "$$\n",
    "u_i(t) = \\hat{U}_i \\sin(\\omega t + \\varphi_{ui}) \\quad\\mbox{und} \n",
    "$$"
   ]
  },
  {
   "cell_type": "markdown",
   "id": "0c6ea9f2",
   "metadata": {},
   "source": [
    "$$\n",
    "u_i(t) = \\hat{U}_i \\cos(\\omega t + \\psi_{ui})\n",
    "$$\n",
    "\n",
    "die Amplituden $\\hat{U}_i$ und die Phasen $\\varphi_{ui}$ und $\\psi_{ui}$ mit $i=1,2$ an."
   ]
  },
  {
   "cell_type": "markdown",
   "id": "9d781ebd",
   "metadata": {},
   "source": [
    "**Lösung**\n",
    "Die Amplituden der Spannungen sind $\\hat{U}_1=15\\,V$ und $\\hat{U}_2=10\\,V$.\n",
    "Die zeitlichen Verläufen können dann wie folgt angegeben werden:\n",
    "\n",
    "$$\n",
    "u_1(t) = -\\hat{U}_1 \\cos(\\omega t) = \\hat{U}_1 \\cos(\\omega t  \\pm \\pi) \n",
    "$$\n",
    "\n",
    "$$\n",
    "u_1(t) = \\hat{U}_1 \\sin\\left(\\omega t - \\frac{\\pi}{2}\\right) \n",
    "$$\n",
    "\n",
    "$$\n",
    "u_2(t) = \\hat{U}_2 \\cos(\\omega(t- 1\\,ms)) = \\hat{U}_2 \\cos\\left(\\omega t - \\frac{\\pi}{4}\\right); \n",
    "$$\n",
    "\n",
    "$$\n",
    "u_2(t) = \\hat{U}_2 \\sin\\left(\\omega t + \\frac{\\pi}{4}\\right)\n",
    "$$"
   ]
  },
  {
   "cell_type": "markdown",
   "id": "46b2aa1f",
   "metadata": {},
   "source": [
    "**c)**\n",
    "Wenn $u_1(t)$  die Eingangsspannung und $u_2(t)$ die Ausgangsspannung einer Schaltung bedeuten, wie groß ist dann der\n",
    "komplexe Übertragungsfaktor $\\underline{H} = \\underline{U}_2 / \\underline{U}_1$ der Schaltung? \n",
    "\n",
    "**Lösung\"**\n",
    "Die Umrechnung der reellen Spannungsverläufe in komplexe Größen geschieht über die Funktionaltransformation. \n",
    "\n",
    "$$\n",
    "u(t) = \\operatorname{Re}\\left\\{\\underline{u}(t)\\right\\} \\\\\n",
    "= \\operatorname{Re}\\left\\{\\underline{\\hat{U}}e^{j\\omega t}\\right\\} \\\\\n",
    "= \\operatorname{Re}\\left\\{\\hat{U}e^{j(\\omega t+\\varphi_u)}\\right\\} \\\\\n",
    "=\\operatorname{Re}\\left\\{\\hat{U}e^{j\\omega t}e^{j\\varphi_u}\\right\\} \\\\\n",
    "= \\operatorname{Re}\\left\\{\\hat{U}\\cos(\\omega t + \\varphi_u) + j \\hat{U} \\sin(\\omega t + \\varphi_u) \\right\\} \n",
    "$$\n",
    "\n",
    "$$\n",
    "\\underline{u}(t) = \\underline{\\hat{U}}e^{j\\omega t} \\quad \\mbox{rotierender Zeiger, komplexer Momentanwert} \n",
    "$$\n",
    "\n",
    "$$\n",
    "\\underline{u}(0) = \\underline{\\hat{U}}e^{j0}=\\hat{U}e^{j\\varphi_u} \\quad \\mbox{ruhender Zeiger, komplexer Scheitelwert} \n",
    "$$\n"
   ]
  },
  {
   "cell_type": "markdown",
   "id": "d8a6c5c5",
   "metadata": {},
   "source": [
    "\\begin{equation} \n",
    "\\underline{U} = \\frac{1}{\\sqrt{2}}\\hat{U} e^{j\\varphi_u} \\quad \\mbox{komplexer Effektivwert}\n",
    "\\label{_auto14} \\tag{14}\n",
    "\\end{equation}\n"
   ]
  },
  {
   "cell_type": "markdown",
   "id": "608cf887",
   "metadata": {},
   "source": [
    "$$\n",
    "\\underline{U}_1 = \\frac{1}{\\sqrt{2}} \\hat{U}_1 e^{- j \\pi} \n",
    "$$"
   ]
  },
  {
   "cell_type": "markdown",
   "id": "9e447be2",
   "metadata": {},
   "source": [
    "$$\n",
    "\\underline{U}_2 =  \\frac{1}{\\sqrt{2}} \\hat{U}_2 e^{-j\\frac{\\pi}{4}} \n",
    "$$"
   ]
  },
  {
   "cell_type": "markdown",
   "id": "a1611b3b",
   "metadata": {},
   "source": [
    "$$\n",
    "\\underline{H} = \\frac{\\underline{U}_2}{\\underline{U}_1} \\\\\n",
    "= \\frac{\\hat{U}_2 e^{-j\\frac{\\pi}{4}}}{\\hat{U}_1 e^{- j \\pi}} \\\\\n",
    "= \\frac{\\hat{U}_2}{\\hat{U}_1} e^{j (-\\frac{\\pi}{4}+\\pi)} \\\\\n",
    "= \\frac{2}{3}  e^{j \\frac{3}{4}\\pi}\n",
    "$$\n",
    "\n",
    "**d)**\n",
    "Zeichnen Sie in das Oszillogramm den Verlauf der Spannung $u_3(t)$ mit der Frequenz $f=100\\,Hz$ und dem komplexen \n",
    "Scheitelwert $\\underline{\\hat{U}}_3 = (15-j 20)\\,V$ (karthesische Koordinaten) ein.\n",
    "\n",
    "**Lösung**\n",
    "Darstellung des komplexen Scheitelwertes $\\underline{\\hat{U}}_3$ in Polarkoordinaten, Betrag und Phase.\n",
    "\n",
    "$$\n",
    "\\underline{\\hat{U}}_3 = \\sqrt{15^2 + 20^2} \\exp \\left(j \\,\\arctan\\left(\\frac{-20}{15}\\right)\\right) = 25 e^{-j 0.927} \n",
    "$$"
   ]
  },
  {
   "cell_type": "markdown",
   "id": "eb839df5",
   "metadata": {},
   "source": [
    "$$\n",
    "u_3(t) = \\operatorname{Re}\\left\\{\\underline{\\hat{U}}_3e^{j\\omega_3 t}\\right\\} \\\\\n",
    "= 25\\,V \\cos(\\omega_3 t - 0.927) \\\\\n",
    "= 25\\,V \\cos\\left(\\omega_3 (t - 1.43\\,ms)\\right)\n",
    "$$"
   ]
  },
  {
   "cell_type": "markdown",
   "id": "4738355e",
   "metadata": {},
   "source": [
    "## Wirkleistung, Blindleistung und Scheinleistung\n",
    "\n",
    "```{figure} ../images/exercise/hw2p2.png\n",
    ":width: 400\n",
    ":name: fig:hw2p2\n",
    "\n",
    "Oszillogramm der Strom- und Spannungsmessung.\n",
    "```\n",
    "\n",
    "An einem Verbraucher mit der Impedanz $Z$ wird mittels eines Zweistrahloszilloskops eine zeitaufgelöste Strommessung des\n",
    "Stroms $i(t)$ durchgeführt. Gleichzeitig wird die Klemmenspannung $u(t)$ mit aufgenommen. Beide Zeitfunktionen sind\n",
    "sinusförmig. Ihre Amplituden und relativen Lagen sind der Fig. [fig:hw2p2](#fig:hw2p2) zu entnehmen.\n",
    "\n",
    "**a)**\n",
    "Stellen Sie Strom und Spannung in reeller und komplexer Schreibweise dar."
   ]
  },
  {
   "cell_type": "markdown",
   "id": "4ae8400b",
   "metadata": {},
   "source": [
    "**Lösung**\n",
    "\n",
    "**Reelle Schreibweise:**\n",
    "\n",
    "$$\n",
    "u(t) = \\hat{U} \\sin(\\omega t); \\quad \\hat{U}=44.7\\,V \n",
    "$$"
   ]
  },
  {
   "cell_type": "markdown",
   "id": "37ce4d6f",
   "metadata": {},
   "source": [
    "$$\n",
    "i(t) = -\\hat{I} \\sin(\\omega (t-\\Delta t)); \\quad \\hat{I}=2\\,A, \\, \\Delta t = 13.5\\,ms\n",
    "$$"
   ]
  },
  {
   "cell_type": "markdown",
   "id": "bfb75148",
   "metadata": {},
   "source": [
    "**Komplexe Schreibweise:**\n",
    "\n",
    "$$\n",
    "u(t) = \\hat{U} \\cos\\left(\\omega t - \\frac{\\pi}{2} \\right) \\rightarrow \\underline{U} \\\\\n",
    "= \\frac{1}{\\sqrt{2}} \\hat{U}e^{-j\\frac{\\pi}{2}} \n",
    "$$"
   ]
  },
  {
   "cell_type": "markdown",
   "id": "63c3b1e0",
   "metadata": {},
   "source": [
    "$$\n",
    "i(t) = -\\hat{I} \\cos\\left(\\omega t- \\omega\\Delta t -\\frac{\\pi}{2}\\right) \\rightarrow \\underline{I} \\\\\n",
    "= -\\frac{1}{\\sqrt{2}}\\hat{I} e^{-j(\\omega \\Delta t + \\frac{\\pi}{2})}\n",
    "$$"
   ]
  },
  {
   "cell_type": "markdown",
   "id": "a97811ef",
   "metadata": {},
   "source": [
    "**b)**\n",
    "Geben Sie für den Verbraucher die komplexe Leistung $\\underline{P}=P+jQ$ mit aufgenommener Wirkleistung $P$ und\n",
    "aufgenommener Blindleistung $Q$ an.\n",
    "\n",
    "**Lösung\"**\n",
    "\n",
    "$$\n",
    "\\underline{P} = \\underline{U} \\cdot \\underline{I}^* = -\\frac{1}{2} \\hat{U} \\hat{I} e^{-j(\\omega \\Delta t)} = P + j Q\n",
    "$$"
   ]
  },
  {
   "cell_type": "markdown",
   "id": "274482f1",
   "metadata": {},
   "source": [
    "**Koeffizientenvergleich:**\n",
    "\n",
    "$$\n",
    "P = \\operatorname{Re}\\left\\{\\underline{P}\\right\\} = \\operatorname{Re}\\left\\{-\\frac{1}{2} \\hat{U} \\hat{I}e^{-j(\\omega\n",
    "\\Delta t)}\\right\\} \\\\\n",
    "= -\\frac{1}{2} \\hat{U} \\hat{I}\\cos(\\omega \\Delta t) = 20\\,W\n",
    "$$\n",
    "\n",
    "$$\n",
    "Q = \\operatorname{Im}\\left\\{\\underline{P}\\right\\} = \\operatorname{Im}\\left\\{-\\frac{1}{2} \\hat{U} \\hat{I}e^{-j(\\omega\n",
    "\\Delta t)}\\right\\} \\\\\n",
    "= -\\frac{1}{2} \\hat{U} \\hat{I}\\sin(\\omega \\Delta t) = 40\\,VA\n",
    "$$"
   ]
  },
  {
   "cell_type": "markdown",
   "id": "fde47806",
   "metadata": {},
   "source": [
    "**c)**\n",
    "Geben Sie eine Reihenschaltung und eine Parallelschaltung aus R-, L- und/oder C-Komponenten zur möglichen Realisierung\n",
    "des Verbrauchers an. Bestimmen Sie dazu die Komponentenwerte aus den gemessenen Strom- und Spannungsverläufen.\n",
    "\n",
    "**Lösung**\n",
    "\n",
    "Reihen- oder Parallelschaltung aus Widerstand $R$ und Induktivität $L$.\n",
    "Für die Reihenschaltung errechnen sich die Bauteilwerte wie folgt:\n",
    "\n",
    "$$\n",
    "Z = \\frac{\\underline{U}}{\\underline{I}} \\\\\n",
    "= -\\frac{\\hat{U}}{\\hat{I}}e^{j \\omega \\Delta t} \\\\\n",
    "= (10 + j 20)\\,\\Omega \\\\\n",
    "= R_s + j\\omega L_s \n",
    "$$"
   ]
  },
  {
   "cell_type": "markdown",
   "id": "7302393e",
   "metadata": {},
   "source": [
    "$$\n",
    "R_s = 10\\,\\Omega \n",
    "$$"
   ]
  },
  {
   "cell_type": "markdown",
   "id": "3b6e93e1",
   "metadata": {},
   "source": [
    "$$\n",
    "L_s = \\frac{20}{\\omega}\\,\\Omega=640\\,mH\n",
    "$$\n",
    "\n",
    "Für die Realisierung mit einer Parallelschaltung, Umrechnen der Impedanzwerte in Admittanzwerte."
   ]
  },
  {
   "cell_type": "markdown",
   "id": "cd3698d1",
   "metadata": {},
   "source": [
    "$$\n",
    "Y = \\frac{1}{R_p}+\\frac{1}{j\\omega L_p} = \\frac{1}{Z} = \\frac{1}{R_s+j \\omega L_s} = \\frac{R_s - j \\omega L_s}{R_s^2+(\\omega L_s)^2}\n",
    "$$\n",
    "\n",
    "Ermittlung der Bauteilwerte für die Parallelschaltung durch Koeffizientenvergleich.\n",
    "\n",
    "$$\n",
    "\\frac{1}{R_p} = \\frac{R_s}{R_s^2+(\\omega L_s)^2}  R_p= 50\\,\\Omega \n",
    "$$"
   ]
  },
  {
   "cell_type": "markdown",
   "id": "7ea57b35",
   "metadata": {},
   "source": [
    "$$\n",
    "\\frac{1}{\\omega L_p} = \\frac{\\omega L_s}{R_s^2+(\\omega L_s)^2}  \\omega L_p = 25\\,\\Omega \n",
    "$$"
   ]
  },
  {
   "cell_type": "markdown",
   "id": "224dfa4b",
   "metadata": {},
   "source": [
    "$$\n",
    "L_p = 796\\,mH\n",
    "$$\n",
    "\n",
    "```{figure} ../images/exercise/hw2p2a.png \n",
    ":height: 200\n",
    "\n",
    "Ersatzschaltung des Verbrauchers.\n",
    "```\n",
    "\n",
    "```{figure} ../images/exercise/hw2p2b.png\n",
    ":height: 200\n",
    "\n",
    "Ersatzschaltung des Verbrauchers.\n",
    "```\n"
   ]
  }
 ],
 "metadata": {
  "kernelspec": {
   "display_name": "Python 3 (ipykernel)",
   "language": "python",
   "name": "python3"
  }
 },
 "nbformat": 4,
 "nbformat_minor": 5
}