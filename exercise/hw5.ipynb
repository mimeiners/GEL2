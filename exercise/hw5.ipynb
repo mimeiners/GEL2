{
 "cells": [
  {
   "cell_type": "markdown",
   "id": "252d4de7",
   "metadata": {},
   "source": [
    "# Anpassung und Wechselstrommessbrücke\n",
    "\n",
    "## Blindleistungskompensation\n",
    "Ein Verbraucher $Z$ wird über eine näherungsweise verlustlose Leitung aus dem Netz versorgt ($f$ = 50 Hz),\n",
    "$U_{eff}$ = 230 V. Er nimmt eine Wirkleistung von $P$ = 5 kW und eine Blindleistung von $Q$ = 4,5 kvar auf.\n",
    "\n",
    "```{figure} ../images/exercise/hw5p11.png\n",
    ":width: 400\n",
    ":name: fig:hw5p11\n",
    "\n",
    "Erstatzschaltbild des Versorgungsnetzes (a).\n",
    "```\n",
    "\n",
    "```{figure} ../images/exercise/hw5p12.png\n",
    ":width: 400\n",
    ":name: fig:hw5p12\n",
    "\n",
    "Ersatzschaltbild des Versorgungsnetzes (b).\n",
    "```\n",
    "\n",
    "### Leistungsfaktor \n",
    "Wie groß ist der Leistungsfaktor $\\cos \\phi$?\n",
    "\n",
    "#### Lösung\n",
    "$$\n",
    "P = U_{eff} \\cdot I_{eff} \\cdot  \\cos \\phi \\\\\n",
    "Q = U_{eff} \\cdot I_{eff} \\cdot \\sin \\phi \\\\\n",
    "\\cos \\phi = \\frac{P}{S} = \\frac{P}{\\sqrt{P^2 + Q^2}} = 0,74\n",
    "$$"
   ]
  },
  {
   "cell_type": "markdown",
   "id": "d74a2c58",
   "metadata": {},
   "source": [
    "### Auslegung\n",
    "Für welchen Effektivwert des Stromes $I_{eff}$ muß die Leitung ausgelegt sein?\n",
    "\n",
    "#### Lösung\n",
    "\n",
    "$$\n",
    "S = \\sqrt{P^2 + Q^2} = U_{eff} \\cdot I_{eff} = 6,73\\,kVA \\\\\n",
    "I_{eff} = 30,6\\,A\n",
    "$$\n",
    "\n",
    "### Zusätzlicher Verbraucher\n",
    "An die Anschlüsse des Verbrauchers wird zusätzlich eine Kondensatorbatterie von $C$ =188 $\\mu$F parallel\n",
    "gelegt. Wie groß ist nun der Leistungsfaktor $\\cos \\phi$ und der Effektivwert $I_{eff}$ des Stromes?"
   ]
  },
  {
   "cell_type": "markdown",
   "id": "65fe10ea",
   "metadata": {},
   "source": [
    "## Anpassung einer Heizeinrichtung\n",
    "Zur Erwärmung von Werkstücken in einer Härteanlage wird ein Mittelfrequenzgenerator ($f$ = 20 kHz bis 200 kHz)\n",
    "mit folgendem Ersatzschaltbild {numref}`fig:hw5p2 eingesetzt.\n",
    "\n",
    "```{figure} ../images/exercise/hw5p2.png\n",
    ":width: 400\n",
    ":name: fig:hw5p2\n",
    "\n",
    "\n",
    "Ersatzschaltbild des Mittelfrequenzgenerators.\n",
    "```\n",
    "\n",
    "Bei der Erhitzung durch Stromdurchgang wirkt das Werkstück als ohmscher Widerstand $R_V$, dessen Wert durch die\n",
    "Abmessungen frei wählbar ist. Es wird an den Generator $U_{G,eff}$ = 300 V, $R_G$ = 18 $\\Omega$,\n",
    "$L_G$ = 2 mH über ein Kabel angeschlossen, dessen Leitungskapazität $C_K$ = 1,5 nF ist.\n",
    "\n",
    "### \n",
    "Bestimmen Sie den Wert von $R_V$ und die Frequenz $f_0$ für den Anpassungsfall, bei dem also die Leistungsaufnahme des\n",
    "Werkstückes maximal wird. \n",
    "\n",
    "#### Lösung\n",
    "\n",
    "$$\n",
    "Z_G = Z_V^*  R_G + j \\omega L_G = \\left( \\frac{R_V}{1+j \\omega C_K R_V} \\right)^* \\\\\n",
    "R_G = \\frac{R_V}{1 + (\\omega C_K R_V)^2}  L_G = \\frac{R_V^2 C_K}{1 + (\\omega C_K R_V)^2} \\\\\n",
    "R_V = \\frac{L_G}{C_K R_G}  \\omega^2=\\frac{1}{L_G C_K} - \\frac{R_G^2}{L_G^2} \\\\\n",
    "R_V = 74,1\\,k\\Omega  f = 91,9\\,kHz\n",
    "$$"
   ]
  },
  {
   "cell_type": "markdown",
   "id": "6377769f",
   "metadata": {},
   "source": [
    "### \n",
    "Wie groß ist diese Leistung?\n",
    "\n",
    "#### Lösung\n",
    "\n",
    "\\begin{align}\n",
    "P_{total} &= \\frac{U_{eff}^2}{R_G + \\underbrace{\\real{Z_V}}_{=R_G}} = \\frac{U_{eff}^2}{2 R_G} \\\\\n",
    "P_V &= \\frac{1}{2} P_{total} = \\frac{U_{eff}^2}{4 R_G} = 1,25\\,kW\n",
    "\\end{align}\n",
    "\n",
    "Alternativ auch Lösung über den Spannungsteiler\n",
    "\n",
    "\\begin{align}\n",
    "U_{eff,V} &= \\frac{\\real{Z_V}}{R_G + \\real{Z_V}} U_{eff} = \\frac{1}{2} U_{eff} \\\\\n",
    "P_V &= \\frac{U_{eff,V}^2}{\\real{Z_V}} = \\frac{1}{4} \\frac{U_{eff}^2}{R_G} = 1,25\\,kW\n",
    "\\end{align}"
   ]
  },
  {
   "cell_type": "markdown",
   "id": "398d6dcf",
   "metadata": {},
   "source": [
    "## Wien-Robinson-Brücke\n",
    "Die abgebildete Wechselstrommessbrücke kann als Sperrfilter eingesetzt werden. Sie bildet auch den passiven\n",
    "Teil eines Wien-Robinson-Oszillators {cite}`dewiki:208364385`.\n",
    "\n",
    "```{figure} ../images/exercise/hw5p3.png\n",
    ":width: 400\n",
    ":name: fig:hw5p3\n",
    "\n",
    "\n",
    "Wien-Brücke\n",
    "```\n",
    "\n",
    "###\n",
    "Welches Widerstandsverhältnis $\\gamma=R_3/R_4$ muss gewählt werden, wenn $R_1=R_2=R$ und\n",
    "$C_1=C_2=C$, damit die Brücke abgeglichen werden kann? \n",
    "\n",
    "#### Lösung\n",
    "\n",
    "Abgleichbedingung:\n",
    "\n",
    "$$\n",
    "\\frac{\\underline{Z_1}}{\\underline{Z_2}} = \\frac{R_3}{R_4} \\\\\n",
    "(R + \\frac{1}{j \\omega C}) (\\frac{1}{R} + j \\omega C) = \\frac{R_3}{R_4} \\\\\n",
    "2 + j \\omega RC + \\frac{1}{j \\omega RC} = \\frac{R_3}{R_4} \\\\\n",
    "$$"
   ]
  },
  {
   "cell_type": "markdown",
   "id": "b506ebfe",
   "metadata": {},
   "source": [
    "Wenn man Real- und Imaginärteil der rechten und linken Seite vergleicht (Abgleich), so kann die Brücke nur abgeglichen\n",
    "werden, wenn das Widerstandsverhältnis $R_3/R_4 = 2$ ist."
   ]
  },
  {
   "cell_type": "markdown",
   "id": "b1a29be9",
   "metadata": {},
   "source": [
    "###\n",
    "Für welche Kreisfrequenz $\\omega_A$ ist die Brücke bei $R_3=2 R_4$ abgeglichen? \n",
    "\n",
    "#### Lösung\n",
    "\n",
    "Die Brücke ist abgeglichen, somit folgt\n",
    "\n",
    "$$\n",
    "j \\omega_A RC + \\frac{1}{j \\omega_A RC} = 0 \\\\\n",
    "\\omega_A RC = \\frac{1}{\\omega_A RC} \\\\\n",
    "\\omega_A = \\frac{1}{RC} \\\\\n",
    "$$"
   ]
  },
  {
   "cell_type": "markdown",
   "id": "14b6a0f1",
   "metadata": {},
   "source": [
    "### Ortskurve\n",
    "Zeichnen Sie die Ortskurve von $Z_1(\\omega) = R_1 + 1/(j \\omega C_1)$ und $Z_2=R_2 || C_2$ in einem Diagramm. Markieren\n",
    "Sie die Punkte $Z_1(\\omega_A)$ und $Z_2(\\omega_A)$ in den Ortskurven der beiden Impedanzen. "
   ]
  },
  {
   "cell_type": "markdown",
   "id": "964c63d1",
   "metadata": {},
   "source": [
    "### \n",
    "Berechnen Sie das Spannungsübertragungsverhältnis $\\underline{H}_v = \\underline{U}_D / \\underline{U}_E$ von Ausgangs- zu\n",
    "Eingangsspannung. Stellen Sie den Betrag und den Phasenwinkel von $\\underline{H}_v$ als Funktion von $\\omega/\\omega_A$ dar!\n",
    "\n",
    "#### Lösung\n",
    "\n",
    "Maschenumlauf: $\\underline{U}_2 - \\underline{U}_4 - \\underline{U}_D = 0$\n",
    "\n",
    "\\begin{align}\n",
    "\\underline{U}_2 &= \\frac{\\underline{Z}_2}{\\underline{Z}_1+\\underline{Z}_2} \\underline{U}_E \\\\\n",
    "\\underline{U}_4 &= \\frac{R_4}{R_3+R_4} \\underline{U}_E \\\\\n",
    "\\underline{U}_D &= \\underline{U}_4 - \\underline{U}_2 \\\\\n",
    "&= \\left( \\frac{R_4}{R_3+R_4} - \\frac{\\underline{Z}_2}{\\underline{Z}_1+\\underline{Z}_2} \\right) \\underline{U}_E \\\\\n",
    "&= \\left( \\frac{1}{1+\\frac{R_3}{R_4}} - \\frac{1}{1 + \\frac{\\underline{Z}_1}{\\underline{Z}_2}} \\right) \\underline{U}_E\n",
    "\\end{align}\n",
    "\n",
    "Hieraus folgt das Spannungsübertragungsverhältnis:\n",
    "\n",
    "\\begin{align}\n",
    "\\underline{H}_u &= \\frac{\\underline{U}_D}{\\underline{U}_E} \\\\\n",
    "&= \\frac{1}{1 + 2} - \\frac{1}{1 + (2 + j \\omega RC + \\frac{1}{j \\omega RC})} \\\\\n",
    "&= \\frac{1}{3} \\left( 1 - \\frac{1}{1 + j \\frac{1}{3}(\\omega RC - \\frac{1}{\\omega RC})}\\right) \\\\\n",
    "&= \\frac{1}{3} \\frac{j \\frac{1}{3}(\\omega RC - \\frac{1}{\\omega RC})}{1 + j \\frac{1}{3}(\\omega RC - \\frac{1}{\\omega RC})} \\\\\n",
    "&= \\frac{1}{3} \\frac{1}{1 - j \\frac{3}{\\omega RC - \\frac{1}{\\omega RC}}} \\\\\n",
    "&= \\frac{1}{3} \\frac{1}{1 - j \\frac{3}{\\omega / \\omega_A - \\omega_A / \\omega}} \n",
    "\\end{align}"
   ]
  },
  {
   "cell_type": "markdown",
   "id": "d4e73dc6",
   "metadata": {},
   "source": [
    "Betrag und Phase des Spannungsübertragungsverhältnisses:"
   ]
  },
  {
   "cell_type": "markdown",
   "id": "7d6a4c3a",
   "metadata": {},
   "source": [
    "\\begin{align}\n",
    "\\vert\\underline{H}_u\\vert &= \\frac{1}{3 \\sqrt{1 + \\left(\\frac{3}{\\omega/\\omega_A - \\omega_A/\\omega}\\right)^2}} \\\\\n",
    "\\arg(\\underline{H}_u) &= \\arctan(\\frac{3}{\\omega/\\omega_A - \\omega_A/\\omega})\n",
    "\\end{align}"
   ]
  },
  {
   "cell_type": "markdown",
   "id": "60e235e1",
   "metadata": {},
   "source": [
    "## Literaturverzeichnis\n",
    "\n",
    "```{bibliography}\n",
    ":filter: docname in docnames\n",
    "```"
   ]
  }
 ],
 "metadata": {
  "kernelspec": {
   "display_name": "Python 3 (ipykernel)",
   "language": "python",
   "name": "python3"
  }
 },
 "nbformat": 4,
 "nbformat_minor": 5
}