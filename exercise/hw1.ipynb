{
 "cells": [
  {
   "cell_type": "markdown",
   "id": "462f8c2a",
   "metadata": {
    "editable": true
   },
   "source": [
    "<!-- File automatically generated using DocOnce (https://github.com/doconce/doconce/):\n",
    "doconce format ipynb hw1.do.txt --no_preprocess --ipynb_figure=imgtag ipynb_figure=imgtag --ipynb_movie=ipynb ipynb_movie=ipynb --ipynb_admon=hrule ipynb_admon=hrule --encoding=utf8 -->\n",
    "\n",
    "# Übungsblatt 1"
   ]
  },
  {
   "cell_type": "markdown",
   "id": "87b50141",
   "metadata": {
    "editable": true
   },
   "source": [
    "## Darstellung von Signalen\n",
    "\n",
    "Stellen Sie die Signale des angegebenen Netzwerks mit Python (und/oder von Ihnen gewählten alternativen Softwarepaketen\n",
    "des wissenschaflichten Rechnens, z.B. Matlab oder Gnu Octave) dar. \n",
    "\n",
    "Die Komponenten Werte sind: $\\omega$ = $2 \\pi$ 1 kHz, $\\hat{U}_0$ = 10 V, $R$ = 30 $\\Omega$, $L$ = 3 mH,\n",
    "$\\hat{I}_0$ = 0.282 A, $\\varphi_I$ = -32.1 Grad.\n",
    "\n",
    "<!-- dom:FIGURE: [hw1p1.png, width=200 frac=0.75] Wechselstromkreis. <div id=\"fig:hw1p1\"></div> -->\n",
    "<!-- begin figure -->\n",
    "<div id=\"fig:hw1p1\"></div>\n",
    "\n",
    "<img src=\"hw1p1.png\" width=\"200\"><p style=\"font-size: 0.9em\"><i>Figure 1: Wechselstromkreis.</i></p>\n",
    "<!-- end figure -->\n",
    "\n",
    "<!-- --- begin solution of exercise --- -->\n",
    "**Solution.**\n",
    "Die Programmcodes lauten:\n",
    "\n",
    "**Python:**"
   ]
  },
  {
   "cell_type": "code",
   "execution_count": null,
   "id": "05baa13d",
   "metadata": {
    "editable": true
   },
   "outputs": [],
   "source": [
    "%matplotlib inline\n",
    "\n",
    "#!/usr/bin/env python3\n",
    "# -*- coding: utf-8 -*-\n",
    "\"\"\"\n",
    "GEL2, Uebungsblatt 1, Problem 1\n",
    "\n",
    "@author: M. Meiners\n",
    "\"\"\"\n",
    "\n",
    "import numpy as np\n",
    "import matplotlib.pyplot as plt\n",
    "\n",
    "f = 10**3  # Grundfrequenz 1 kHz wird auch als 10e3 geschrieben\n",
    "w = 2 * np.pi * f  # Kreisfrequenz\n",
    "\n",
    "U0p = 10  # Spannung in Volt\n",
    "R = 30  # Widerstand in Ohm\n",
    "L = 3e-3  # Induktivität in Henry\n",
    "I0p = 0.282  # Strom in  Ampere\n",
    "phiI = -32.1 * np.pi / 180  # Winkel in rad\n",
    "\n",
    "t = np.linspace(0, 5e-3, 1000)  # Zeitachse anlegen\n",
    "u0 = U0p * np.sin(w * t)\n",
    "i0 = I0p * np.sin(w * t + phiI)\n",
    "uL = w * L * I0p * np.sin(w * t + phiI + np.pi / 2)  # Spannung über der Spule\n",
    "uR = R * i0  # Spannung über Widerstand\n",
    "\n",
    "plt.plot(w * t, u0, label=r'$u_0$')\n",
    "plt.plot(w * t, uR, label=r'$u_R$')\n",
    "plt.plot(w * t, uL, label=r'$u_L$')\n",
    "plt.plot(w * t, i0, label=r'$i_0$')\n",
    "plt.xlabel(r'$\\omega t$')\n",
    "plt.ylabel(r'$u(t)$')\n",
    "plt.grid()\n",
    "plt.legend()\n",
    "\n",
    "plt.show()"
   ]
  },
  {
   "cell_type": "markdown",
   "id": "03b53924",
   "metadata": {
    "editable": true
   },
   "source": [
    "**Matlab:**"
   ]
  },
  {
   "cell_type": "markdown",
   "id": "6e629c41",
   "metadata": {
    "editable": true
   },
   "source": [
    "        %% GEL2, Uebungsblatt 1, Problem 1\n",
    "        %% (c) 2021, M. Meiners, HSB\n",
    "        \n",
    "        f = 1e3; % Hz\n",
    "        w = 2*pi*f; % Kreisfrequenz\n",
    "        \n",
    "        U0p = 10; % V\n",
    "        R = 30; % Ohm\n",
    "        L = 3e-3; % H\n",
    "        ULp = 5.31; % V\n",
    "        URp = 8.47; % V\n",
    "        I0p = 0.282; % A\n",
    "        phiI = -32.1*pi/180; % rad\n",
    "        \n",
    "        t = linspace(0,5e-3,1000);\n",
    "        u0 = U0p * sin(w*t);\n",
    "        i0 = I0p * sin(w*t + phiI);\n",
    "        uL = w * L * I0p * sin(w*t + phiI + pi/2);\n",
    "        uR = R * i0;\n",
    "        \n",
    "        figure(1)\n",
    "        plot(w*t, u0, w*t, uR, w*t, uL)\n",
    "        grid on\n",
    "        xlabel('\\omega t')\n",
    "        ylabel('u(t)')\n",
    "        \n",
    "        %% Gleichrichtmittelwert\n",
    "        f = 50;\n",
    "        T = 1/f;\n",
    "        \n",
    "        % Definition einer Funktion\n",
    "        % u = inline(\"abs(200*sin(2*pi*50*t))\");\n",
    "        u = @(t) abs(200*sin(2*pi*50*t));\n",
    "        \n",
    "        % Integration\n",
    "        ugl = 1/T * quad(u,0,T)\n"
   ]
  },
  {
   "cell_type": "markdown",
   "id": "8525c839",
   "metadata": {
    "editable": true
   },
   "source": [
    "<!-- --- end solution of exercise --- -->"
   ]
  },
  {
   "cell_type": "markdown",
   "id": "9ef31011",
   "metadata": {
    "editable": true
   },
   "source": [
    "## Überlagerung von sinusförmigen Spannungen mit verschiedenen Frequenzen\n",
    "\n",
    "Der zeitliche Verlauf einer Spannung mit $\\omega_2 = 3 \\omega_1$ sei gegeben durch"
   ]
  },
  {
   "cell_type": "markdown",
   "id": "3a7d7be1",
   "metadata": {
    "editable": true
   },
   "source": [
    "<!-- Equation labels as ordinary links -->\n",
    "<div id=\"_auto1\"></div>\n",
    "\n",
    "$$\n",
    "\\begin{equation}\n",
    "u(t) = U_0 + \\hat{U}_1 \\cos(\\omega_1 t) + \\hat{U}_2 \\cos(\\omega_2 t + \\varphi).\n",
    "\\label{_auto1} \\tag{1}\n",
    "\\end{equation}\n",
    "$$"
   ]
  },
  {
   "cell_type": "markdown",
   "id": "f9da9004",
   "metadata": {
    "editable": true
   },
   "source": [
    "**a)**\n",
    "Wie groß ist die Periodendauer $T$?\n",
    "\n",
    "<!-- --- begin solution of exercise --- -->\n",
    "**Solution.**\n",
    "Die Periodendauer $T$ ist der kleinste Zeitabschnitt mit $u(t+T)=u(t)$."
   ]
  },
  {
   "cell_type": "markdown",
   "id": "6650e904",
   "metadata": {
    "editable": true
   },
   "source": [
    "<!-- Equation labels as ordinary links -->\n",
    "<div id=\"_auto2\"></div>\n",
    "\n",
    "$$\n",
    "\\begin{equation}\n",
    "T = \\frac{2 \\pi}{\\omega_1}\n",
    "\\label{_auto2} \\tag{2}\n",
    "\\end{equation}\n",
    "$$"
   ]
  },
  {
   "cell_type": "markdown",
   "id": "e0826fa2",
   "metadata": {
    "editable": true
   },
   "source": [
    "<!-- --- end solution of exercise --- -->"
   ]
  },
  {
   "cell_type": "markdown",
   "id": "bc2aeb0c",
   "metadata": {
    "editable": true
   },
   "source": [
    "**b)**\n",
    "Berechnen Sie den Mittelwert der Spannung $u(t)$!\n",
    "\n",
    "<!-- --- begin solution of exercise --- -->\n",
    "**Solution.**"
   ]
  },
  {
   "cell_type": "markdown",
   "id": "6e7141a8",
   "metadata": {
    "editable": true
   },
   "source": [
    "<!-- Equation labels as ordinary links -->\n",
    "<div id=\"_auto3\"></div>\n",
    "\n",
    "$$\n",
    "\\begin{equation}\n",
    "\\overline{u(t)} = \\frac{1}{T} \\int_0^T u(t) dt = U_0\n",
    "\\label{_auto3} \\tag{3}\n",
    "\\end{equation}\n",
    "$$"
   ]
  },
  {
   "cell_type": "markdown",
   "id": "6c562b1f",
   "metadata": {
    "editable": true
   },
   "source": [
    "<!-- --- end solution of exercise --- -->"
   ]
  },
  {
   "cell_type": "markdown",
   "id": "ff5e0c7e",
   "metadata": {
    "editable": true
   },
   "source": [
    "**c)**\n",
    "Berechnen Sie den Effektivwert $U_{eff}$ der Spannung $u(t)$! Wie läßt sich $U_{eff}$ aus den Effektivwerten der\n",
    "drei Einzelspannungen berechnen?\n",
    "\n",
    "<!-- --- begin hint in exercise --- -->\n",
    "\n",
    "**Hint.**"
   ]
  },
  {
   "cell_type": "markdown",
   "id": "a8beb6fe",
   "metadata": {
    "editable": true
   },
   "source": [
    "<!-- Equation labels as ordinary links -->\n",
    "<div id=\"_auto4\"></div>\n",
    "\n",
    "$$\n",
    "\\begin{equation}\n",
    "\\frac{1}{T}\\int_0^T \\cos^2(\\omega t)\\, dt = \\left[ \\frac{t}{2} + \\frac{\\sin(\\omega t) \\cos(\\omega t)}{2 \\omega}   \\right]_0^T = \\frac{1}{2}\n",
    "\\label{_auto4} \\tag{4}\n",
    "\\end{equation}\n",
    "$$"
   ]
  },
  {
   "cell_type": "markdown",
   "id": "3ec79a54",
   "metadata": {
    "editable": true
   },
   "source": [
    "<!-- --- end hint in exercise --- -->\n",
    "\n",
    "<!-- --- begin solution of exercise --- -->\n",
    "**Solution.**"
   ]
  },
  {
   "cell_type": "markdown",
   "id": "a611a9ca",
   "metadata": {
    "editable": true
   },
   "source": [
    "<!-- Equation labels as ordinary links -->\n",
    "<div id=\"_auto5\"></div>\n",
    "\n",
    "$$\n",
    "\\begin{equation}\n",
    "U^2_{eff} = \\frac{1}{T} \\int_0^{T} \\overline{u^2(t)} dt \n",
    "\\label{_auto5} \\tag{5}\n",
    "\\end{equation}\n",
    "$$"
   ]
  },
  {
   "cell_type": "markdown",
   "id": "715d13d5",
   "metadata": {
    "editable": true
   },
   "source": [
    "<!-- Equation labels as ordinary links -->\n",
    "<div id=\"_auto6\"></div>\n",
    "\n",
    "$$\n",
    "\\begin{equation} \n",
    "= \\frac{1}{T} \\int_0^{T} ( U_0 + \\hat{U}_1 \\cos(\\omega_1 t) + \\hat{U}_2 \\cos(\\omega_2 t + \\varphi) )^2 \n",
    "\\label{_auto6} \\tag{6}\n",
    "\\end{equation}\n",
    "$$"
   ]
  },
  {
   "cell_type": "markdown",
   "id": "b66891b9",
   "metadata": {
    "editable": true
   },
   "source": [
    "<!-- Equation labels as ordinary links -->\n",
    "<div id=\"_auto7\"></div>\n",
    "\n",
    "$$\n",
    "\\begin{equation} \n",
    "= \\frac{1}{T} \\int_0^{T} (  U^2_0 + 2U_0\\hat{U}_1\\cos(\\omega_1t) + 2U_0\\hat{U}_2\\cos(\\omega_2 t + \\varphi) \n",
    "\\label{_auto7} \\tag{7}\n",
    "\\end{equation}\n",
    "$$"
   ]
  },
  {
   "cell_type": "markdown",
   "id": "969a8db8",
   "metadata": {
    "editable": true
   },
   "source": [
    "<!-- Equation labels as ordinary links -->\n",
    "<div id=\"_auto8\"></div>\n",
    "\n",
    "$$\n",
    "\\begin{equation} \n",
    "+ \\hat{U}^2_1\\cos^2(\\omega_1 t) + 2\\hat{U}_1\\hat{U}_2\\cos(\\omega_1 t) \\cos(\\omega_2 t + \\varphi) \n",
    "\\label{_auto8} \\tag{8}\n",
    "\\end{equation}\n",
    "$$"
   ]
  },
  {
   "cell_type": "markdown",
   "id": "3c8abb10",
   "metadata": {
    "editable": true
   },
   "source": [
    "<!-- Equation labels as ordinary links -->\n",
    "<div id=\"_auto9\"></div>\n",
    "\n",
    "$$\n",
    "\\begin{equation} \n",
    "+ \\hat{U}^2_2 \\cos^2(\\omega_2 t + \\varphi) ) \n",
    "\\label{_auto9} \\tag{9}\n",
    "\\end{equation}\n",
    "$$"
   ]
  },
  {
   "cell_type": "markdown",
   "id": "7d63e6cf",
   "metadata": {
    "editable": true
   },
   "source": [
    "<!-- Equation labels as ordinary links -->\n",
    "<div id=\"_auto10\"></div>\n",
    "\n",
    "$$\n",
    "\\begin{equation}   \n",
    "= U_0^2 + \\frac{1}{2} \\hat{U}_1^2 +  \\frac{1}{2} \\hat{U}_2^2 \n",
    "\\label{_auto10} \\tag{10}\n",
    "\\end{equation}\n",
    "$$"
   ]
  },
  {
   "cell_type": "markdown",
   "id": "6565b793",
   "metadata": {
    "editable": true
   },
   "source": [
    "<!-- Equation labels as ordinary links -->\n",
    "<div id=\"_auto11\"></div>\n",
    "\n",
    "$$\n",
    "\\begin{equation} \n",
    "= U^2_0 + U^2_{1,eff} + U^2_{2,eff}\n",
    "\\label{_auto11} \\tag{11}\n",
    "\\end{equation}\n",
    "$$"
   ]
  },
  {
   "cell_type": "markdown",
   "id": "87cbb637",
   "metadata": {
    "editable": true
   },
   "source": [
    "<!-- --- end solution of exercise --- -->"
   ]
  },
  {
   "cell_type": "markdown",
   "id": "6f7ffc0f",
   "metadata": {
    "editable": true
   },
   "source": [
    "**d)**\n",
    "Wie groß ist der Scheitelfaktor $U_{max}/U_{eff}$, wenn $U_0$ = 1 V, $\\hat{U}_1$ = $\\hat{U}_2$ = 100 mV und\n",
    "$\\varphi$ = 60 Grad?  \n",
    "\n",
    "**Programmcode:**\n",
    "\n",
    "**Python:**"
   ]
  },
  {
   "cell_type": "code",
   "execution_count": null,
   "id": "33eb93ef",
   "metadata": {
    "editable": true
   },
   "outputs": [],
   "source": [
    "#!/usr/bin/env python\n",
    "\"\"\" \n",
    "GEL2 Uebungsblatt 1, Problem 2\n",
    "\n",
    "@author: M. Meiners, HSB, (c) 2021\n",
    "\"\"\"\n",
    "\n",
    "import numpy as np\n",
    "import scipy.integrate as si\n",
    "import scipy.optimize as so\n",
    "import matplotlib.pylab as plt\n",
    "\n",
    "U0 = 1\n",
    "U1p = 100e-3\n",
    "U2p = 100e-3\n",
    "phi = 60 * np.pi / 180\n",
    "f1 = 1e3\n",
    "T = 1 / f1\n",
    "w1 = 2 * np.pi * f1\n",
    "w2 = 3 * w1\n",
    "\n",
    "\n",
    "# Definition der Spannungen als Funktion\n",
    "def u(t):\n",
    "    return U0 + U1p * np.cos(w1 * t) + U2p * np.cos(w2 * t + phi)\n",
    "\n",
    "\n",
    "def u2(t):\n",
    "    return (U0 + U1p * np.cos(w1 * t) + U2p * np.cos(w2 * t + phi))**2\n",
    "\n",
    "\n",
    "# Zeit als Vektor\n",
    "t = np.linspace(0, 5e-3, 3000)\n",
    "\n",
    "# Darstellung der Funktion\n",
    "fig1 = plt.figure(1)\n",
    "plt.plot(t, u(t))\n",
    "plt.xlabel('Zeit t/s')\n",
    "plt.ylabel('Spannung u(t)/V')\n",
    "plt.grid('on')\n",
    "plt.show()\n",
    "\n",
    "# b) Mittelwert der Spannung u(t)\n",
    "y, err = si.quad(u, 0, T)\n",
    "u_bar = 1 / T * y\n",
    "print('Der Mittelwert:', u_bar)\n",
    "\n",
    "# c) Effiktivwert der Spannung u(t)\n",
    "y2, err2 = si.quad(u2, 0, T)\n",
    "U_eff = np.sqrt(1 / T * y2)\n",
    "print('Der Effektivwert:', U_eff)\n",
    "\n",
    "\n",
    "# d) Berechnung des Scheitelfaktors, Fixpunkt-Iteration\n",
    "def func(x, c1, c2, c3):\n",
    "    return 1.0 / 3.0 * (np.arcsin(-c1 / (3 * c2) * np.sin(x)) - c3)\n",
    "\n",
    "\n",
    "SF = so.fixed_point(func, 1, args=(U1p, U2p, phi), xtol=1e-6)\n",
    "print('Der Scheitelfaktor:', SF)"
   ]
  },
  {
   "cell_type": "markdown",
   "id": "90197c34",
   "metadata": {
    "editable": true
   },
   "source": [
    "**Matlab:**"
   ]
  },
  {
   "cell_type": "markdown",
   "id": "5518395b",
   "metadata": {
    "editable": true
   },
   "source": [
    "        %% GEL2, Uebungsblatt 1, Problem 2\n",
    "        %% (c) 2021, M. Meiners, HSB\n",
    "        U0  = 1;\n",
    "        U1p = 100e-3;\n",
    "        U2p = 100e-3;\n",
    "        f1  = 1e3;\n",
    "        w1  = 2*pi*f1;\n",
    "        w2  = 3*w1;\n",
    "        phi = 2*pi*60/360;\n",
    "        T   = 1/f1;\n",
    "        t   = [0:0.001:5]*1e-3;\n",
    "        \n",
    "        % Definition der Spannung als Funktion\n",
    "        u = @(t) U0 + U1p .* cos(w1.*t) + U2p .* cos(w2.*t + phi);\n",
    "        u2 = @(t) (U0 + U1p .* cos(w1.*t) + U2p .* cos(w2.*t + phi)).^2;\n",
    "        \n",
    "        %% a) Darstellung der Funktion\n",
    "        fig1 = figure(1)\n",
    "        plot(t, u(t))\n",
    "        xlabel('Zeit t/s')\n",
    "        ylabel('Spannung u(t)/V')\n",
    "        grid\n",
    "        \n",
    "        %% b) Mittelwert der Spannung u(t)\n",
    "        u_bar = 1/T*quad(u,0,T);\n",
    "        disp(u_bar)\n",
    "        \n",
    "        %% c) Effiktivwert der Spannung u(t)\n",
    "        U_eff = sqrt(1/T*quad(u2,0,T));\n",
    "        disp(U_eff)\n",
    "        \n",
    "        %% d) Bestimmung des Scheitelfaktors\n",
    "        x0 = 1;\n",
    "        tol = 1e-6;\n",
    "        \n",
    "        % Definition der zu iterierenden Funktion\n",
    "        f = @(x) 1/3*(asin(-U1p/(3*U2p)*sin(x))-phi);\n",
    "        \n",
    "        % Fixpunktiteration ueber Aufruf einer Funktion in einer weiteren Datei\n",
    "        x = fixpunktIt(f, x0, tol);\n",
    "        disp(x)\n"
   ]
  },
  {
   "cell_type": "markdown",
   "id": "626dd22c",
   "metadata": {
    "editable": true
   },
   "source": [
    "**Fixpunkt-Iteration:**"
   ]
  },
  {
   "cell_type": "markdown",
   "id": "804c7245",
   "metadata": {
    "editable": true
   },
   "source": [
    "        %% Funktionsdefinition Fixpunktiteration\n",
    "        function x = fixpunktIt (f, x0, tol)\n",
    "            x(1) = x0;\n",
    "            for i = 1:1000\n",
    "                x(i+1) = f(x(i));\n",
    "                if abs(x(i+1) - x(i)) < tol\n",
    "                    break;\n",
    "                end\n",
    "            end\n",
    "        end\n"
   ]
  },
  {
   "cell_type": "markdown",
   "id": "2f9b378a",
   "metadata": {
    "editable": true
   },
   "source": [
    "<!-- --- begin solution of exercise --- -->\n",
    "**Solution.**"
   ]
  },
  {
   "cell_type": "markdown",
   "id": "3dec4bb4",
   "metadata": {
    "editable": true
   },
   "source": [
    "<!-- Equation labels as ordinary links -->\n",
    "<div id=\"_auto12\"></div>\n",
    "\n",
    "$$\n",
    "\\begin{equation}\n",
    "U_{max} = u(t_{max}); \\quad \\left. \\frac{du(t)}{dt} \\right\\lvert_{t=t_{max}} = 0 \n",
    "\\label{_auto12} \\tag{12}\n",
    "\\end{equation}\n",
    "$$"
   ]
  },
  {
   "cell_type": "markdown",
   "id": "9e479b81",
   "metadata": {
    "editable": true
   },
   "source": [
    "<!-- Equation labels as ordinary links -->\n",
    "<div id=\"_auto13\"></div>\n",
    "\n",
    "$$\n",
    "\\begin{equation} \n",
    "\\frac{du(t)}{dt} = -\\hat{U}_1\\omega_1\\sin(\\omega_1 t) - \\hat{U}_2 \\omega_2\\sin(\\omega_2 t + \\varphi) \n",
    "\\label{_auto13} \\tag{13}\n",
    "\\end{equation}\n",
    "$$"
   ]
  },
  {
   "cell_type": "markdown",
   "id": "c6335cfd",
   "metadata": {
    "editable": true
   },
   "source": [
    "<!-- Equation labels as ordinary links -->\n",
    "<div id=\"_auto14\"></div>\n",
    "\n",
    "$$\n",
    "\\begin{equation} \n",
    "\\sin(3\\omega_1 t_{max} + \\varphi) = -\\frac{\\hat{U}_1}{2\\hat{U}_2}\\sin(\\omega_1 t_{max}) \n",
    "\\label{_auto14} \\tag{14}\n",
    "\\end{equation}\n",
    "$$"
   ]
  },
  {
   "cell_type": "markdown",
   "id": "836aef0a",
   "metadata": {
    "editable": true
   },
   "source": [
    "<!-- Equation labels as ordinary links -->\n",
    "<div id=\"eq:4\"></div>\n",
    "\n",
    "$$\n",
    "\\begin{equation} \n",
    "\\omega_1 t_{max} = \\frac{1}{3} \\left( \\arcsin \\left( -\\frac{\\hat{U}_1}{3\\hat{U}_2} \\sin(\\omega t_{max} + \\varphi) \\right) \\right) \\label{eq:4} \\tag{15}\n",
    "\\end{equation}\n",
    "$$"
   ]
  },
  {
   "cell_type": "markdown",
   "id": "2a988aad",
   "metadata": {
    "editable": true
   },
   "source": [
    "Die letzte Gleichung ([15](#eq:4)) ist eine sog. Fixpunktiteration, deren numerische Lösung im Programmcode formuliert ist. Nach ein paar\n",
    "Iterationschritten erhält man $\\omega_1 t_{max}$ = -0.315. Daraus ergeben sich $U_{max}$ = 1.195 V und $U_{eff}$ = 1.005 V.\n",
    "Der gesuchte Formfaktor berechnet sich zu:"
   ]
  },
  {
   "cell_type": "markdown",
   "id": "17539197",
   "metadata": {
    "editable": true
   },
   "source": [
    "<!-- Equation labels as ordinary links -->\n",
    "<div id=\"_auto15\"></div>\n",
    "\n",
    "$$\n",
    "\\begin{equation}\n",
    "\\frac{U_{max}}{U_{eff}} = 1.189\n",
    "\\label{_auto15} \\tag{16}\n",
    "\\end{equation}\n",
    "$$"
   ]
  },
  {
   "cell_type": "markdown",
   "id": "de52deba",
   "metadata": {
    "editable": true
   },
   "source": [
    "<!-- --- end solution of exercise --- -->"
   ]
  },
  {
   "cell_type": "markdown",
   "id": "08128a76",
   "metadata": {
    "editable": true
   },
   "source": [
    "## Schaltungsberechnung in reeller Schreibweise\n",
    "\n",
    "<!-- dom:FIGURE: [hw1p3.png, width=300 frac=0.75] Netzwerk zur Schaltungsanalyse. <div id=\"fig:hw1p3\"></div> -->\n",
    "<!-- begin figure -->\n",
    "<div id=\"fig:hw1p3\"></div>\n",
    "\n",
    "<img src=\"hw1p3.png\" width=\"300\"><p style=\"font-size: 0.9em\"><i>Figure 2: Netzwerk zur Schaltungsanalyse.</i></p>\n",
    "<!-- end figure -->\n",
    "\n",
    "Gegeben sei die in Abb. [fig:hw1p3](#fig:hw1p3) skizzierte Schaltung mit einer Wechselstromquelle $i_0(t)=\\hat{I}_0 \\sin(\\omega t)$."
   ]
  },
  {
   "cell_type": "markdown",
   "id": "e30ff8b8",
   "metadata": {
    "editable": true
   },
   "source": [
    "**a)**\n",
    "Berechnen Sie Amplitude und Phasenwinkel jeweils von $u(t)$, $i_C(t)$ und $i_R(t)$!\n",
    "\n",
    "<!-- --- begin solution of exercise --- -->\n",
    "**Solution.**\n",
    "Sei $u(t)=\\hat{U} \\sin(\\omega t + \\varphi_u)$, dann ergeben sich die Ströme zu:"
   ]
  },
  {
   "cell_type": "markdown",
   "id": "71843f89",
   "metadata": {
    "editable": true
   },
   "source": [
    "<!-- Equation labels as ordinary links -->\n",
    "<div id=\"_auto16\"></div>\n",
    "\n",
    "$$\n",
    "\\begin{equation}\n",
    "i_C(t) = \\omega C \\hat{U} \\sin(\\omega t + \\varphi_u + \\frac{\\pi}{2}) = -\\omega C \\hat{U} \\cos(\\omega t + \\varphi_u) \n",
    "\\label{_auto16} \\tag{17}\n",
    "\\end{equation}\n",
    "$$"
   ]
  },
  {
   "cell_type": "markdown",
   "id": "fad394a4",
   "metadata": {
    "editable": true
   },
   "source": [
    "<!-- Equation labels as ordinary links -->\n",
    "<div id=\"_auto17\"></div>\n",
    "\n",
    "$$\n",
    "\\begin{equation} \n",
    "i_R(t) = \\frac{\\hat{U}}{R} \\sin(\\omega t + \\varphi_u).\n",
    "\\label{_auto17} \\tag{18}\n",
    "\\end{equation}\n",
    "$$"
   ]
  },
  {
   "cell_type": "markdown",
   "id": "29430ada",
   "metadata": {
    "editable": true
   },
   "source": [
    "Knotengleichung: $i_0(t) = i_C(t) + i_R(t)$"
   ]
  },
  {
   "cell_type": "markdown",
   "id": "9ee28f4e",
   "metadata": {
    "editable": true
   },
   "source": [
    "<!-- Equation labels as ordinary links -->\n",
    "<div id=\"_auto18\"></div>\n",
    "\n",
    "$$\n",
    "\\begin{equation}\n",
    "\\hat{I}_0 \\sin(\\omega t) = -\\omega C \\hat{U} \\cos(\\omega t + \\varphi_u) + \\frac{\\hat{U}}{R} \\sin(\\omega t + \\varphi_u) \n",
    "\\label{_auto18} \\tag{19}\n",
    "\\end{equation}\n",
    "$$"
   ]
  },
  {
   "cell_type": "markdown",
   "id": "672defd3",
   "metadata": {
    "editable": true
   },
   "source": [
    "<!-- Equation labels as ordinary links -->\n",
    "<div id=\"_auto19\"></div>\n",
    "\n",
    "$$\n",
    "\\begin{equation} \n",
    "\\hat{I}_0 \\sin(m - \\varphi_u) = -\\omega C \\hat{U} \\cos(m) + \\frac{\\hat{U}}{R} \\sin(m), \\quad m=\\omega t + \\varphi_u \n",
    "\\label{_auto19} \\tag{20}\n",
    "\\end{equation}\n",
    "$$"
   ]
  },
  {
   "cell_type": "markdown",
   "id": "8b04a7ca",
   "metadata": {
    "editable": true
   },
   "source": [
    "<!-- Equation labels as ordinary links -->\n",
    "<div id=\"_auto20\"></div>\n",
    "\n",
    "$$\n",
    "\\begin{equation} \n",
    "\\hat{I}_0 \\left( \\sin(m) \\cos(\\varphi_u) - \\cos(m) \\sin(\\varphi_u) \\right) = -\\omega C \\hat{U} \\cos(m) + \\frac{\\hat{U}}{R} \\sin(m) \n",
    "\\label{_auto20} \\tag{21}\n",
    "\\end{equation}\n",
    "$$"
   ]
  },
  {
   "cell_type": "markdown",
   "id": "ef42ab71",
   "metadata": {
    "editable": true
   },
   "source": [
    "<!-- Equation labels as ordinary links -->\n",
    "<div id=\"_auto21\"></div>\n",
    "\n",
    "$$\n",
    "\\begin{equation} \n",
    "\\label{_auto21} \\tag{22}\n",
    "\\end{equation}\n",
    "$$"
   ]
  },
  {
   "cell_type": "markdown",
   "id": "f7baa624",
   "metadata": {
    "editable": true
   },
   "source": [
    "Koeffizientenvergleich:"
   ]
  },
  {
   "cell_type": "markdown",
   "id": "9f2dc425",
   "metadata": {
    "editable": true
   },
   "source": [
    "<!-- Equation labels as ordinary links -->\n",
    "<div id=\"_auto22\"></div>\n",
    "\n",
    "$$\n",
    "\\begin{equation}\n",
    "\\hat{I}_0 \\cos(\\varphi_u) = \\frac{\\hat{U}}{R} \n",
    "\\label{_auto22} \\tag{23}\n",
    "\\end{equation}\n",
    "$$"
   ]
  },
  {
   "cell_type": "markdown",
   "id": "da5dd945",
   "metadata": {
    "editable": true
   },
   "source": [
    "<!-- Equation labels as ordinary links -->\n",
    "<div id=\"_auto23\"></div>\n",
    "\n",
    "$$\n",
    "\\begin{equation} \n",
    "\\hat{I}_0 \\sin(\\varphi_u) = -\\omega C \\hat{U} \n",
    "\\label{_auto23} \\tag{24}\n",
    "\\end{equation}\n",
    "$$"
   ]
  },
  {
   "cell_type": "markdown",
   "id": "67f70b22",
   "metadata": {
    "editable": true
   },
   "source": [
    "<!-- Equation labels as ordinary links -->\n",
    "<div id=\"_auto24\"></div>\n",
    "\n",
    "$$\n",
    "\\begin{equation} \n",
    "\\tan{\\varphi_u} = \\frac{\\sin(\\varphi_u)}{\\cos(\\varphi_u)} = \\frac{-\\omega C \\hat{U}}{\\frac{\\hat{U}}{R}} = -\\omega R C \n",
    "\\label{_auto24} \\tag{25}\n",
    "\\end{equation}\n",
    "$$"
   ]
  },
  {
   "cell_type": "markdown",
   "id": "8e64b0ef",
   "metadata": {
    "editable": true
   },
   "source": [
    "<!-- Equation labels as ordinary links -->\n",
    "<div id=\"_auto25\"></div>\n",
    "\n",
    "$$\n",
    "\\begin{equation} \n",
    "\\varphi_u = \\arctan(-\\omega R C)\n",
    "\\label{_auto25} \\tag{26}\n",
    "\\end{equation}\n",
    "$$"
   ]
  },
  {
   "cell_type": "markdown",
   "id": "e8c7246e",
   "metadata": {
    "editable": true
   },
   "source": [
    "<!-- Equation labels as ordinary links -->\n",
    "<div id=\"_auto26\"></div>\n",
    "\n",
    "$$\n",
    "\\begin{equation}\n",
    "\\hat{I}_0 \\cos(\\varphi_u) = \\frac{\\hat{U}}{R} \n",
    "\\label{_auto26} \\tag{27}\n",
    "\\end{equation}\n",
    "$$"
   ]
  },
  {
   "cell_type": "markdown",
   "id": "8bb97ebd",
   "metadata": {
    "editable": true
   },
   "source": [
    "<!-- Equation labels as ordinary links -->\n",
    "<div id=\"_auto27\"></div>\n",
    "\n",
    "$$\n",
    "\\begin{equation} \n",
    "\\hat{U} = R \\hat{I} \\cos{\\varphi_u} = R \\hat{I} \\frac{1}{\\sqrt{1+\\tan^2(\\varphi)}} \n",
    "\\label{_auto27} \\tag{28}\n",
    "\\end{equation}\n",
    "$$"
   ]
  },
  {
   "cell_type": "markdown",
   "id": "42b67aab",
   "metadata": {
    "editable": true
   },
   "source": [
    "<!-- Equation labels as ordinary links -->\n",
    "<div id=\"_auto28\"></div>\n",
    "\n",
    "$$\n",
    "\\begin{equation} \n",
    "= \\frac{R \\hat{I}}{\\sqrt{1+(\\omega R C)^2}} \n",
    "\\label{_auto28} \\tag{29}\n",
    "\\end{equation}\n",
    "$$"
   ]
  },
  {
   "cell_type": "markdown",
   "id": "eaee8eae",
   "metadata": {
    "editable": true
   },
   "source": [
    "<!-- Equation labels as ordinary links -->\n",
    "<div id=\"_auto29\"></div>\n",
    "\n",
    "$$\n",
    "\\begin{equation} \n",
    "\\hat{I}_C = \\omega C \\hat{U} \n",
    "\\label{_auto29} \\tag{30}\n",
    "\\end{equation}\n",
    "$$"
   ]
  },
  {
   "cell_type": "markdown",
   "id": "70c34043",
   "metadata": {
    "editable": true
   },
   "source": [
    "<!-- Equation labels as ordinary links -->\n",
    "<div id=\"_auto30\"></div>\n",
    "\n",
    "$$\n",
    "\\begin{equation} \n",
    "\\hat{I}_R = \\frac{\\hat{U}}{R}\n",
    "\\label{_auto30} \\tag{31}\n",
    "\\end{equation}\n",
    "$$"
   ]
  },
  {
   "cell_type": "markdown",
   "id": "7c31199c",
   "metadata": {
    "editable": true
   },
   "source": [
    "<!-- --- end solution of exercise --- -->"
   ]
  },
  {
   "cell_type": "markdown",
   "id": "22768e6f",
   "metadata": {
    "editable": true
   },
   "source": [
    "**b)**\n",
    "Skizzieren Sie mithilfe von Python/Gnu Octave/MATLAB $i_0(t)$, $u(t)$, $i_C(t)$ und $i_R(t)$ für\n",
    "$\\hat{I}_0$ = 14.1 mA, $f$ = 3.183 kHz, $R$ = 50 $\\Omega$ und $C$ = 1 $\\mu$ F!\n",
    "\n",
    "**Programmcode zum Darstellen der Strom- und Spannungverläufe:**\n",
    "\n",
    "**Python:**"
   ]
  },
  {
   "cell_type": "code",
   "execution_count": null,
   "id": "47ef424c",
   "metadata": {
    "editable": true
   },
   "outputs": [],
   "source": [
    "#!/usr/bin/env python\n",
    "# -*- coding: utf-8 -*-\n",
    "\n",
    "\"\"\" GEL2 Arbeitsblatt 1, Aufgabe 3 \"\"\"\n",
    "\n",
    "from numpy import pi, sin, linspace\n",
    "import matplotlib.pylab as plt\n",
    "\n",
    "f = 3.183e3  # Frequenz kHz\n",
    "w = 2 * pi * f  # Kreisfrequenz\n",
    "R = 50  # Widerstand in Ohm\n",
    "C = 1e-6  # Kapazität in Farad\n",
    "I0 = 14.1e-3  # Strom\n",
    "t = linspace(0, 1e-3, 1000)  # Länge der x-Achse und\n",
    "\n",
    "# Strom- und Spannungfunktionen\n",
    "i_0 = I0 * sin(w * t)  # Stromquelle\n",
    "u = 5e-3 * sin(w * t - pi / 4)  # Spannung\n",
    "i_C = 10e-3 * sin(w * t + pi / 4)  # Strom am Kondensator\n",
    "i_R = 10e-3 * sin(w * t - pi / 4)  # Strom am Widerstand\n",
    "\n",
    "# Plot der Signale\n",
    "plt.figure()\n",
    "plt.plot(t, i_0, label='$i_0$')\n",
    "plt.plot(t, u, label='$u$')\n",
    "plt.plot(t, i_C, label='$i_C$')\n",
    "plt.plot(t, i_R, label='$i_R$')\n",
    "plt.xlabel('Zeit t in s')\n",
    "plt.ylabel('Strom in i(t) mA und Spannung u(t) in 100 mV')\n",
    "plt.legend(loc='upper right')\n",
    "plt.grid()\n",
    "plt.show()"
   ]
  },
  {
   "cell_type": "markdown",
   "id": "0fb52359",
   "metadata": {
    "editable": true
   },
   "source": [
    "**Matlab:**"
   ]
  },
  {
   "cell_type": "markdown",
   "id": "74e4e5dd",
   "metadata": {
    "editable": true
   },
   "source": [
    "        %% GEL2, Aufgabenblatt 1, Problem 3\n",
    "        %% (c) )M. Meiners, HSB, 2021\n",
    "        I0 = 14.1e-3;\n",
    "        f = 3.183e3;\n",
    "        w = 2*pi*f;\n",
    "        R = 50;\n",
    "        C = 1e-6;\n",
    "        t = linspace(0, 1e-3, 100);\n",
    "        \n",
    "        % Strom- und Spannungfunktionen\n",
    "        i_0 = I0 * sin(w*t);\n",
    "        u =  5e-3 * sin(w*t - pi/4);\n",
    "        i_C = 10e-3 * sin(w*t + pi/4);\n",
    "        i_R = 10e-3 * sin(w*t - pi/4);\n",
    "        \n",
    "        % Plot der Signale\n",
    "        figure(1)\n",
    "        plot(t, i_0, t, u, t, i_C, t, i_R)\n",
    "        xlabel('Zeit t in s')\n",
    "        ylabel('Strom in mA und Spannung in 100 mV')\n",
    "        legend('i_0', 'u', 'i_C', 'i_R')\n",
    "        grid on\n"
   ]
  },
  {
   "cell_type": "markdown",
   "id": "8489e948",
   "metadata": {
    "editable": true
   },
   "source": [
    "<!-- --- begin solution of exercise --- -->\n",
    "**Solution.**\n",
    "Mit den Werten ergeben sich folgende Spannungs- und Stromverläufe:\n",
    "\n",
    "* $i_0(t)$ = 14.1 mA $\\sin(\\omega t)$\n",
    "\n",
    "* $u(t)$ = 0.5 V $\\sin(\\omega t - \\frac{\\pi}{4})$\n",
    "\n",
    "* $i_C(t)$ = 10 mA $\\sin(\\omega t + \\frac{\\pi}{4})$\n",
    "\n",
    "* $i_R(t)$ = 10 mA $\\sin(\\omega t - \\frac{\\pi}{4})$\n",
    "\n",
    "<!-- --- end solution of exercise --- -->"
   ]
  },
  {
   "cell_type": "markdown",
   "id": "a0904136",
   "metadata": {
    "editable": true
   },
   "source": [
    "## Phasenanschnittsteuerung\n",
    "\n",
    "<!-- dom:FIGURE: [hw1p4a.png, width=600 frac=0.75] Halbwelle. <div id=\"fig:hw1p4a\"></div> -->\n",
    "<!-- begin figure -->\n",
    "<div id=\"fig:hw1p4a\"></div>\n",
    "\n",
    "<img src=\"hw1p4a.png\" width=\"600\"><p style=\"font-size: 0.9em\"><i>Figure 3: Halbwelle.</i></p>\n",
    "<!-- end figure -->\n",
    "\n",
    "<!-- dom:FIGURE: [hw1p4b.png, width=600 frac=0.75] Vollwelle. <div id=\"fig:hw1p4b\"></div> -->\n",
    "<!-- begin figure -->\n",
    "<div id=\"fig:hw1p4b\"></div>\n",
    "\n",
    "<img src=\"hw1p4b.png\" width=\"600\"><p style=\"font-size: 0.9em\"><i>Figure 4: Vollwelle.</i></p>\n",
    "<!-- end figure -->\n",
    "\n",
    "Das Prinzip der Phasenanschnittsteuerung, bei dem gem. [Figure 3](#fig:hw1p4a) oder [Figure 4](#fig:hw1p4b) der Stromfluß in einer Halbwelle\n",
    "auf den zeitlichen Bruchteil $\\pi-\\alpha$ begrenzt wird, wird z.B. zum Dimmen von Glühlampen und anderen Kleinverbrauchern im\n",
    "Haushalt verwendet. Der Phasenanschnittwinkel $\\alpha$ kann dabei elektronisch mit Thyristoren im Bereich $0 \\leq \\alpha \\leq \\pi$\n",
    "eingestellt werden. \n",
    "\n",
    "In den hier zu untersuchenden Fällen (a) und (b) wird ein ohmscher Verbraucher mit $R$ = 100 $\\Omega$ mit Netzspannung\n",
    "($U_{0,eff}$ = 230 V, $\\omega$ = 2 $\\pi$ 50 Hz) und Phasenanschnittsteuerung betrieben. \n",
    "\n",
    "Berechnen und skizzieren Sie für den durch den Verbraucherwiderstand $R$ fließenden Strom $i(t)$ jeweils Mittelwert, Gleichrichtmittelwert\n",
    "und Effektivwert als Funktion vom Phasenanschnittwinkel $\\alpha$!\n",
    "\n",
    "<!-- --- begin solution of exercise --- -->\n",
    "**Solution.**\n",
    "**a) Halbwelle**"
   ]
  },
  {
   "cell_type": "markdown",
   "id": "6caaab29",
   "metadata": {
    "editable": true
   },
   "source": [
    "<!-- Equation labels as ordinary links -->\n",
    "<div id=\"_auto31\"></div>\n",
    "\n",
    "$$\n",
    "\\begin{equation}\n",
    "\\overline{i(t)} = \\frac{1}{T} \\int_0^{T} i(t) d t  = \\frac{1}{\\omega T} \\int_{\\alpha}^{\\pi}\\hat{I}\\sin(\\varphi) d \\varphi \n",
    "\\label{_auto31} \\tag{32}\n",
    "\\end{equation}\n",
    "$$"
   ]
  },
  {
   "cell_type": "markdown",
   "id": "d4da1d62",
   "metadata": {
    "editable": true
   },
   "source": [
    "<!-- Equation labels as ordinary links -->\n",
    "<div id=\"_auto32\"></div>\n",
    "\n",
    "$$\n",
    "\\begin{equation} \n",
    "= \\frac{\\hat{I}}{2\\pi} \\left[ -\\cos(\\varphi) \\right]_{\\alpha}^{\\pi}  = \\frac{\\hat{I}}{2\\pi} \\left[ 1+\\cos(\\varphi) \\right] \n",
    "\\label{_auto32} \\tag{33}\n",
    "\\end{equation}\n",
    "$$"
   ]
  },
  {
   "cell_type": "markdown",
   "id": "36935092",
   "metadata": {
    "editable": true
   },
   "source": [
    "<!-- Equation labels as ordinary links -->\n",
    "<div id=\"_auto33\"></div>\n",
    "\n",
    "$$\n",
    "\\begin{equation} \n",
    "\\overline{\\lvert i(t) \\lvert} = \\frac{1}{T} \\int_0^{T} \\lvert i(t) \\lvert d t  = \\frac{\\hat{I}}{2\\pi} \\left[ 1+\\cos(\\varphi) \\right] \n",
    "\\label{_auto33} \\tag{34}\n",
    "\\end{equation}\n",
    "$$"
   ]
  },
  {
   "cell_type": "markdown",
   "id": "7acec329",
   "metadata": {
    "editable": true
   },
   "source": [
    "<!-- Equation labels as ordinary links -->\n",
    "<div id=\"_auto34\"></div>\n",
    "\n",
    "$$\n",
    "\\begin{equation} \n",
    "I^2_{eff} = \\frac{1}{T} \\int_0^{T} \\overline{i^2(t)} d t  = \\frac{1}{\\omega T} \\int_{\\alpha}^{\\pi}\\hat{I}^2\\sin^2(\\varphi) d \\varphi \n",
    "\\label{_auto34} \\tag{35}\n",
    "\\end{equation}\n",
    "$$"
   ]
  },
  {
   "cell_type": "markdown",
   "id": "9c49ab42",
   "metadata": {
    "editable": true
   },
   "source": [
    "<!-- Equation labels as ordinary links -->\n",
    "<div id=\"_auto35\"></div>\n",
    "\n",
    "$$\n",
    "\\begin{equation} \n",
    "= \\frac{\\hat{I}}{2\\pi} \\left[ \\frac{1}{2}\\varphi - \\frac{1}{4}\\sin(2\\varphi) \\right]_{\\alpha}^{\\pi} \n",
    "= \\frac{\\hat{I}}{2\\pi} \\left[ \\frac{1}{2}\\pi -\\frac{1}{2}\\alpha + \\frac{1}{4}\\sin(2\\alpha) \\right] \n",
    "\\label{_auto35} \\tag{36}\n",
    "\\end{equation}\n",
    "$$"
   ]
  },
  {
   "cell_type": "markdown",
   "id": "e0d8f06d",
   "metadata": {
    "editable": true
   },
   "source": [
    "<!-- Equation labels as ordinary links -->\n",
    "<div id=\"_auto36\"></div>\n",
    "\n",
    "$$\n",
    "\\begin{equation} \n",
    "I_{eff} = \\hat{I} \\sqrt{\\frac{\\pi-\\alpha +\\frac{1}{2}\\sin(2\\alpha)}{4\\pi}}  \n",
    "\\label{_auto36} \\tag{37}\n",
    "\\end{equation}\n",
    "$$"
   ]
  },
  {
   "cell_type": "markdown",
   "id": "4eadb9eb",
   "metadata": {
    "editable": true
   },
   "source": [
    "**b) Vollwelle**"
   ]
  },
  {
   "cell_type": "markdown",
   "id": "737aab81",
   "metadata": {
    "editable": true
   },
   "source": [
    "<!-- Equation labels as ordinary links -->\n",
    "<div id=\"_auto37\"></div>\n",
    "\n",
    "$$\n",
    "\\begin{equation}\n",
    "\\overline{i(t)} = 0 \n",
    "\\label{_auto37} \\tag{38}\n",
    "\\end{equation}\n",
    "$$"
   ]
  },
  {
   "cell_type": "markdown",
   "id": "b7b89eb8",
   "metadata": {
    "editable": true
   },
   "source": [
    "<!-- Equation labels as ordinary links -->\n",
    "<div id=\"_auto38\"></div>\n",
    "\n",
    "$$\n",
    "\\begin{equation} \n",
    "\\overline{\\lvert i(t) \\lvert} =  2 \\cdot \\frac{\\hat{I}}{2\\pi} \\left[ 1+\\cos(\\varphi) \\right] = \\frac{\\hat{I}}{\\pi} \\left[ 1+\\cos(\\varphi) \\right] \n",
    "\\label{_auto38} \\tag{39}\n",
    "\\end{equation}\n",
    "$$"
   ]
  },
  {
   "cell_type": "markdown",
   "id": "ae056b29",
   "metadata": {
    "editable": true
   },
   "source": [
    "<!-- Equation labels as ordinary links -->\n",
    "<div id=\"_auto39\"></div>\n",
    "\n",
    "$$\n",
    "\\begin{equation} \n",
    "I^2_{eff} = 2 \\cdot \\frac{\\hat{I}}{2\\pi} \\left[ \\frac{1}{2}\\pi-\\frac{1}{2}\\alpha + \\frac{1}{4}\\sin(2\\alpha) \\right] \n",
    "\\label{_auto39} \\tag{40}\n",
    "\\end{equation}\n",
    "$$"
   ]
  },
  {
   "cell_type": "markdown",
   "id": "49d17618",
   "metadata": {
    "editable": true
   },
   "source": [
    "<!-- Equation labels as ordinary links -->\n",
    "<div id=\"_auto40\"></div>\n",
    "\n",
    "$$\n",
    "\\begin{equation} \n",
    "= \\hat{I} \\sqrt{\\frac{\\pi-\\alpha +\\frac{1}{2}\\sin(2\\alpha)}{2\\pi}}\n",
    "\\label{_auto40} \\tag{41}\n",
    "\\end{equation}\n",
    "$$"
   ]
  },
  {
   "cell_type": "markdown",
   "id": "326e977d",
   "metadata": {
    "editable": true
   },
   "source": [
    "<!-- --- end solution of exercise --- -->"
   ]
  }
 ],
 "metadata": {
  "jupytext": {
   "main_language": "python"
  }
 },
 "nbformat": 4,
 "nbformat_minor": 5
}