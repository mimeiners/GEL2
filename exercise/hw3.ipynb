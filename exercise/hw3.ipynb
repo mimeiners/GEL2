{
 "cells": [
  {
   "cell_type": "markdown",
   "id": "f14735f3",
   "metadata": {},
   "source": [
    "# Übungsblatt Nr. 3\n",
    "\n",
    "## Schaltungsaufgabe mit Zeigerdiagramm\n",
    "\n",
    "Gegeben sei die Schaltung von R, L und C in Fig. [fig:hw3p1](#fig:hw3p1).\n",
    "Dabei seien die Bauteilwerte $R=\\SI{100}{\\ohm}$, $L=\\SI{1}{\\micro\\henry}$, $C=\\SI{1}{\\nano\\farad}$ und die\n",
    "Spannungsquelle $u(t)=\\hat{U} \\cos(\\omega t)$ mit $\\hat{U}=\\SI{1.41}{\\volt}$ und $\\omega=2 \\pi \\SI{6}{\\mega\\hertz}$.\n",
    "\n",
    "<img src=\"fig/hw3p1.png\" width=\"400\"><p style=\"font-size: 0.9em\"><i>Figure 1: RLC-Schaltung für das Zeigerdiagramm.</i></p>\n",
    "\n",
    "Erstellen Sie das Zeigerdiagramm für alle Teilströme und Teilspannungen.\n",
    "\n",
    "**Solution.**\n",
    "Schrittweise graphische Lösung:\n",
    "\n",
    "* $\\vec{I_R}$ und $\\vec{U_R}$ sind reelle Zeiger in Phase. Diese beiden Zeiger als Bezug\n",
    "\n",
    "mit selbst definierten Längen einzeichnen, z.B. $\\vec{I_R} = \\SI{5}{\\centi\\metre}$ und\n",
    "$\\vec{U_R} = \\SI{10}{\\centi\\metre}$. \n",
    "\n",
    "* $\\vec{I_L}$ mit \\SI{-90}{\\degree} bezüglich $\\vec{U_R}$ einzeichnen. Zur Bestimmung der\n",
    "\n",
    "Länge muss nun der Zeiger für den Strom durch die Induktivität im Bezug zum Zeiger für den\n",
    "Strom durch den Widerstand bestimmt werden, da Strom- und Spannungszeiger am Widerstand als\n",
    "Referenz für das Zeigerdiagramm zu Beginn gesetzt worden sind.\n",
    "<!-- #endregion -->"
   ]
  },
  {
   "cell_type": "markdown",
   "id": "1e1037c6",
   "metadata": {
    "editable": true
   },
   "source": [
    "<!-- Equation labels as ordinary links -->\n",
    "<div id=\"_auto1\"></div>\n",
    "\n",
    "$$\n",
    "\\begin{equation}\n",
    "\\vert\\vec{I_L}\\vert = \\frac{\\vert\\vec{U_L}\\vert}{\\omega L} =\n",
    "\\frac{\\vert\\vec{U_R}\\vert}{\\omega L} =\n",
    "\\frac{\\vert\\vec{U_L}\\vert}{R}\\frac{R}{\\omega L} =\n",
    "\\vert\\vec{I_R}\\vert \\cdot 2.65\n",
    "\\label{_auto1} \\tag{1}\n",
    "\\end{equation}\n",
    "$$"
   ]
  },
  {
   "cell_type": "markdown",
   "id": "7284d3d1",
   "metadata": {
    "editable": true
   },
   "source": [
    "* Jetzt den Summenvektor für den Gesamtstrom $\\vec{I}=\\vec{I_R}+\\vec{I_L}$ einzeichnen.\n",
    "\n",
    "* Die Spannung am Kondensator mit \\SI{-90}{\\degree} bezüglich $\\vec{I}$ einzeichnen.\n",
    "\n",
    "Wie auch schon beim Strom durch die Induktivität wird die Länge des Zeigers für die\n",
    "Spannung am Kondensator durch einen Faktor zum Referenzzeiger, $\\vec{U_R}$, ausgedrückt."
   ]
  },
  {
   "cell_type": "markdown",
   "id": "d7b86183",
   "metadata": {
    "editable": true
   },
   "source": [
    "<!-- Equation labels as ordinary links -->\n",
    "<div id=\"_auto2\"></div>\n",
    "\n",
    "$$\n",
    "\\begin{equation}\n",
    "\\vert\\vec{U_C}\\vert = \\frac{\\vert\\vec{I}\\vert}{\\omega C} =\n",
    "\\frac{\\vert\\vec{I}\\vert}{\\vert\\vec{I_R}\\vert} \\cdot \\frac{\\vert\\vec{I_R}\\vert}{\\omega C} =\n",
    "\\frac{\\vert\\vec{I}\\vert}{\\vert\\vec{I_R}\\vert} \\cdot R \\vert\\vec{I_R}\\vert \\cdot \\frac{1}{\\omega R C} =\n",
    "2.85 \\cdot \\vert\\vec{U_R}\\vert \\cdot 0.265 = 0.76 \\vert\\vec{U_R}\\vert\n",
    "\\label{_auto2} \\tag{2}\n",
    "\\end{equation}\n",
    "$$"
   ]
  },
  {
   "cell_type": "markdown",
   "id": "270a9009",
   "metadata": {
    "editable": true
   },
   "source": [
    "* Final den Summenvektor für die Quellenspannung einzeichnen; $\\vec{U} = \\vec{U_C} + \\vec{U_R}$\n",
    "\n",
    "<!-- dom:FIGURE: [fig/hw3p1a.png, width=400 frac=0.75] Zeigerdiagramm. <div id=\"fig:hw3p1a\"></div> -->\n",
    "<!-- begin figure -->\n",
    "<div id=\"fig:hw3p1a\"></div>\n",
    "\n",
    "<img src=\"fig/hw3p1a.png\" width=\"400\"><p style=\"font-size: 0.9em\"><i>Figure 2: Zeigerdiagramm.</i></p>\n",
    "<!-- end figure -->\n",
    "\n",
    "<!-- --- end solution of exercise --- -->"
   ]
  },
  {
   "cell_type": "markdown",
   "id": "4ccd83fa",
   "metadata": {
    "editable": true
   },
   "source": [
    "## Kompensierter Spannungsteiler\n",
    "<div id=\"sec:hw3p2\"></div>\n",
    "\n",
    "Die abgebildete Schaltung in Abb. [fig:hw3p2](#fig:hw3p2) stellt das Prinzip eines Oszilloskoptastkopfes\n",
    "dar, ein sogenannter kompensierter Spannungsteiler. Dabei bezeichnen $R$ und $C$ Widerstand und Kapazität des\n",
    "Oszilloskopeingangs. $R_1 = \\SI{9}{\\mega\\ohm}$, $R = \\SI{1}{\\mega\\ohm}$, $R_2 = \\SI{1}{\\mega\\ohm}$, $C = \\SI{10}{\\pico\\farad}$.\n",
    "\n",
    "<!-- dom:FIGURE: [fig/hw3p2.png, width=400 frac=0.75] Ersatzschaltbild eines Oszilloskop-Tastkopfes. <div id=\"fig:hw3p2\"></div> -->\n",
    "<!-- begin figure -->\n",
    "<div id=\"fig:hw3p2\"></div>\n",
    "\n",
    "<img src=\"fig/hw3p2.png\" width=\"400\"><p style=\"font-size: 0.9em\"><i>Figure 3: Ersatzschaltbild eines Oszilloskop-Tastkopfes.</i></p>\n",
    "<!-- end figure -->"
   ]
  },
  {
   "cell_type": "markdown",
   "id": "f0499c2d",
   "metadata": {
    "editable": true
   },
   "source": [
    "**a)**\n",
    "Leiten Sie das Spannungsverhältnis $\\underline{H}=\\underline{U}_{osz}/\\underline{U}$ allgemein für die angegebenen Bauteile her?\n",
    "\n",
    "<!-- --- begin solution of exercise --- -->\n",
    "**Solution.**\n",
    "Zeichnen Sie ein vereinfachtes Ersatzschaltbild mit zusammengefassten Impedanzen $Z_1$ und $Z_2$.\n",
    "\n",
    "<!-- dom:FIGURE: [fig/hw3p2a.png, height=200 frac=0.75] Ersatzschaltbild des Tastkopfes zusammengefasst. <div id=\"fig:hw3p2a\"></div> -->\n",
    "<!-- begin figure -->\n",
    "<div id=\"fig:hw3p2a\"></div>\n",
    "\n",
    "<img src=\"fig/hw3p2a.png\" height=\"200\"><p style=\"font-size: 0.9em\"><i>Figure 4: Ersatzschaltbild des Tastkopfes zusammengefasst.</i></p>\n",
    "<!-- end figure -->"
   ]
  },
  {
   "cell_type": "markdown",
   "id": "50831651",
   "metadata": {
    "editable": true
   },
   "source": [
    "<!-- Equation labels as ordinary links -->\n",
    "<div id=\"_auto3\"></div>\n",
    "\n",
    "$$\n",
    "\\begin{equation}\n",
    "Z_1 = \\frac{\\frac{R_1}{j\\omega C_1}}{\\frac{1}{j \\omega C_1} + R_1} = \\frac{R_1}{1 + j \\omega R_1 C_1} \n",
    "\\label{_auto3} \\tag{3}\n",
    "\\end{equation}\n",
    "$$"
   ]
  },
  {
   "cell_type": "markdown",
   "id": "3299bc15",
   "metadata": {
    "editable": true
   },
   "source": [
    "<!-- Equation labels as ordinary links -->\n",
    "<div id=\"_auto4\"></div>\n",
    "\n",
    "$$\n",
    "\\begin{equation} \n",
    "Z_2 = \\frac{R_{2g}}{1+ j \\omega R_{2g} C}, \\quad \\mbox{wobei} \\quad  R_{2g}=\\frac{R_2 R}{R_2+R}\n",
    "\\label{_auto4} \\tag{4}\n",
    "\\end{equation}\n",
    "$$"
   ]
  },
  {
   "cell_type": "markdown",
   "id": "3175a138",
   "metadata": {
    "editable": true
   },
   "source": [
    "Mit diesen Definitionen bestimmt man das Spannungsverhältnis"
   ]
  },
  {
   "cell_type": "markdown",
   "id": "73959c08",
   "metadata": {
    "editable": true
   },
   "source": [
    "<!-- Equation labels as ordinary links -->\n",
    "<div id=\"_auto5\"></div>\n",
    "\n",
    "$$\n",
    "\\begin{equation}\n",
    "\\underline{H} = \\frac{\\underline{U_{osz}}}{\\underline{U}}= \\frac{\\underline{Z}_2}{\\underline{Z}_1 + \\underline{Z}_2}.\n",
    "\\label{_auto5} \\tag{5}\n",
    "\\end{equation}\n",
    "$$"
   ]
  },
  {
   "cell_type": "markdown",
   "id": "2d5499d1",
   "metadata": {
    "editable": true
   },
   "source": [
    "<!-- --- end solution of exercise --- -->"
   ]
  },
  {
   "cell_type": "markdown",
   "id": "1e226fe2",
   "metadata": {
    "editable": true
   },
   "source": [
    "**b)**\n",
    "Wie groß ist die Eingangsimpedanz $\\underline{Z}=\\underline{U}/\\underline{I}$ des Tastkopfes?\n",
    "\n",
    "<!-- --- begin solution of exercise --- -->\n",
    "**Solution.**\n",
    "Mit den Vorarbeiten aus Aufg. 2.1 kann man an dieser Stelle die Eingangsimpedanz des Tastkopfes als Reihenschaltung der Impedanzen\n",
    "$Z_1$ und $Z_2$ notieren."
   ]
  },
  {
   "cell_type": "markdown",
   "id": "3a783e09",
   "metadata": {
    "editable": true
   },
   "source": [
    "<!-- Equation labels as ordinary links -->\n",
    "<div id=\"_auto6\"></div>\n",
    "\n",
    "$$\n",
    "\\begin{equation}\n",
    "\\underline{Z} = \\underline{Z}_1 + \\underline{Z}_2 = \\frac{R_1}{1 + j \\omega R_1 C_1} + \\frac{R_{2g}}{1+ j \\omega R_{2g} C}\n",
    "\\label{_auto6} \\tag{6}\n",
    "\\end{equation}\n",
    "$$"
   ]
  },
  {
   "cell_type": "markdown",
   "id": "9070d05e",
   "metadata": {
    "editable": true
   },
   "source": [
    "<!-- --- end solution of exercise --- -->"
   ]
  },
  {
   "cell_type": "markdown",
   "id": "aec6256b",
   "metadata": {
    "editable": true
   },
   "source": [
    "**c)**\n",
    "Wie muß die Kapazität $C_1$ gewählt werden, damit das Verhältnis $\\underline{H}=\\underline{U}_{osz}/\\underline{U}$ für alle\n",
    "Frequenzen gleich groß ist?\n",
    "\n",
    "<!-- --- begin solution of exercise --- -->\n",
    "**Solution.**\n",
    "Ähnlich einer Abgleichbedingung für eine Wechselstrommessbrücke kann man an dieser Stelle argumentieren, dass das Spannungsverhältnis $\\underline{H}$\n",
    "für alle Frequenzen gleich groß ist, sofern $R_1C_1 = R_{2g}C$ gilt.\n",
    "\n",
    "Die mathematische/ingenieurische Begründung ist wie folgt:"
   ]
  },
  {
   "cell_type": "markdown",
   "id": "0113a945",
   "metadata": {
    "editable": true
   },
   "source": [
    "<!-- Equation labels as ordinary links -->\n",
    "<div id=\"_auto7\"></div>\n",
    "\n",
    "$$\n",
    "\\begin{equation}\n",
    "\\frac{1}{Z_1} = \\frac{1}{R_1} + j \\omega C_1 \n",
    "\\label{_auto7} \\tag{7}\n",
    "\\end{equation}\n",
    "$$"
   ]
  },
  {
   "cell_type": "markdown",
   "id": "785bbd17",
   "metadata": {
    "editable": true
   },
   "source": [
    "<!-- Equation labels as ordinary links -->\n",
    "<div id=\"_auto8\"></div>\n",
    "\n",
    "$$\n",
    "\\begin{equation} \n",
    "\\frac{1}{Z_2} = \\frac{1}{R_{2g}} + j \\omega C \n",
    "\\label{_auto8} \\tag{8}\n",
    "\\end{equation}\n",
    "$$"
   ]
  },
  {
   "cell_type": "markdown",
   "id": "2993e9e6",
   "metadata": {
    "editable": true
   },
   "source": [
    "<!-- Equation labels as ordinary links -->\n",
    "<div id=\"_auto9\"></div>\n",
    "\n",
    "\\begin{equation} \n",
    "\\underline{H} = \\frac{U_{osz}}{U} = \\frac{Z_2}{Z_1 + Z_2} = \\frac{1}{1+\\frac{Z_1}{Z_2}}\n",
    "= \\frac{1}{1+\\frac{\\frac{1}{R_{2g}}+j \\omega C}{\\frac{1}{R_1}+j \\omega C_1}}\n",
    "= \\frac{1}{1+\\frac{R_1}{R_{2g}}\\frac{1+j \\omega R_{2g} C}{1+ j \\omega R_1 C_1}}\n",
    "\n",
    "\\end{equation}\n",
    "\n",
    "\n",
    "Hieraus folgt dann die Bestimmungsgleichung für den Kondensator $C_1$:\n",
    "\n",
    "\\begin{equation}\n",
    "C_1 = \\frac{R_{2g}}{R_1} C = \\frac{0.5}{9} \\SI{10}{\\pico\\farad} = \\SI{0.55}{\\pico\\farad}.\n",
    "\\end{equation}\n",
    "\n",
    "\n",
    "\n",
    "## RC-Spannungsteiler\n",
    "Gegeben sei der abgebildete Spannungsteiler Abb. [fig:hw3p3](#fig:hw3p3) mit zwei Widerständen und einem Kondensator.\n",
    "\n",
    "<img src=\"fig/hw3p3.png\" width=\"400\"><p style=\"font-size: 0.9em\"><i>Figure 5: RC-Spannungsteiler.</i></p>\n",
    "\n",
    "\n",
    "**a)**\n",
    "Berechnen Sie das komplexe Spannungsverhältnis $\\underline{H}=\\underline{U}_2/\\underline{U}_1$.\n",
    "\n",
    "\n",
    "**Solution.**\n",
    "Fassen Sie die Bauteile zu Impedanzen $Z_1$ und $Z_2$ zusammen. Das gesuchte Spannungsverhältnis erhalten Sie aus der\n",
    "Spannungsteilerregel.\n",
    "\n",
    "<img src=\"fig/hw3p3a.png\" height=\"200\"><p style=\"font-size: 0.9em\"><i>Figure 6: RC-Spannungsteiler zusammengefasst.</i></p>\n",
    "\n",
    "\\begin{equation}\n",
    "\\underline{Z}_1 = R_1  \\underline{Z}_2 = R_2 + \\frac{1}{j \\omega C} \n",
    "\\end{equation}\n",
    "\n",
    "\n",
    "\\begin{equation} \n",
    "\\underline{H} = \\frac{\\underline{U}_2}{\\underline{U}_1} = \\frac{\\underline{Z}_2}{\\underline{Z}_1+\\underline{Z}_2} \n",
    "= \\frac{R_2+\\frac{1}{j \\omega C}}{R_1+R_2+\\frac{1}{j \\omega C}} \n",
    "= \\frac{1+j \\omega R_2C}{1 + j \\omega (R_1+R_2)C}\n",
    "\\end{equation}\n",
    "\n",
    "\n",
    "**b)**\n",
    "Stellen Sie den Betrag und den Phasenwinkel von $\\underline{H}$ als Funktion von $\\omega$ für den Fall\n",
    "$R_1 = \\SI{1}{\\ohm}$, $R_2 = \\SI{100}{\\ohm}$ und $C = \\SI{1}{\\micro\\farad}$ mit Matlab dar.\n",
    "\n",
    "\n",
    "**Solution.**\n",
    "\n",
    "Mit der Vorarbeit aus Aufg. 3.1 können Sie die Ausdrücke für Betrag und Phase der Spannungsübertragungsfunktion\n",
    "$\\underline{H}$ direkt ablesen. Der Betrag ist der Quotient der Beträge von Zähler und Nenner.\n",
    "\n",
    "\\begin{equation}\n",
    "\\vert \\underline{H} \\vert =  \\frac{\\vert 1 + j \\omega R_2 C \\vert}{\\vert 1 + j \\omega (R_1+R_2) C \\vert} \n",
    "= \\frac{\\sqrt{1 + (\\omega R_2 C)^2}}{\\sqrt{1+(\\omega (R_1+R_2) C)^2}} \n",
    "= \\sqrt{\\frac{1 + (\\omega R_2 C)^2}{1 + (\\omega (R_1+R_2) C)^2}}\n",
    "\\end{equation}\n",
    "\n",
    "\n",
    "Für die Phase, das Argument von $\\underline{H}$, kann auch der Quotient der Argumente von Zähler und Nenner gebildet werden.\n",
    "\n",
    "\\begin{equation}\n",
    "\\arg(\\underline{H}) = \\frac{\\arg(1 + j \\omega R_2 C)}{\\arg(1 + j \\omega (R_1+R_2) C)} \n",
    "= \\frac{\\arctan(\\omega R_2 C)}{\\arctan(\\omega (R_1+R_2) C)} \n",
    "= \\arctan(\\omega R_2 C) - \\arctan(\\omega (R_1+R_2) C)\n",
    "\\end{equation}\n",
    "\n",
    "\n",
    "```python editable=true\n",
    "%matplotlib inline\n",
    "\n",
    "import numpy as np\n",
    "import matplotlib.pyplot as plt\n",
    "\n",
    "# %% Definitionen\n",
    "\n",
    "# Datenbereich\n",
    "f = np.logspace(0, 6)  # Hz logarithmisch\n",
    "w = 2 * np.pi * f\n",
    "\n",
    "# Bauteilwerte\n",
    "R1 = 1\n",
    "R2 = 100\n",
    "C = 1e-6\n",
    "\n",
    "# Uebertragungsfunktion\n",
    "H = (1 + 1j * w * R2 * C) / (1 + 1j * w * (R1 + R2) * C)\n",
    "\n",
    "# %% Erstellen des Bode-Diagramms\n",
    "\n",
    "# Mit direkten Funktionen aus numpy\n",
    "fig1 = plt.figure(1)\n",
    "plt.subplot(2, 1, 1)\n",
    "plt.semilogx(f, np.abs(H))\n",
    "plt.grid()\n",
    "plt.ylabel(r'|H|')\n",
    "plt.subplot(2, 1, 2)\n",
    "plt.semilogx(f, 180 / np.pi * np.angle(H))\n",
    "plt.grid()\n",
    "plt.ylabel(r'arg(H)/Grad')\n",
    "plt.xlabel(r'Frequenz f/Hz')\n",
    "plt.show()\n",
    "# plt.savefig(fig1, 'hw3p3b', '-dpng')\n",
    "\n",
    "\n",
    "# Mit eigenen Berechnungen\n",
    "# Betrag der Uebertragungsfunktion\n",
    "abs_H = np.sqrt(\n",
    "    (1 + np.square(w * R2 * C)) / (1 + np.square(w * (R1 + R2) * C)))\n",
    "\n",
    "# Phase bzw. Argument der Uebertragungsfunktion\n",
    "arg_H = np.arctan(w * R2 * C) - np.arctan(w * (R1 + R2) * C)\n",
    "\n",
    "fig2 = plt.figure(2)\n",
    "plt.subplot(2, 1, 1)\n",
    "plt.semilogx(f, abs_H)\n",
    "plt.grid()\n",
    "plt.ylabel(r'|H|')\n",
    "plt.subplot(2, 1, 2)\n",
    "plt.semilogx(f, 180 / np.pi * arg_H)\n",
    "plt.grid()\n",
    "plt.ylabel(r'arg(H)/Grad')\n",
    "plt.xlabel(r'Frequenz f/Hz')\n",
    "plt.show()\n",
    "# plt.savefig(fig2, 'BodePlot2', '-dpng')\n",
    "```\n",
    "\n",
    "<img src=\"fig/hw3p3b.png\" width=\"400\"><p style=\"font-size: 0.9em\"><i>Figure 7: Bode-Diagramm.</i></p>\n"
   ]
  }
 ],
 "metadata": {
  "kernelspec": {
   "display_name": "Python 3 (ipykernel)",
   "language": "python",
   "name": "python3"
  }
 },
 "nbformat": 4,
 "nbformat_minor": 5
}