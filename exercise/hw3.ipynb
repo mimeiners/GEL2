{
 "cells": [
  {
   "cell_type": "markdown",
   "id": "b7ee3b40",
   "metadata": {},
   "source": [
    "# Spannungsteiler\n",
    "\n",
    "## Schaltungsaufgabe mit Zeigerdiagramm\n",
    "\n",
    "```{figure} ../images/exercise/hw3p1.png\n",
    ":width: 400\n",
    ":name: fig:hw3p1\n",
    "\n",
    "RLC-Schaltung für das Zeigerdiagramm.\n",
    "```\n",
    "\n",
    "Gegeben ist die RLC-Schaltung in {numref}`fig:hw3p1`.\n",
    "Dabei sind die Bauteilwerte $R=\\SI{100}{\\ohm}$, $L=\\SI{1}{\\micro\\henry}$, $C=\\SI{1}{\\nano\\farad}$ und die\n",
    "Spannungsquelle $u(t)=\\hat{U} \\cos(\\omega t)$ mit $\\hat{U}=\\SI{1.41}{\\volt}$ und $\\omega=2 \\pi \\SI{6}{\\mega\\hertz}$.\n",
    "\n",
    "### Zeigerdiagramm\n",
    "Die Aufgabe besteht darin, das Zeigerdiagramm für alle Teilströme und Teilspannungen zu erstellen\n",
    "\n",
    "#### Schrittweise graphische Lösung\n",
    "\n",
    "1. $\\vec{I_R}$ und $\\vec{U_R}$ sind reelle Zeiger in Phase. Diese beiden Zeiger als Bezug mit selbst definierten Längen\n",
    "  einzeichnen, z.B. $\\vec{I_R} = 5\\,cm$ und $\\vec{U_R} = 10\\,cm$. \n",
    "\n",
    "2. $\\vec{I_L}$ mit \\SI{-90}{\\degree} bezüglich $\\vec{U_R}$ einzeichnen. Zur Bestimmung der Länge muss nun der Zeiger für\n",
    "  den Strom durch die Induktivität im Bezug zum Zeiger für den Strom durch den Widerstand bestimmt werden, da Strom- und\n",
    "  Spannungszeiger am Widerstand als Referenz für das Zeigerdiagramm zu Beginn gesetzt worden sind."
   ]
  },
  {
   "cell_type": "markdown",
   "id": "e22a6cb1",
   "metadata": {},
   "source": [
    "\t\\begin{equation}\n",
    "\t\\vert\\vec{I_L}\\vert = \\frac{\\vert\\vec{U_L}\\vert}{\\omega L} \n",
    "\t= \\frac{\\vert\\vec{U_R}\\vert}{\\omega L} \n",
    "\t= \\frac{\\vert\\vec{U_L}\\vert}{R}\\frac{R}{\\omega L} \n",
    "\t= \\vert\\vec{I_R}\\vert \\cdot 2.65\n",
    "\t\\end{equation}\n",
    "\n",
    "3. Jetzt den Summenvektor für den Gesamtstrom $\\vec{I}=\\vec{I_R}+\\vec{I_L}$ einzeichnen.\n",
    "\n",
    "4. Die Spannung am Kondensator mit \\SI{-90}{\\degree} bezüglich $\\vec{I}$ einzeichnen.\n",
    "\n",
    "\tWie auch schon beim Strom durch die Induktivität wird die Länge des Zeigers für die\n",
    "\tSpannung am Kondensator durch einen Faktor zum Referenzzeiger, $\\vec{U_R}$, ausgedrückt.\n",
    "\n",
    "\t\\begin{equation}\n",
    "\t\\vert\\vec{U_C}\\vert = \\frac{\\vert\\vec{I}\\vert}{\\omega C} \n",
    "\t= \\frac{\\vert\\vec{I}\\vert}{\\vert\\vec{I_R}\\vert} \\cdot \\frac{\\vert\\vec{I_R}\\vert}{\\omega C} \n",
    "\t= \\frac{\\vert\\vec{I}\\vert}{\\vert\\vec{I_R}\\vert} \\cdot R \\vert\\vec{I_R}\\vert \\cdot \\frac{1}{\\omega R C} \n",
    "\t= 2.85 \\cdot \\vert\\vec{U_R}\\vert \\cdot 0.265 = 0.76 \\vert\\vec{U_R}\\vert\n",
    "\t\\end{equation}\n",
    "\n",
    "5. Final den Summenvektor für die Quellenspannung einzeichnen; $\\vec{U} = \\vec{U_C} + \\vec{U_R}$\n",
    "\n",
    "```{figure} ../images/exercise/hw3p1a.png\n",
    ":width: 400\n",
    "\n",
    "Zeigerdiagramm.\n",
    "```\n",
    "\n",
    "## Kompensierter Spannungsteiler\n",
    "\n",
    "Die abgebildete Schaltung in {numref}`fig:hw3p2` stellt das Prinzip eines Oszilloskoptastkopfes\n",
    "dar, ein sogenannter kompensierter Spannungsteiler. Dabei bezeichnen $R$ und $C$ Widerstand und Kapazität des \n",
    "Oszilloskopeingangs. $R_1 = 9\\,M\\Omega$, $R = 1\\,M\\Omega$, $R_2 = 1\\,M\\Omega$, $C = 10\\,pF$.\n",
    "\n",
    "```{figure} ../images/exercise/hw3p2.png\n",
    ":width: 400\n",
    ":name: fig:hw3p2\n",
    "\n",
    "Ersatzschaltbild eines Oszilloskop-Tastkopfes.\n",
    "```\n",
    "\n",
    "### Spannungsteiler\n",
    "Leiten Sie das Spannungsverhältnis $\\underline{H}=\\underline{U}_{osz}/\\underline{U}$ allgemein für die angegebenen\n",
    "Bauteile her?\n",
    "\n",
    "#### Lösung\n",
    "Zeichnen Sie ein vereinfachtes Ersatzschaltbild mit zusammengefassten Impedanzen $Z_1$ und $Z_2$.\n",
    "\n",
    "```{figure} ../images/exercise/hw3p2a.png\n",
    ":height: 200\n",
    "\n",
    "Ersatzschaltbild des Tastkopfes zusammengefasst.\n",
    "```\n",
    "\n",
    "\\begin{equation}\n",
    "Z_1 = \\frac{\\frac{R_1}{j\\omega C_1}}{\\frac{1}{j \\omega C_1} + R_1} = \\frac{R_1}{1 + j \\omega R_1 C_1} \n",
    "\\end{equation}\n",
    "\n",
    "\\begin{equation} \n",
    "Z_2 = \\frac{R_{2g}}{1+ j \\omega R_{2g} C}, \\quad \\mbox{wobei} \\quad  R_{2g}=\\frac{R_2 R}{R_2+R}\n",
    "\\end{equation}"
   ]
  },
  {
   "cell_type": "markdown",
   "id": "b5863953",
   "metadata": {},
   "source": [
    "Mit diesen Definitionen bestimmt man das Spannungsverhältnis:\n",
    "\n",
    "\\begin{equation}\n",
    "\\underline{H} = \\frac{\\underline{U_{osz}}}{\\underline{U}}= \\frac{\\underline{Z}_2}{\\underline{Z}_1 + \\underline{Z}_2}.\n",
    "\\end{equation}"
   ]
  },
  {
   "cell_type": "markdown",
   "id": "89419f10",
   "metadata": {},
   "source": [
    "### Eingangsimpedanz\n",
    "Wie groß ist die Eingangsimpedanz $\\underline{Z}=\\underline{U}/\\underline{I}$ des Tastkopfes?"
   ]
  },
  {
   "cell_type": "markdown",
   "id": "e13657df",
   "metadata": {},
   "source": [
    "#### Lösung\n",
    "Mit den Vorarbeiten aus Aufg. 2.1 kann man an dieser Stelle die Eingangsimpedanz des Tastkopfes als Reihenschaltung der \n",
    "Impedanzen $Z_1$ und $Z_2$ notieren.\n",
    "\n",
    "\\begin{equation}\n",
    "\\underline{Z} = \\underline{Z}_1 + \\underline{Z}_2 = \\frac{R_1}{1 + j \\omega R_1 C_1} + \\frac{R_{2g}}{1+ j \\omega R_{2g} C}\n",
    "\\end{equation}"
   ]
  },
  {
   "cell_type": "markdown",
   "id": "2768cc3c",
   "metadata": {},
   "source": [
    "### Kapazität\n",
    "Wie muß die Kapazität $C_1$ gewählt werden, damit das Verhältnis $\\underline{H}=\\underline{U}_{osz}/\\underline{U}$ für\n",
    "alle Frequenzen gleich groß ist?\n",
    "\n",
    "#### Lösung\n",
    "Ähnlich einer Abgleichbedingung für eine Wechselstrommessbrücke kann man an dieser Stelle argumentieren, dass das\n",
    "Spannungsverhältnis $\\underline{H}$ für alle Frequenzen gleich groß ist, sofern $R_1C_1 = R_{2g}C$ gilt.\n",
    "\n",
    "Die mathematische/ingenieurische Begründung ist wie folgt:\n",
    "\n",
    "\\begin{equation}\n",
    "\\frac{1}{Z_1} = \\frac{1}{R_1} + j \\omega C_1 \n",
    "\\end{equation}\n",
    "\n",
    "\\begin{equation} \n",
    "\\frac{1}{Z_2} = \\frac{1}{R_{2g}} + j \\omega C \n",
    "\\end{equation}"
   ]
  },
  {
   "cell_type": "markdown",
   "id": "ad0ddda7",
   "metadata": {},
   "source": [
    "\\begin{equation} \n",
    "\\underline{H} = \\frac{U_{osz}}{U} = \\frac{Z_2}{Z_1 + Z_2} = \\frac{1}{1+\\frac{Z_1}{Z_2}}\n",
    "= \\frac{1}{1+\\frac{\\frac{1}{R_{2g}}+j \\omega C}{\\frac{1}{R_1}+j \\omega C_1}}\n",
    "= \\frac{1}{1+\\frac{R_1}{R_{2g}}\\frac{1+j \\omega R_{2g} C}{1+ j \\omega R_1 C_1}}\n",
    "\\end{equation}"
   ]
  },
  {
   "cell_type": "markdown",
   "id": "586bfe95",
   "metadata": {},
   "source": [
    "Hieraus folgt dann die Bestimmungsgleichung für den Kondensator $C_1$:\n",
    "\n",
    "\\begin{equation}\n",
    "C_1 = \\frac{R_{2g}}{R_1} C = \\frac{0.5}{9} \\SI{10}{\\pico\\farad} = \\SI{0.55}{\\pico\\farad}.\n",
    "\\end{equation}\n"
   ]
  },
  {
   "cell_type": "markdown",
   "id": "04cf7a37",
   "metadata": {},
   "source": [
    "## RC-Spannungsteiler\n",
    "Gegeben ist der abgebildete Spannungsteiler in {numref}`fig:hw3p3` mit zwei Widerständen und einem Kondensator.\n",
    "\n",
    "```{figure} ../images/exercise/hw3p3.png\n",
    ":width: 400\n",
    ":name: fig:hw3p3\n",
    "\n",
    "RC-Spannungsteiler.\n",
    "```\n",
    "\n",
    "### Spannungsverhältnis\n",
    "Berechnen Sie das komplexe Spannungsverhältnis $\\underline{H}=\\underline{U}_2/\\underline{U}_1$."
   ]
  },
  {
   "cell_type": "markdown",
   "id": "c43ac155",
   "metadata": {},
   "source": [
    "#### Lösung\n",
    "Fassen Sie die Bauteile zu Impedanzen $Z_1$ und $Z_2$ zusammen. Das gesuchte Spannungsverhältnis erhalten Sie aus der\n",
    "Spannungsteilerregel."
   ]
  },
  {
   "cell_type": "markdown",
   "id": "fec0f69d",
   "metadata": {},
   "source": [
    "```{figure} ../images/exercise/hw3p3a.png\n",
    ":height: 200\n",
    "\n",
    "RC-Spannungsteiler zusammengefasst.\n",
    "```\n",
    "\n",
    "\\begin{equation}\n",
    "\\underline{Z}_1 = R_1  \\underline{Z}_2 = R_2 + \\frac{1}{j \\omega C} \n",
    "\\end{equation}"
   ]
  },
  {
   "cell_type": "markdown",
   "id": "fdb127e3",
   "metadata": {},
   "source": [
    "\\begin{equation} \n",
    "\\underline{H} = \\frac{\\underline{U}_2}{\\underline{U}_1} = \\frac{\\underline{Z}_2}{\\underline{Z}_1+\\underline{Z}_2} \n",
    "= \\frac{R_2+\\frac{1}{j \\omega C}}{R_1+R_2+\\frac{1}{j \\omega C}} \n",
    "= \\frac{1+j \\omega R_2C}{1 + j \\omega (R_1+R_2)C}\n",
    "\\end{equation}"
   ]
  },
  {
   "cell_type": "markdown",
   "id": "ed456af4",
   "metadata": {},
   "source": [
    "### Betrag und Phase\n",
    "Stellen Sie den Betrag und den Phasenwinkel von $\\underline{H}$ als Funktion von $\\omega$ für den Fall\n",
    "$R_1 = \\SI{1}{\\ohm}$, $R_2 = \\SI{100}{\\ohm}$ und $C = \\SI{1}{\\micro\\farad}$ mit Matlab dar."
   ]
  },
  {
   "cell_type": "markdown",
   "id": "260f2ef0",
   "metadata": {},
   "source": [
    "#### Lösung\n",
    "Mit der Vorarbeit aus Aufg. 3.1 können Sie die Ausdrücke für Betrag und Phase der Spannungsübertragungsfunktion\n",
    "$\\underline{H}$ direkt ablesen. Der Betrag ist der Quotient der Beträge von Zähler und Nenner.\n",
    "\n",
    "\\begin{equation}\n",
    "\\vert \\underline{H} \\vert =  \\frac{\\vert 1 + j \\omega R_2 C \\vert}{\\vert 1 + j \\omega (R_1+R_2) C \\vert} \n",
    "= \\frac{\\sqrt{1 + (\\omega R_2 C)^2}}{\\sqrt{1+(\\omega (R_1+R_2) C)^2}} \n",
    "= \\sqrt{\\frac{1 + (\\omega R_2 C)^2}{1 + (\\omega (R_1+R_2) C)^2}}\n",
    "\\end{equation}"
   ]
  },
  {
   "cell_type": "markdown",
   "id": "5262efe0",
   "metadata": {},
   "source": [
    "Für die Phase, das Argument von $\\underline{H}$, kann auch der Quotient der Argumente von Zähler und Nenner gebildet\n",
    "werden.\n",
    "\n",
    "\\begin{equation}\n",
    "\\arg(\\underline{H}) = \\frac{\\arg(1 + j \\omega R_2 C)}{\\arg(1 + j \\omega (R_1+R_2) C)} \n",
    "= \\frac{\\arctan(\\omega R_2 C)}{\\arctan(\\omega (R_1+R_2) C)} \n",
    "= \\arctan(\\omega R_2 C) - \\arctan(\\omega (R_1+R_2) C)\n",
    "\\end{equation}\n"
   ]
  },
  {
   "cell_type": "code",
   "execution_count": null,
   "id": "1ba317a5",
   "metadata": {
    "editable": true
   },
   "outputs": [],
   "source": [
    "import numpy as np\n",
    "import matplotlib.pyplot as plt\n",
    "\n",
    "# %% Definitionen\n",
    "\n",
    "# Datenbereich\n",
    "f = np.logspace(0, 6)  # Hz logarithmisch\n",
    "w = 2 * np.pi * f\n",
    "\n",
    "# Bauteilwerte\n",
    "R1 = 1\n",
    "R2 = 100\n",
    "C = 1e-6\n",
    "\n",
    "# Uebertragungsfunktion\n",
    "H = (1 + 1j * w * R2 * C) / (1 + 1j * w * (R1 + R2) * C)\n",
    "\n",
    "# %% Erstellen des Bode-Diagramms\n",
    "\n",
    "# Mit direkten Funktionen aus numpy\n",
    "fig1 = plt.figure(1)\n",
    "plt.subplot(2, 1, 1)\n",
    "plt.semilogx(f, np.abs(H))\n",
    "plt.grid()\n",
    "plt.ylabel(r'|H|')\n",
    "plt.subplot(2, 1, 2)\n",
    "plt.semilogx(f, 180 / np.pi * np.angle(H))\n",
    "plt.grid()\n",
    "plt.ylabel(r'arg(H)/Grad')\n",
    "plt.xlabel(r'Frequenz f/Hz')\n",
    "plt.show()\n",
    "\n",
    "\n",
    "# Mit eigenen Berechnungen\n",
    "# Betrag der Uebertragungsfunktion\n",
    "abs_H = np.sqrt((1 + np.square(w * R2 * C)) / (1 + np.square(w * (R1 + R2) * C)))\n",
    "\n",
    "# Phase bzw. Argument der Uebertragungsfunktion\n",
    "arg_H = np.arctan(w * R2 * C) - np.arctan(w * (R1 + R2) * C)\n",
    "\n",
    "fig2 = plt.figure(2)\n",
    "plt.subplot(2, 1, 1)\n",
    "plt.semilogx(f, abs_H)\n",
    "plt.grid()\n",
    "plt.ylabel(r'|H|')\n",
    "plt.subplot(2, 1, 2)\n",
    "plt.semilogx(f, 180 / np.pi * arg_H)\n",
    "plt.grid()\n",
    "plt.ylabel(r'arg(H)/Grad')\n",
    "plt.xlabel(r'Frequenz f/Hz')\n",
    "plt.show()"
   ]
  },
  {
   "cell_type": "markdown",
   "id": "7328ef23",
   "metadata": {},
   "source": [
    "```{figure} ../images/exercise/hw3p3b.png\n",
    ":width: 400\n",
    "\n",
    "Bode-Diagramm.\n",
    "```"
   ]
  }
 ],
 "metadata": {
  "kernelspec": {
   "display_name": "Python 3 (ipykernel)",
   "language": "python",
   "name": "python3"
  }
 },
 "nbformat": 4,
 "nbformat_minor": 5
}